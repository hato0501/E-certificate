{
  "nbformat": 4,
  "nbformat_minor": 0,
  "metadata": {
    "colab": {
      "name": "Day1演習.ipynb",
      "provenance": [],
      "collapsed_sections": [],
      "toc_visible": true,
      "include_colab_link": true
    },
    "kernelspec": {
      "display_name": "Python 3",
      "language": "python",
      "name": "python3"
    },
    "language_info": {
      "codemirror_mode": {
        "name": "ipython",
        "version": 3
      },
      "file_extension": ".py",
      "mimetype": "text/x-python",
      "name": "python",
      "nbconvert_exporter": "python",
      "pygments_lexer": "ipython3",
      "version": "3.7.3"
    }
  },
  "cells": [
    {
      "cell_type": "markdown",
      "metadata": {
        "id": "view-in-github",
        "colab_type": "text"
      },
      "source": [
        "<a href=\"https://colab.research.google.com/github/hato0501/E-certificate/blob/main/Day1%E6%BC%94%E7%BF%92.ipynb\" target=\"_parent\"><img src=\"https://colab.research.google.com/assets/colab-badge.svg\" alt=\"Open In Colab\"/></a>"
      ]
    },
    {
      "cell_type": "markdown",
      "metadata": {
        "id": "gZ-6_bCyV9vP"
      },
      "source": [
        "# 全人類がわかるディープラーニング Day1演習\n",
        "\n",
        "## 概要\n",
        "\n",
        "本演習では深層学習の基礎である多層パーセプトロンによる学習を穴埋め形式で実装します。<br>\n",
        "予め用意されたコード（訓練用・テスト用データの取得、ミニバッチ学習など）はそのまま使用し、指示された穴埋め部（順伝播と誤差逆伝播）を編集してください。<br>\n",
        "問題は全20問、大きく2つの大問に分かれ、それぞれに10の小問がついています。問題文は<font color=\"Red\">赤字</font>で表示されています。<br>\n",
        "このファイルは必ず最後までコードをすべて実行し、「最後までコードが実行可能」・「学習結果の出力がある」・「学習が成功している」の３つを満たした状態で提出してください。\n",
        "\n",
        "所要時間：3~5時間"
      ]
    },
    {
      "cell_type": "markdown",
      "metadata": {
        "id": "xOUGJkhcV9vQ"
      },
      "source": [
        "## 大問１ 回帰モデル演習\n",
        "\n",
        "### ライブラリのインポート\n",
        "\n",
        "必要なライブラリをインポートします。エラーになる場合は該当するものをインストールしてください。"
      ]
    },
    {
      "cell_type": "code",
      "metadata": {
        "id": "7MatX272V9vR"
      },
      "source": [
        "import csv\n",
        "import cv2\n",
        "import os\n",
        "import pickle\n",
        "import numpy as np\n",
        "import matplotlib.pyplot as plt\n",
        "from mpl_toolkits.mplot3d import Axes3D\n",
        "from sklearn import datasets\n",
        "from sklearn.model_selection import train_test_split\n",
        "%matplotlib inline\n",
        "# \"%matplotlib inline\" の代わりに以下のコマンドを使用できる場合、3次元で座標軸を操作可能なプロットを表示することができます。\n",
        "# %matplotlib notebook\n",
        "\n",
        "\n",
        "# 乱数シードを指定\n",
        "np.random.seed(seed=0)"
      ],
      "execution_count": 1,
      "outputs": []
    },
    {
      "cell_type": "markdown",
      "metadata": {
        "id": "_iTHROrWV9vT"
      },
      "source": [
        "### データの３次元散布図を作成する関数\n",
        "\n",
        "データ可視化に使用します。演習の問題とは関係ありませんので読み飛ばしてください。"
      ]
    },
    {
      "cell_type": "code",
      "metadata": {
        "id": "yHUAp5A8V9vT"
      },
      "source": [
        "def plot_data(data, name='Data Plot'):\n",
        "    # グラフ作成\n",
        "    fig = plt.figure()\n",
        "    ax = Axes3D(fig)\n",
        "\n",
        "    # 軸ラベルの設定\n",
        "    ax.set_xlabel(\"X0-axis\")\n",
        "    ax.set_ylabel(\"X1-axis\")\n",
        "    ax.set_zlabel(\"Y-axis\")\n",
        "\n",
        "    # 表示範囲の設定\n",
        "    ax.set_xlim(-2, 2)\n",
        "    ax.set_ylim(-2, 2)\n",
        "    ax.set_zlim(0, 10)\n",
        "\n",
        "    ax.plot(data[:, 0], data[:, 1], data[:, 2],\n",
        "            \"o\", color=\"#ff2222\", ms=2, mew=0.5)\n",
        "    ax.set_title(name)\n",
        "    plt.show()"
      ],
      "execution_count": 2,
      "outputs": []
    },
    {
      "cell_type": "markdown",
      "metadata": {
        "id": "mI9FnjLqV9vV"
      },
      "source": [
        "### データの読み込み\n",
        "\n",
        "本演習では、train_data.csvを訓練用データ、test_data.csvをテスト用データとして使用します。データはx0, x1, yの3列からなり、以下の式に従っています。\n",
        "\n",
        "$$ y = \\left\\{ \\begin{array}{ll} (x_0-1)^2 + (x_1-1)^2 & (x_0 \\gt 0) \\\\ (x_0+1)^2 + (x_1+1)^2 & (x_0 \\leq 0) \\end{array} \\right. $$\n",
        "\n",
        "訓練データ10000個の(x0, x1, y)の組を多層パーセプトロンで学習し、テストデータ2000個の学習におけるコストの推移を観測します。\n",
        "まずはデータのプロットを表示してみます。\n",
        "\n",
        "※ここでエラーとなっている場合はライブラリのインポートが完了していないか、正常にデータを読み込めていません。同ディレクトリ内にダウンロードした`train_data.csv`と`test_data.csv`が存在していることを確認してください。"
      ]
    },
    {
      "cell_type": "code",
      "metadata": {
        "id": "XM3KcYopV9vV",
        "scrolled": true,
        "outputId": "e0edd5bc-6700-48c3-f8e2-4acc08541895",
        "colab": {
          "base_uri": "https://localhost:8080/",
          "height": 319
        }
      },
      "source": [
        "# データの読み込み\n",
        "with open('train_data.csv') as f:\n",
        "    reader = csv.reader(f)\n",
        "    train_data = np.array([[float(x) for x in row] for row in reader])\n",
        "with open('test_data.csv') as f:\n",
        "    reader = csv.reader(f)\n",
        "    test_data = np.array([[float(x) for x in row] for row in reader])\n",
        "\n",
        "# 訓練データを可視化\n",
        "plot_data(train_data, 'Train Data')"
      ],
      "execution_count": 6,
      "outputs": [
        {
          "output_type": "display_data",
          "data": {
            "image/png": "[encoded data removed]",
            "text/plain": [
              "<Figure size 432x288 with 1 Axes>"
            ]
          },
          "metadata": {
            "tags": [],
            "needs_background": "light"
          }
        }
      ]
    },
    {
      "cell_type": "markdown",
      "metadata": {
        "id": "mW-UkTq3V9vY"
      },
      "source": [
        "### データの数"
      ]
    },
    {
      "cell_type": "code",
      "metadata": {
        "id": "2Ru3iZ5yV9vY",
        "outputId": "e98175dc-75ba-419e-c704-5fdce970b8a6",
        "colab": {
          "base_uri": "https://localhost:8080/",
          "height": 51
        }
      },
      "source": [
        "N_train = train_data.shape[0]\n",
        "print('訓練データの数: ', N_train)\n",
        "N_test = test_data.shape[0]\n",
        "print('テストデータの数: ', N_test)"
      ],
      "execution_count": 7,
      "outputs": [
        {
          "output_type": "stream",
          "text": [
            "訓練データの数:  10000\n",
            "テストデータの数:  2000\n"
          ],
          "name": "stdout"
        }
      ]
    },
    {
      "cell_type": "markdown",
      "metadata": {
        "id": "xXM_DlAfV9va"
      },
      "source": [
        "### 活性化関数 relu\n",
        "\n",
        "<font color=\"Red\">問1-1 relu関数を完成させてください。</font>\n",
        "- 以下の式で定義されるrelu関数を実装します。\n",
        "$$ x = relu(v) = \\left\\{ \\begin{array}{ll} v & (v \\gt 0) \\\\ 0 & (v \\leq 0) \\end{array} \\right. $$\n",
        "- 引数`v`の各要素と0の大きい方を取り、`x`とします。\n",
        "- ヒント: numpy.maximum()\n"
      ]
    },
    {
      "cell_type": "code",
      "metadata": {
        "id": "J4NBTAmMV9va"
      },
      "source": [
        "def relu(v):\n",
        "    '''\n",
        "    活性化関数 relu\n",
        "    v: (float) [N, M]\n",
        "    x: (float) [N, M]\n",
        "    '''\n",
        "    x = max(0,v)\n",
        "    return x"
      ],
      "execution_count": 3,
      "outputs": []
    },
    {
      "cell_type": "markdown",
      "metadata": {
        "id": "Ok40MMDdV9vc"
      },
      "source": [
        "### コスト関数 平均二乗誤差\n",
        "\n",
        "<font color=\"Red\">問1-2 関数を完成させてください。</font>\n",
        "- 以下の式で定義されるコスト関数を実装します。\n",
        "$$ MSE = \\frac{1}{n} \\sum_{i}^{n} \\sum_{j}^{k} (t_{ij}-y_{ij})^2 $$\n",
        "$$ n:バッチサイズ, k:出力の次元 $$\n",
        "- `t`と`y`の差の2乗の平均を取り、`mse`とします。\n",
        "- ヒント: numpy.sum(), numpy.mean(), numpy.square()"
      ]
    },
    {
      "cell_type": "code",
      "metadata": {
        "id": "iWUtjg7lV9vc"
      },
      "source": [
        "def MSE(t, y):\n",
        "    '''\n",
        "    コスト関数 Mean Squared Error\n",
        "    t: (float) [N, M]     \n",
        "    y: (float) [N, M]\n",
        "    mse: (float)\n",
        "    '''\n",
        "    mse = #### 問1-2 ####\n",
        "    return mse"
      ],
      "execution_count": null,
      "outputs": []
    },
    {
      "cell_type": "markdown",
      "metadata": {
        "id": "Y2J_LDgPV9ve"
      },
      "source": [
        "### 多層パーセプトロンの定義\n",
        "\n",
        "<font color=\"Red\">問1-3 ~ 1-6 順伝播forward関数を完成させてください。</font>\n",
        "- 以下の式で定義される順伝播を実装します。(Φは活性化関数)\n",
        "$$\n",
        "X_{i+1} = \\phi(X_i \\cdot W_i + B_i)\n",
        "$$    \n",
        "- 第1層`self.layer1`を定義します。入力層`self.layer0`と重み`self.w1`との内積を取り、バイアス`self.b1`を加算します。そして活性化関数`relu`に渡します。\n",
        "- 第2層`self.layer2`を定義します。第1層`self.layer1`と重み`self.w2`との内積を取り、バイアス`self.b2`を加算します。そして活性化関数`relu`に渡します。\n",
        "- 第3層`self.layer3`を定義します。第2層`self.layer2`と重み`self.w3`との内積を取り、バイアス`self.b3`を加算します。そして活性化関数`relu`に渡します。\n",
        "- 出力層`self.out`を定義します。第3層`self.layer3`と重み`self.w4`との内積を取り、バイアス`self.b4`を加算します。\n",
        "- 出力層では活性化関数Φは使用しないことに注意せよ\n",
        "- ヒント: np.dot()<br>\n",
        "\n",
        "<font color=\"Red\"> 問1-7 ~ 1-10 逆伝播によって誤差と勾配を求めるbackward関数を完成させてください。</font>\n",
        "- 出力層誤差`delta4`を定義します。二乗誤差の微分なので、以下の式に従います。\n",
        "$$\n",
        "\\delta_{out} = \\frac{d(T-Y)^2}{dY} = -2(T-Y)\n",
        "$$\n",
        "- 誤差逆伝播は以下の式に従います。\n",
        "$$\n",
        "\\delta_i = \\phi'(v_{i+1})*\\delta_{i+1} \\cdot W_{i+1}^t \n",
        "$$\n",
        "$$\n",
        "\\phi'(v_i) = \\left\\{ \\begin{array}{ll} v_i \\frac{d}{dv_i} & (v_i \\gt 0) \\\\ 0 \\frac{d}{dv_i} & (v_i \\leq 0) \\end{array} \\right. = \n",
        "\\left\\{ \\begin{array}{ll} 1 & (v_i \\gt 0) \\\\ 0 & (v_i \\leq 0) \\end{array} \\right. = \n",
        "\\left\\{ \\begin{array}{ll} 1 & (x_i \\gt 0) \\\\ 0 & (x_i \\leq 0) \\end{array} \\right.\n",
        "\\\\\n",
        "\\phi(v_i) = x_i\n",
        "$$\n",
        "- 第3層誤差`delta3`を定義します。出力層誤差`delta4`と重み`self.w4`の転置との内積を取ります。\n",
        "- 第2層誤差`delta2`を定義します。第3層誤差`delta3`と第3層`self.layer3`におけるreluの微分との積を取り、重み`self.w3`の転置との内積を取ります。\n",
        "- 第1層誤差`delta1`を定義します。第2層誤差`delta2`と第2層`self.layer2`におけるreluの微分との積を取り、重み`self.w2`の転置との内積を取ります。\n",
        "- ヒント: numpy.dot(), numpy.transpose()\n",
        "- ヒント: reluの微分は該当する層の各要素が0より大きいものは1, 0以下のものは0としたベクトルに等しい\n",
        "    "
      ]
    },
    {
      "cell_type": "code",
      "metadata": {
        "id": "5hZNQQwG_I2O"
      },
      "source": [
        "# 識別モデル\n",
        "class MLP_regressor():\n",
        "    '''\n",
        "    多層パーセプトロン Multi Layered Perceptron\n",
        "    構成: [入力層, 第1層, 第2層, 第3層, 出力層]\n",
        "    ノード数: [2, 50, 50, 10, 1]\n",
        "    '''\n",
        "\n",
        "    def __init__(self):\n",
        "        '''\n",
        "        コンストラクタ\n",
        "        パラメータ（重みw, バイアスb）の定義\n",
        "        第1層重み self.w1: [2, 50] 平均0, 標準偏差0.1の乱数\n",
        "        第2層重み self.w2: [50, 50] 平均0, 標準偏差0.1の乱数\n",
        "        第3層重み self.w3: [50, 10] 平均0, 標準偏差0.1の乱数\n",
        "        第4層重み self.w4: [10, 1] 平均0, 標準偏差0.1の乱数\n",
        "        \n",
        "        第1層バイアス self.b1: [50] 要素が全て0\n",
        "        第2層バイアス self.b2: [50] 要素が全て0\n",
        "        第3層バイアス self.b3: [10] 要素が全て0\n",
        "        第4層バイアス self.b4: [1] 要素が全て0\n",
        "        \n",
        "        numpyの乱数については以下のページを参照\n",
        "        https://docs.scipy.org/doc/numpy/reference/routines.random.html\n",
        "        '''\n",
        "        \n",
        "        # 重みの定義\n",
        "        self.w1 = np.random.randn(2, 50) * 0.1\n",
        "        self.w2 = np.random.randn(50, 50) * 0.1\n",
        "        self.w3 = np.random.randn(50, 10) * 0.1\n",
        "        self.w4 = np.random.randn(10, 1) * 0.1\n",
        "\n",
        "        # バイアスの定義\n",
        "        self.b1 = np.zeros(50, dtype=float)\n",
        "        self.b2 = np.zeros(50, dtype=float)\n",
        "        self.b3 = np.zeros(10, dtype=float)\n",
        "        self.b4 = np.zeros(1, dtype=float)\n",
        "\n",
        "    def forward(self, x):\n",
        "        '''\n",
        "        順伝播\n",
        "        入力 x: [N, 2]\n",
        "        入力層 self.layer0: [N, 2]\n",
        "        第1層 self.layer1: [N, 50]\n",
        "        第2層 self.layer2: [N, 50]\n",
        "        第3層 self.layer3: [N, 10]\n",
        "        出力層 self.out: [N, 1]\n",
        "        '''\n",
        "        \n",
        "        self.layer0 = x\n",
        "        self.layer1 = #### 問1-3 ####\n",
        "        self.layer2 = #### 問1-4 ####\n",
        "        self.layer3 = #### 問1-5 ####\n",
        "        self.out = #### 問1-6 ####\n",
        "        return self.out\n",
        "\n",
        "    def backward(self, t, y):\n",
        "        '''\n",
        "        逆伝播\n",
        "        真の値 t: [N, 1]\n",
        "        予測値 y: [N, 1]\n",
        "        \n",
        "        出力層誤差 delta4: [N, 1]\n",
        "        第3層誤差 delta3: [N, 10]\n",
        "        第2層誤差 delta2: [N, 50]\n",
        "        第1層誤差 delta1: [N, 50]\n",
        "        \n",
        "        第4層b勾配 dedb4: [1]\n",
        "        第3層b勾配 dedb3: [10]\n",
        "        第2層b勾配 dedb2: [50]\n",
        "        第1層b勾配 dedb1: [50]\n",
        "        \n",
        "        第4層w勾配 dedw4: [10, 1]\n",
        "        第3層w勾配 dedw3: [50, 10]\n",
        "        第2層w勾配 dedw2: [50, 50]\n",
        "        第1層w勾配 dedw1: [2, 50]\n",
        "        '''\n",
        "        \n",
        "        # 出力層の誤差デルタは二乗誤差の微分\n",
        "        delta4 = #### 問1-7 ####\n",
        "        # 誤差逆伝播\n",
        "        delta3 = #### 問1-8 ####\n",
        "        delta2 = #### 問1-9 ####\n",
        "        delta1 = #### 問1-10 ####\n",
        "\n",
        "        # バイアスbのコスト関数eに対する勾配\n",
        "        self.dedb4 = np.mean(delta4, axis=0)\n",
        "        self.dedb3 = np.mean(delta3 * (self.layer3 > 0), axis=0)\n",
        "        self.dedb2 = np.mean(delta2 * (self.layer2 > 0), axis=0)\n",
        "        self.dedb1 = np.mean(delta1 * (self.layer1 > 0), axis=0)\n",
        "\n",
        "        # 重みwのコスト関数eに対する勾配\n",
        "        self.dedw4 = np.dot(self.layer3.T, delta4) / delta4.shape[0]\n",
        "        self.dedw3 = np.dot(self.layer2.T, delta3 * (self.layer3 > 0)) / delta3.shape[0]\n",
        "        self.dedw2 = np.dot(self.layer1.T, delta2 * (self.layer2 > 0)) / delta2.shape[0]\n",
        "        self.dedw1 = np.dot(self.layer0.T, delta1 * (self.layer1 > 0)) / delta1.shape[0]\n",
        "\n",
        "    def optimize_GradientDecent(self, lr):\n",
        "        '''\n",
        "        勾配降下法によるパラメータの更新\n",
        "        '''\n",
        "        self.b1 -= lr * self.dedb1\n",
        "        self.b2 -= lr * self.dedb2\n",
        "        self.b3 -= lr * self.dedb3\n",
        "        self.b4 -= lr * self.dedb4\n",
        "\n",
        "        self.w1 -= lr * self.dedw1\n",
        "        self.w2 -= lr * self.dedw2\n",
        "        self.w3 -= lr * self.dedw3\n",
        "        self.w4 -= lr * self.dedw4"
      ],
      "execution_count": null,
      "outputs": []
    },
    {
      "cell_type": "markdown",
      "metadata": {
        "id": "t6W3OikUV9vh"
      },
      "source": [
        "### 学習\n",
        "\n",
        "以下ではこれまでで定義した多層パーセプトロンを使用し、データを学習します。\n",
        "コストが正常に減少し、500epochで0.5以下にまで到達していれば学習は成功していると言えます。"
      ]
    },
    {
      "cell_type": "code",
      "metadata": {
        "id": "Yjt_19ceV9vi"
      },
      "source": [
        "# モデルの定義\n",
        "model = MLP_regressor()\n",
        "\n",
        "# 学習率\n",
        "lr = 0.01\n",
        "# 学習エポック数\n",
        "n_epoch = 500\n",
        "\n",
        "x_train = train_data[:, 0:2]\n",
        "t_train = train_data[:, 2:3]\n",
        "x_test = test_data[:, 0:2]\n",
        "t_test = test_data[:, 2:3]\n",
        "\n",
        "# n_epoch繰り返す\n",
        "for n in range(n_epoch):\n",
        "    # 訓練\n",
        "    # Day1範囲外のため、ミニバッチは使用しない\n",
        "    y = model.forward(x_train)\n",
        "    train_loss = MSE(t_train, y)\n",
        "    model.backward(t_train, y)\n",
        "    model.optimize_GradientDecent(lr)\n",
        "\n",
        "    # テスト\n",
        "    y = model.forward(x_test)\n",
        "    test_loss = MSE(t_test, y)\n",
        "\n",
        "    print('EPOCH ', n + 1, ' | TRAIN LOSS ',\n",
        "          train_loss, ' | TEST LOSS ', test_loss)\n",
        "regression_loss = test_loss"
      ],
      "execution_count": null,
      "outputs": []
    },
    {
      "cell_type": "markdown",
      "metadata": {
        "id": "lrSDsuRJV9vj"
      },
      "source": [
        "### 予測データの散布図\n",
        "\n",
        "予測値の散布図と訓練データの散布図を比較してみましょう。"
      ]
    },
    {
      "cell_type": "code",
      "metadata": {
        "id": "4ZD_ICriV9vk"
      },
      "source": [
        "y = model.forward(x_test)\n",
        "predict_data = np.concatenate([x_test, y], axis=1)\n",
        "plot_data(predict_data, 'Predict Data')"
      ],
      "execution_count": null,
      "outputs": []
    },
    {
      "cell_type": "markdown",
      "metadata": {
        "id": "XsQUpnKUuono"
      },
      "source": [
        "## 大問２ 分類モデル演習\n",
        "\n",
        "大問１では層ごとに変数を定義し全計算を実装しましたが、大問２ではクラスと計算グラフを利用し、より汎用的なモデルを設計します。\n",
        "\n",
        "### データの読み込み\n",
        "\n",
        "本演習では、mnist(手書き数字データセット)を使用し、全結合ネットワークで手書き数字の画像の10分類を行います。"
      ]
    },
    {
      "cell_type": "code",
      "metadata": {
        "id": "eQTqyXx7uonq"
      },
      "source": [
        "# mnistデータセットのロード(ネットワーク接続が必要・少し時間がかかります)\n",
        "if os.path.exists('mnist_784'):\n",
        "    with open('mnist_784','rb') as f:\n",
        "        mnist = pickle.load(f)\n",
        "else:\n",
        "    mnist = datasets.fetch_openml('mnist_784')\n",
        "    with open('mnist_784', 'wb') as f:\n",
        "        pickle.dump(mnist, f)\n",
        "    \n",
        "# 画像とラベルを取得\n",
        "X, T = mnist.data, mnist.target\n",
        "# 訓練データとテストデータに分割\n",
        "X_train, X_test, T_train, T_test = train_test_split(X, T, test_size=0.2)"
      ],
      "execution_count": null,
      "outputs": []
    },
    {
      "cell_type": "code",
      "metadata": {
        "id": "2DTNnp49uons"
      },
      "source": [
        "# ラベルデータをint型にし、one-hot-vectorに変換します\n",
        "T_train = np.eye(10)[T_train.astype(\"int\")]\n",
        "T_test = np.eye(10)[T_test.astype(\"int\")]"
      ],
      "execution_count": null,
      "outputs": []
    },
    {
      "cell_type": "markdown",
      "metadata": {
        "id": "oM_kyhBXuonu"
      },
      "source": [
        "### one-hot-vectorとは？\n",
        "たとえば$a$が，0~9の整数のみを含むベクトルだとわかっている時に、各要素を数字に該当する列の要素のみが1、その他が0となるようなベクトルにする。\n",
        "$$\n",
        "\\begin{equation*}\n",
        "a=\n",
        "\\begin{pmatrix}\n",
        "1\\\\\n",
        "8\\\\\n",
        "4\\\\\n",
        "2\\\\\n",
        "0\n",
        "\\end{pmatrix}\\to\n",
        "a\\_onehot = \n",
        "\\begin{pmatrix}\n",
        "0, 1, 0, 0, 0, 0, 0, 0, 0, 0\\\\\n",
        "0, 0, 0, 0, 0, 0, 0, 0, 1, 0\\\\\n",
        "0, 0, 0, 0, 1, 0, 0, 0, 0, 0\\\\\n",
        "0, 0, 1, 0, 0, 0, 0, 0, 0, 0\\\\\n",
        "1, 0, 0, 0, 0, 0, 0, 0, 0, 0\n",
        "\\end{pmatrix}\n",
        "\\end{equation*}\n",
        "$$\n",
        "学習する正解ラベルデータは，one-hot-vectorで表されることが多い．"
      ]
    },
    {
      "cell_type": "markdown",
      "metadata": {
        "id": "9ceab9_1uonu"
      },
      "source": [
        "### データの構造\n",
        "データ数、画像データXの形、ラベルTの形などを調べます。"
      ]
    },
    {
      "cell_type": "code",
      "metadata": {
        "id": "YspD5XgIuonv"
      },
      "source": [
        "N_train = len(X_train)\n",
        "N_test = len(X_test)\n",
        "X_shape = X_train[0].shape\n",
        "T_shape = T_train[0].shape\n",
        "\n",
        "print('訓練データ数\\t', N_train)\n",
        "print('テストデータ数\\t', N_test)\n",
        "print('説明変数の形\\t', X_shape)\n",
        "print('ラベルの形\\t', T_shape)"
      ],
      "execution_count": null,
      "outputs": []
    },
    {
      "cell_type": "markdown",
      "metadata": {
        "id": "dftd7w9-uon0"
      },
      "source": [
        "### データのサンプリング\n",
        "画像・ラベルデータをランダムにいくつか取り出して可視化します。\n",
        "画像は784要素の1次元ベクトルとしてXに格納されていますが、画像として表示するときは28x28の二次元にreshapeします。"
      ]
    },
    {
      "cell_type": "code",
      "metadata": {
        "id": "-BzfHL2guon1"
      },
      "source": [
        "# テストデータをランダムサンプリング\n",
        "perm = np.random.permutation(len(X_test))\n",
        "# サンプル画像を表示する\n",
        "plt.gray()\n",
        "for i in perm[:3]:\n",
        "    plt.imshow(X_test[perm[i]].reshape(28, 28))\n",
        "    plt.show()\n",
        "    print('Label: ', np.argmax(T_test[perm[i]]))"
      ],
      "execution_count": null,
      "outputs": []
    },
    {
      "cell_type": "markdown",
      "metadata": {
        "id": "7TXsI9Aruon3"
      },
      "source": [
        "### softmax関数\n",
        "<font color=\"Red\">問2-1, 2-2 softmax関数を完成させてください。</font>\n",
        "\n",
        "```\n",
        "引数:\n",
        "    x: [N, M] (np.float)\n",
        "       Nはバッチサイズにあたる\n",
        "返値:\n",
        "    [N, M] (np.float)\n",
        "```\n",
        "\n",
        "バッチ計算が可能なsoftmax関数を実装します。<br>\n",
        "exp関数がオーバーフローすることを防ぐために、各データについて入力信号の最大値を引いて、0以下にします。<br>\n",
        "    numpyでは```[N, M] - [N]```の計算はブロードキャストができませんので、```x```を転置し```[M, N] - [N]```の形で計算を行ったあと、さらに転置をして元の形に戻します。\n",
        "$$\n",
        "softmax(x_{ij}) = \\frac{e^{x_{ij}'}}{\\sum_{k}^{M}{e^{x_{ik}'}}} \\\\ \n",
        "    x_{ij}' = x_{ij} - max_{j}x_{ij}\n",
        "$$"
      ]
    },
    {
      "cell_type": "code",
      "metadata": {
        "id": "dmUxqrtXuon4"
      },
      "source": [
        "def softmax(x):\n",
        "    x = x.T\n",
        "    _x = #### 問2-1 ####\n",
        "    _x = #### 問2-2 ####\n",
        "    return _x.T"
      ],
      "execution_count": null,
      "outputs": []
    },
    {
      "cell_type": "markdown",
      "metadata": {
        "id": "ckvG-P7Muon8"
      },
      "source": [
        "### 交差エントロピー誤差\n",
        "<font color=\"Red\">問2-3 交差エントロピー誤差を完成させてください。</font>\n",
        "```\n",
        "引数:\n",
        "    t: [N, M] (np.float)\n",
        "    y: [N, M] (np.float)\n",
        "返値:\n",
        "    error: (np.float)\n",
        "```\n",
        "バッチ計算が可能な交差エントロピー誤差関数を実装します。<br>\n",
        "```y == 0```のときlog関数が破綻しないよう、$ y $ に小さな値 $ \\delta = 10^{-8}$ を加算します。\n",
        "error は 以下の式に従います。\n",
        "$$ error = -\\frac {1}{N} \\sum_{i}^{N} \\sum_{j}^{M} {t_{ij} * log{(y_{ij} + \\delta)}} $$"
      ]
    },
    {
      "cell_type": "code",
      "metadata": {
        "id": "K-zLEGCJuon8"
      },
      "source": [
        "def cross_entropy_error(t, y):\n",
        "    delta = 1e-8\n",
        "    error = #### 問2-3 ####\n",
        "    return error"
      ],
      "execution_count": null,
      "outputs": []
    },
    {
      "cell_type": "markdown",
      "metadata": {
        "id": "jQ-MMtfhuon_"
      },
      "source": [
        "### ソフトマックスクロスエントロピー誤差\n",
        "<font color=\"Red\">問2-4 ソフトマックスクロスエントロピー誤差を完成させてください。</font>\n",
        "\n",
        "ソフトマックスクロスエントロピー誤差の順伝播と逆伝播のクラスを実装します。<br>\n",
        "順伝播```__call__(self, t, y)```ではyのソフトマックスを取り、tとのクロスエントロピー誤差を返します。その際にyとtをインスタンス変数self.yとself.tに記憶します。関数名を```__call__```としているのは、**関数オブジェクト**を作ることで\"インスタンス名()\"で順伝播を呼び出せるようにするためです。<br>\n",
        "逆伝播```backward(self)```では、順伝播で記憶されたself.yとself.tを使用して誤差に対する(softmaxを通す前の)yの勾配dyを計算します。<br>\n",
        "yの勾配は以下の式に従います。<br>\n",
        "※コードの```dy```と式の$ dy $は意味が異なり、```dy``` = $ \\frac {dL(t, y)}{dy} $であることに注意してください。\n",
        "$$ \\frac {dL(t, y)}{dy} = softmax(y) - t $$\n",
        "また、以降の計算ではバッチの平均を取るため、dyはバッチサイズで割ってから返します。"
      ]
    },
    {
      "cell_type": "code",
      "metadata": {
        "id": "tQ2HOaMjuooA"
      },
      "source": [
        "class SoftmaxCrossEntropyLoss():\n",
        "    def __init__(self):\n",
        "        self.y = None\n",
        "        self.t = None\n",
        "        self.loss = None\n",
        "        \n",
        "    def __call__(self, t, y):\n",
        "        self.y = softmax(y)\n",
        "        self.t = t.copy()\n",
        "        self.loss = cross_entropy_error(self.t, self.y)\n",
        "        return self.loss\n",
        "    \n",
        "    def backward(self):\n",
        "        batch_size = self.t.shape[0]\n",
        "        dy = #### 問2-4 ####\n",
        "        dy /= batch_size\n",
        "        return dy"
      ],
      "execution_count": null,
      "outputs": []
    },
    {
      "cell_type": "markdown",
      "metadata": {
        "id": "RUqBmGWkuooG"
      },
      "source": [
        "### 全結合層\n",
        "<font color=\"Red\">問2-5 ~ 2-8 全結合層クラスを完成させてください。</font>\n",
        "\n",
        "全結合層の順伝播と逆伝播のクラスを実装します。\n",
        "```\n",
        "インスタンス変数:\n",
        "    self.w: [N, M] (np.float)\n",
        "            層の重み。正規分布で初期化。\n",
        "    self.b: [M] (np.float)\n",
        "            層のバイアス。ゼロで初期化。\n",
        "    self.x: [L, N] (np.float)\n",
        "            層の入力信号を記録。Lはバッチサイズ\n",
        "    self.dw: [N, M] (np.float)\n",
        "            層の重みの勾配\n",
        "    self.db: [M] (np.float)\n",
        "            層のバイアスの勾配\n",
        "            \n",
        "__call__(self, x):\n",
        "    引数:\n",
        "        x: [L, N] (np.float)\n",
        "            入力信号\n",
        "    返値:\n",
        "        out: [L, M] (np.float)\n",
        "            出力信号\n",
        "\n",
        "backward(self, dout):\n",
        "    引数:\n",
        "        dout: [L, M] (np.float)\n",
        "            出力信号の勾配\n",
        "    返値:\n",
        "        dx: [L, N] (np.float)\n",
        "            入力信号の勾配\n",
        "        \n",
        "```\n",
        "順伝播```__call__(self, x)```は入力信号xを層の重み```self.w```とバイアス```self.b```でアフィン変換し出力とします。\n",
        "計算は以下の式に従います。\n",
        "$$\n",
        "Affine(x) = x \\cdot w + b\n",
        "$$\n",
        "逆伝播```backward(self, dout)```は出力側の勾配[L, M]を入力側に逆伝播ます。入力の勾配```dx```、重みの勾配```dw```、バイアスの勾配```db```それぞれを計算し、```dx```を返します。\n",
        "計算は以下の式に従います。\n",
        "$$\n",
        "grad(x_{ij}) = \\sum_{k} grad(out_{ik}) \\frac{dout_{ik}}{dx_{ij}}\n",
        "$$\n",
        "$$\n",
        "grad(x_{ij}) = \\sum_{k} grad(out_{ik})w_{jk}\n",
        "$$\n",
        "$$\n",
        "grad(x) = grad(out) \\cdot w^T \\\\ \\space\n",
        "$$\n",
        "$$\n",
        "grad(w_{jk}) = \\sum_{i} grad(out_{ik}) \\frac{dout_{ik}}{dw_{jk}}\n",
        "$$\n",
        "$$\n",
        "grad(w_{jk}) = \\sum_{i} grad(out_{ik})x_{ij}\n",
        "$$\n",
        "$$\n",
        "grad(w) = x^T \\cdot grad(out) \\\\ \\space\n",
        "$$\n",
        "$$\n",
        "grad(b_{k}) = \\sum_{i} grad(out_{ik}) \\frac{dout_{ik}}{db_{k}}\n",
        "$$\n",
        "$$\n",
        "grad(b) = \\sum_{i} grad(out_{i})\n",
        "$$\n",
        "    \n",
        "実装コードでは$ grad(x) $ = ```dx```, $ grad(w) $ = ```dw```, $ grad(b) $ = ```db```と命名されています。 "
      ]
    },
    {
      "cell_type": "code",
      "metadata": {
        "id": "hWc9zHaLuooG"
      },
      "source": [
        "class FullyConnectedLayer():\n",
        "    def __init__(self, input_shape, output_shape):\n",
        "        self.w = np.random.randn(input_shape, output_shape) * 0.01\n",
        "        self.b = np.zeros(output_shape, dtype=np.float)\n",
        "        self.x = None\n",
        "        self.dw = None\n",
        "        self.db = None\n",
        "        \n",
        "    def __call__(self, x):\n",
        "        self.x = x\n",
        "        out = #### 問2-5 ####\n",
        "        return out\n",
        "    \n",
        "    def backward(self, dout):\n",
        "        dx = #### 問2-6 ####\n",
        "        batch_size = dx.shape[0]\n",
        "        self.dw = #### 問2-7 ####\n",
        "        self.db = #### 問2-8 ####\n",
        "        return dx"
      ],
      "execution_count": null,
      "outputs": []
    },
    {
      "cell_type": "markdown",
      "metadata": {
        "id": "wW6rnJLnuooK"
      },
      "source": [
        "### ReLU\n",
        "<font color=\"Red\">問2-9 ~ 2-10 ReLUクラスを完成させてください。</font>\n",
        "```\n",
        "インスタンス変数:\n",
        "    self.mask: [L, N] np.bool\n",
        "               マスクされるxのフラッグ\n",
        "               \n",
        "__call__(self, x):\n",
        "    引数:\n",
        "        x: [L, N] np.float\n",
        "    返値:\n",
        "        out: [L, N] np.float\n",
        "\n",
        "backward(self, dout):\n",
        "    引数:\n",
        "        dout: [L, N] np.float\n",
        "    返値:\n",
        "        dx: [L, N] np.float\n",
        "    \n",
        "```\n",
        "ReLUの順伝播と逆伝播をクラスで実装します。\n",
        "順伝播```__call__(self, x)```は入力信号xに対して、```x <= 0```部分が1、それ以外は0となるようなマトリックスself.maskを定義します。numpy配列の**ブールインデックス参照**を利用し、xのマスク部を0に変換し返します。\n",
        "逆伝播```backward(self, dout)```は出力信号の勾配doutの保存されたマスク部を0に変換し、dxとして入力信号の勾配を返します。"
      ]
    },
    {
      "cell_type": "code",
      "metadata": {
        "id": "TOyb4TJluooK"
      },
      "source": [
        "class ReLU():\n",
        "    def __init__(self):\n",
        "        self.mask = None\n",
        "\n",
        "    def __call__(self, x):\n",
        "        self.mask = (x <= 0)\n",
        "        out = x.copy()\n",
        "        #### 問2-9 #### = 0\n",
        "        return out\n",
        "\n",
        "    def backward(self, dout):\n",
        "        #### 問2-10 #### = 0\n",
        "        dx = dout\n",
        "\n",
        "        return dx"
      ],
      "execution_count": null,
      "outputs": []
    },
    {
      "cell_type": "markdown",
      "metadata": {
        "id": "_xiLi0RZuooM"
      },
      "source": [
        "問題は以上になります。以下のモデルの構築と学習で実装が正しいことを確認しましょう。"
      ]
    },
    {
      "cell_type": "markdown",
      "metadata": {
        "id": "gEKOU_q_uooN"
      },
      "source": [
        "### モデルの構築\n",
        "\n",
        "これまで各種の層をクラスで定義できましたので、ここではそれらを組み合わせることでモデルを簡単に設計することができます。問題にはなっていませんが、コードからモデルの構築の全体像を把握しましょう。"
      ]
    },
    {
      "cell_type": "code",
      "metadata": {
        "id": "mPA7c6d4uooN"
      },
      "source": [
        "# 分類モデル\n",
        "class MLP_classifier():\n",
        "\n",
        "    def __init__(self):\n",
        "        '''\n",
        "        構造\n",
        "        x -> fc(783, 256) -> relu -> fc(256, 256) -> relu -> fc(256, 10) -> out\n",
        "        '''\n",
        "        \n",
        "        # 層の定義\n",
        "        self.fc1 = FullyConnectedLayer(784, 256)\n",
        "        self.relu1 = ReLU()\n",
        "        self.fc2 = FullyConnectedLayer(256, 256)\n",
        "        self.relu2 = ReLU()\n",
        "        self.fc3 = FullyConnectedLayer(256, 10)\n",
        "        self.out = None\n",
        "        \n",
        "        # 損失関数の定義\n",
        "        self.criterion = SoftmaxCrossEntropyLoss()\n",
        "\n",
        "    def forward(self, x):\n",
        "        '''\n",
        "        順伝播\n",
        "        '''\n",
        "        \n",
        "        x = self.relu1(self.fc1(x))\n",
        "        x = self.relu2(self.fc2(x))\n",
        "        self.out = self.fc3(x)\n",
        "        \n",
        "        # backwardとの一貫性のためsoftmaxはこの順伝播関数内では行わない\n",
        "        # 予測するときはさらにsoftmaxを通す必要がある\n",
        "        return self.out\n",
        "\n",
        "    def backward(self, t):\n",
        "        '''\n",
        "        逆伝播\n",
        "        '''\n",
        "        \n",
        "        # 誤差を計算\n",
        "        loss = self.criterion(t, self.out)\n",
        "        # 勾配を逆伝播\n",
        "        d = self.criterion.backward()\n",
        "        d = self.fc3.backward(d)\n",
        "        d = self.relu2.backward(d)\n",
        "        d = self.fc2.backward(d)\n",
        "        d = self.relu1.backward(d)\n",
        "        d = self.fc1.backward(d)\n",
        "        \n",
        "        return loss\n",
        "\n",
        "    def optimize_GradientDecent(self, lr):\n",
        "        '''\n",
        "        勾配降下法による全層のパラメータの更新\n",
        "        '''\n",
        "        for fc in [self.fc1, self.fc2, self.fc3]:\n",
        "            fc.w -= lr * fc.dw\n",
        "            fc.b -= lr * fc.db\n",
        "        "
      ],
      "execution_count": null,
      "outputs": []
    },
    {
      "cell_type": "markdown",
      "metadata": {
        "id": "QnOW6bSQuooQ"
      },
      "source": [
        "### 学習\n",
        "\n",
        "20epochで分類精度が80%以上になっていれば学習は成功していると言えます。"
      ]
    },
    {
      "cell_type": "code",
      "metadata": {
        "id": "lB1l4MPHuooR"
      },
      "source": [
        "# モデルの宣言\n",
        "model = MLP_classifier()\n",
        "\n",
        "# 学習率\n",
        "lr = 0.005\n",
        "# 学習エポック数\n",
        "n_epoch = 20\n",
        "\n",
        "# n_epoch繰り返す\n",
        "for n in range(n_epoch):\n",
        "    # 訓練\n",
        "    # Day1範囲外のため、ミニバッチは使用しない\n",
        "    y = model.forward(X_train)\n",
        "    loss = model.backward(T_train)\n",
        "    model.optimize_GradientDecent(lr)\n",
        "    \n",
        "    # テスト\n",
        "    y = model.forward(X_test)\n",
        "    test_loss = model.backward(T_test)\n",
        "    pred = softmax(y)\n",
        "    accuracy = np.mean(np.equal(np.argmax(y, axis=1), np.argmax(T_test, axis=1)))\n",
        "    print(f'EPOCH {n + 1} | TRAIN LOSS {loss:.5f} | TEST LOSS {test_loss:.5f} | ACCURACY {accuracy:.2%}')\n",
        "classification_accuracy = accuracy"
      ],
      "execution_count": null,
      "outputs": []
    },
    {
      "cell_type": "markdown",
      "metadata": {
        "id": "CFcUU_10uooT"
      },
      "source": [
        "### 提出可否"
      ]
    },
    {
      "cell_type": "code",
      "metadata": {
        "id": "J3Zue9pAuooT"
      },
      "source": [
        "print(\"大問1 回帰ロス: \", regression_loss)\n",
        "print(\"大問2 分類精度: \", classification_accuracy)\n",
        "pass0 = regression_loss < 0.5\n",
        "pass1 = classification_accuracy > 0.8\n",
        "if pass0 and pass1:\n",
        "    print(\"回帰モデルと分類モデルどちらも学習が成功しているので、提出可能です。\")\n",
        "else:\n",
        "    if not pass0:\n",
        "        print(\"回帰モデル（大問１）の学習が成功していません。\")\n",
        "    if not pass1:\n",
        "        print(\"分類モデル（大問２）の学習が成功していません。\")\n",
        "    print(\"回答を訂正してください。\")"
      ],
      "execution_count": null,
      "outputs": []
    },
    {
      "cell_type": "markdown",
      "metadata": {
        "id": "ASs5wnq9uooV"
      },
      "source": [
        "### 補足\n",
        "\n",
        "今演習では簡単のため、ミニバッチ学習・重み減衰などの正則化・より高度な最適化・データのオーグメンテーション(拡張)など、Day2, Day3で学習する重要な手法を使用していません。これらを使用すれば、全結合層でもmnist手書き数字の分類精度を大きく上げることが可能です。例えばミニバッチを簡単に導入するだけで、20epochで97%以上の精度に達します。"
      ]
    },
    {
      "cell_type": "markdown",
      "metadata": {
        "id": "VsR1yu8tV9vl"
      },
      "source": [
        "### 発展\n",
        "\n",
        "大問１，大問２それぞれについて学習率・エポック数を変えてみて学習における挙動を観察してみましょう。また、多層パーセプトロンの総数やノード数を変更し、より良い精度を出せる条件を探してみましょう。"
      ]
    },
    {
      "cell_type": "code",
      "metadata": {
        "id": "ZOSo6nTIuooW"
      },
      "source": [
        ""
      ],
      "execution_count": null,
      "outputs": []
    }
  ]
}