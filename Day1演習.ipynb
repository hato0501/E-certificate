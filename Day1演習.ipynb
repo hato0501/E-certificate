{
  "nbformat": 4,
  "nbformat_minor": 0,
  "metadata": {
    "colab": {
      "name": "Day1演習.ipynb",
      "provenance": [],
      "collapsed_sections": [],
      "include_colab_link": true
    },
    "kernelspec": {
      "display_name": "Python 3",
      "language": "python",
      "name": "python3"
    },
    "language_info": {
      "codemirror_mode": {
        "name": "ipython",
        "version": 3
      },
      "file_extension": ".py",
      "mimetype": "text/x-python",
      "name": "python",
      "nbconvert_exporter": "python",
      "pygments_lexer": "ipython3",
      "version": "3.7.3"
    }
  },
  "cells": [
    {
      "cell_type": "markdown",
      "metadata": {
        "id": "view-in-github",
        "colab_type": "text"
      },
      "source": [
        "<a href=\"https://colab.research.google.com/github/hato0501/E-certificate/blob/main/Day1%E6%BC%94%E7%BF%92.ipynb\" target=\"_parent\"><img src=\"https://colab.research.google.com/assets/colab-badge.svg\" alt=\"Open In Colab\"/></a>"
      ]
    },
    {
      "cell_type": "markdown",
      "metadata": {
        "id": "gZ-6_bCyV9vP"
      },
      "source": [
        "# 全人類がわかるディープラーニング Day1演習\n",
        "\n",
        "## 概要\n",
        "\n",
        "本演習では深層学習の基礎である多層パーセプトロンによる学習を穴埋め形式で実装します。<br>\n",
        "予め用意されたコード（訓練用・テスト用データの取得、ミニバッチ学習など）はそのまま使用し、指示された穴埋め部（順伝播と誤差逆伝播）を編集してください。<br>\n",
        "問題は全20問、大きく2つの大問に分かれ、それぞれに10の小問がついています。問題文は<font color=\"Red\">赤字</font>で表示されています。<br>\n",
        "このファイルは必ず最後までコードをすべて実行し、「最後までコードが実行可能」・「学習結果の出力がある」・「学習が成功している」の３つを満たした状態で提出してください。\n",
        "\n",
        "所要時間：3~5時間"
      ]
    },
    {
      "cell_type": "markdown",
      "metadata": {
        "id": "xOUGJkhcV9vQ"
      },
      "source": [
        "## 大問１ 回帰モデル演習\n",
        "\n",
        "### ライブラリのインポート\n",
        "\n",
        "必要なライブラリをインポートします。エラーになる場合は該当するものをインストールしてください。"
      ]
    },
    {
      "cell_type": "code",
      "metadata": {
        "id": "7MatX272V9vR"
      },
      "source": [
        "import csv\n",
        "import cv2\n",
        "import os\n",
        "import pickle\n",
        "import numpy as np\n",
        "import matplotlib.pyplot as plt\n",
        "from mpl_toolkits.mplot3d import Axes3D\n",
        "from sklearn import datasets\n",
        "from sklearn.model_selection import train_test_split\n",
        "%matplotlib inline\n",
        "# \"%matplotlib inline\" の代わりに以下のコマンドを使用できる場合、3次元で座標軸を操作可能なプロットを表示することができます。\n",
        "# %matplotlib notebook\n",
        "\n",
        "\n",
        "# 乱数シードを指定\n",
        "np.random.seed(seed=0)"
      ],
      "execution_count": 2,
      "outputs": []
    },
    {
      "cell_type": "code",
      "metadata": {
        "id": "pLT2Iwbdukg_",
        "outputId": "8568609e-206f-46e6-c353-eba14e500d19",
        "colab": {
          "base_uri": "https://localhost:8080/"
        }
      },
      "source": [
        "# Drive Mount in Google Colab\n",
        "from google.colab import drive\n",
        "drive.mount('/content/drive')"
      ],
      "execution_count": 3,
      "outputs": [
        {
          "output_type": "stream",
          "text": [
            "Mounted at /content/drive\n"
          ],
          "name": "stdout"
        }
      ]
    },
    {
      "cell_type": "code",
      "metadata": {
        "id": "ZtI-pS8PEVbo"
      },
      "source": [
        "folder = './drive/My Drive/Colab Notebooks/E-certificate/day1/'"
      ],
      "execution_count": 4,
      "outputs": []
    },
    {
      "cell_type": "markdown",
      "metadata": {
        "id": "_iTHROrWV9vT"
      },
      "source": [
        "### データの３次元散布図を作成する関数\n",
        "\n",
        "データ可視化に使用します。演習の問題とは関係ありませんので読み飛ばしてください。"
      ]
    },
    {
      "cell_type": "code",
      "metadata": {
        "id": "yHUAp5A8V9vT"
      },
      "source": [
        "def plot_data(data, name='Data Plot'):\n",
        "    # グラフ作成\n",
        "    fig = plt.figure()\n",
        "    ax = Axes3D(fig)\n",
        "\n",
        "    # 軸ラベルの設定\n",
        "    ax.set_xlabel(\"X0-axis\")\n",
        "    ax.set_ylabel(\"X1-axis\")\n",
        "    ax.set_zlabel(\"Y-axis\")\n",
        "\n",
        "    # 表示範囲の設定\n",
        "    ax.set_xlim(-2, 2)\n",
        "    ax.set_ylim(-2, 2)\n",
        "    ax.set_zlim(0, 10)\n",
        "\n",
        "    ax.plot(data[:, 0], data[:, 1], data[:, 2],\n",
        "            \"o\", color=\"#ff2222\", ms=2, mew=0.5)\n",
        "    ax.set_title(name)\n",
        "    plt.show()"
      ],
      "execution_count": 21,
      "outputs": []
    },
    {
      "cell_type": "markdown",
      "metadata": {
        "id": "mI9FnjLqV9vV"
      },
      "source": [
        "### データの読み込み\n",
        "\n",
        "本演習では、train_data.csvを訓練用データ、test_data.csvをテスト用データとして使用します。データはx0, x1, yの3列からなり、以下の式に従っています。\n",
        "\n",
        "$$ y = \\left\\{ \\begin{array}{ll} (x_0-1)^2 + (x_1-1)^2 & (x_0 \\gt 0) \\\\ (x_0+1)^2 + (x_1+1)^2 & (x_0 \\leq 0) \\end{array} \\right. $$\n",
        "\n",
        "訓練データ10000個の(x0, x1, y)の組を多層パーセプトロンで学習し、テストデータ2000個の学習におけるコストの推移を観測します。\n",
        "まずはデータのプロットを表示してみます。\n",
        "\n",
        "※ここでエラーとなっている場合はライブラリのインポートが完了していないか、正常にデータを読み込めていません。同ディレクトリ内にダウンロードした`train_data.csv`と`test_data.csv`が存在していることを確認してください。"
      ]
    },
    {
      "cell_type": "code",
      "metadata": {
        "id": "XM3KcYopV9vV",
        "scrolled": true,
        "outputId": "1a83438d-16dc-4a8c-b005-8ee68531d6b4",
        "colab": {
          "base_uri": "https://localhost:8080/",
          "height": 319
        }
      },
      "source": [
        "# データの読み込み\n",
        "with open(folder+'train_data.csv') as f:\n",
        "    reader = csv.reader(f)\n",
        "    train_data = np.array([[float(x) for x in row] for row in reader])\n",
        "with open(folder+'test_data.csv') as f:\n",
        "    reader = csv.reader(f)\n",
        "    test_data = np.array([[float(x) for x in row] for row in reader])\n",
        "\n",
        "# 訓練データを可視化\n",
        "plot_data(train_data, 'Train Data')"
      ],
      "execution_count": 22,
      "outputs": [
        {
          "output_type": "display_data",
          "data": {
            "image/png": "[encoded data removed]",
            "text/plain": [
              "<Figure size 432x288 with 1 Axes>"
            ]
          },
          "metadata": {
            "tags": [],
            "needs_background": "light"
          }
        }
      ]
    },
    {
      "cell_type": "markdown",
      "metadata": {
        "id": "mW-UkTq3V9vY"
      },
      "source": [
        "### データの数"
      ]
    },
    {
      "cell_type": "code",
      "metadata": {
        "id": "2Ru3iZ5yV9vY",
        "outputId": "6d92fb01-f083-471c-f0bb-0449112f9f38",
        "colab": {
          "base_uri": "https://localhost:8080/"
        }
      },
      "source": [
        "N_train = train_data.shape[0]\n",
        "print('訓練データの数: ', N_train)\n",
        "N_test = test_data.shape[0]\n",
        "print('テストデータの数: ', N_test)"
      ],
      "execution_count": 23,
      "outputs": [
        {
          "output_type": "stream",
          "text": [
            "訓練データの数:  10000\n",
            "テストデータの数:  2000\n"
          ],
          "name": "stdout"
        }
      ]
    },
    {
      "cell_type": "markdown",
      "metadata": {
        "id": "xXM_DlAfV9va"
      },
      "source": [
        "### 活性化関数 relu\n",
        "\n",
        "<font color=\"Red\">問1-1 relu関数を完成させてください。</font>\n",
        "- 以下の式で定義されるrelu関数を実装します。\n",
        "$$ x = relu(v) = \\left\\{ \\begin{array}{ll} v & (v \\gt 0) \\\\ 0 & (v \\leq 0) \\end{array} \\right. $$\n",
        "- 引数`v`の各要素と0の大きい方を取り、`x`とします。\n",
        "- ヒント: numpy.maximum()\n"
      ]
    },
    {
      "cell_type": "code",
      "metadata": {
        "id": "J4NBTAmMV9va"
      },
      "source": [
        "def relu(v):\n",
        "    '''\n",
        "    活性化関数 relu\n",
        "    Args:\n",
        "      v: (float) [N, M]\n",
        "    Returns:\n",
        "      x: (float) [N, M]\n",
        "    '''\n",
        "    x = np.array([[max(0,val) for val in vec] for vec in v])\n",
        "    return x"
      ],
      "execution_count": 24,
      "outputs": []
    },
    {
      "cell_type": "markdown",
      "metadata": {
        "id": "Ok40MMDdV9vc"
      },
      "source": [
        "### コスト関数 平均二乗誤差\n",
        "\n",
        "<font color=\"Red\">問1-2 関数を完成させてください。</font>\n",
        "- 以下の式で定義されるコスト関数を実装します。\n",
        "$$ MSE = \\frac{1}{n} \\sum_{i}^{n} \\sum_{j}^{k} (t_{ij}-y_{ij})^2 $$\n",
        "$$ n:バッチサイズ, k:出力の次元 $$\n",
        "- `t`と`y`の差の2乗の平均を取り、`mse`とします。\n",
        "- ヒント: numpy.sum(), numpy.mean(), numpy.square()"
      ]
    },
    {
      "cell_type": "code",
      "metadata": {
        "id": "iWUtjg7lV9vc"
      },
      "source": [
        "def MSE(t, y):\n",
        "    '''\n",
        "    コスト関数 Mean Squared Error\n",
        "    Args:\n",
        "      t: (float) [N, M]     \n",
        "      y: (float) [N, M]\n",
        "    Returns:\n",
        "      mse: (float)\n",
        "    '''\n",
        "    n_batch, k_dimension = np.array(t).shape\n",
        "    mse = np.sum([(t[i][j] - y[i][j])**2 for j in range(k_dimension) for i in range(n_batch)]) / n_batch\n",
        "    return mse"
      ],
      "execution_count": 25,
      "outputs": []
    },
    {
      "cell_type": "markdown",
      "metadata": {
        "id": "Y2J_LDgPV9ve"
      },
      "source": [
        "### 多層パーセプトロンの定義\n",
        "\n",
        "<font color=\"Red\">問1-3 ~ 1-6 順伝播forward関数を完成させてください。</font>\n",
        "- 以下の式で定義される順伝播を実装します。(Φは活性化関数)\n",
        "$$\n",
        "X_{i+1} = \\phi(X_i \\cdot W_i + B_i)\n",
        "$$    \n",
        "- 第1層`self.layer1`を定義します。入力層`self.layer0`と重み`self.w1`との内積を取り、バイアス`self.b1`を加算します。そして活性化関数`relu`に渡します。\n",
        "- 第2層`self.layer2`を定義します。第1層`self.layer1`と重み`self.w2`との内積を取り、バイアス`self.b2`を加算します。そして活性化関数`relu`に渡します。\n",
        "- 第3層`self.layer3`を定義します。第2層`self.layer2`と重み`self.w3`との内積を取り、バイアス`self.b3`を加算します。そして活性化関数`relu`に渡します。\n",
        "- 出力層`self.out`を定義します。第3層`self.layer3`と重み`self.w4`との内積を取り、バイアス`self.b4`を加算します。\n",
        "- 出力層では活性化関数Φは使用しないことに注意せよ\n",
        "- ヒント: np.dot()<br>\n",
        "\n",
        "<font color=\"Red\"> 問1-7 ~ 1-10 逆伝播によって誤差と勾配を求めるbackward関数を完成させてください。</font>\n",
        "- 出力層誤差`delta4`を定義します。二乗誤差の微分なので、以下の式に従います。\n",
        "$$\n",
        "\\delta_{out} = \\frac{d(T-Y)^2}{dY} = -2(T-Y)\n",
        "$$\n",
        "- 誤差逆伝播は以下の式に従います。\n",
        "$$\n",
        "\\delta_i = \\phi'(v_{i+1})*\\delta_{i+1} \\cdot W_{i+1}^t \n",
        "$$\n",
        "$$\n",
        "\\phi'(v_i) = \\left\\{ \\begin{array}{ll} v_i \\frac{d}{dv_i} & (v_i \\gt 0) \\\\ 0 \\frac{d}{dv_i} & (v_i \\leq 0) \\end{array} \\right. = \n",
        "\\left\\{ \\begin{array}{ll} 1 & (v_i \\gt 0) \\\\ 0 & (v_i \\leq 0) \\end{array} \\right. = \n",
        "\\left\\{ \\begin{array}{ll} 1 & (x_i \\gt 0) \\\\ 0 & (x_i \\leq 0) \\end{array} \\right.\n",
        "\\\\\n",
        "\\phi(v_i) = x_i\n",
        "$$\n",
        "- 第3層誤差`delta3`を定義します。出力層誤差`delta4`と重み`self.w4`の転置との内積を取ります。\n",
        "- 第2層誤差`delta2`を定義します。第3層誤差`delta3`と第3層`self.layer3`におけるreluの微分との積を取り、重み`self.w3`の転置との内積を取ります。\n",
        "- 第1層誤差`delta1`を定義します。第2層誤差`delta2`と第2層`self.layer2`におけるreluの微分との積を取り、重み`self.w2`の転置との内積を取ります。\n",
        "- ヒント: numpy.dot(), numpy.transpose()\n",
        "- ヒント: reluの微分は該当する層の各要素が0より大きいものは1, 0以下のものは0としたベクトルに等しい\n",
        "    "
      ]
    },
    {
      "cell_type": "code",
      "metadata": {
        "id": "5hZNQQwG_I2O"
      },
      "source": [
        "# 識別モデル\n",
        "class MLP_regressor():\n",
        "    '''\n",
        "    多層パーセプトロン Multi Layered Perceptron\n",
        "    構成: [入力層, 第1層, 第2層, 第3層, 出力層]\n",
        "    ノード数: [2, 50, 50, 10, 1]\n",
        "    '''\n",
        "\n",
        "    def __init__(self):\n",
        "        '''\n",
        "        コンストラクタ\n",
        "        パラメータ（重みw, バイアスb）の定義\n",
        "        第1層重み self.w1: [2, 50] 平均0, 標準偏差0.1の乱数\n",
        "        第2層重み self.w2: [50, 50] 平均0, 標準偏差0.1の乱数\n",
        "        第3層重み self.w3: [50, 10] 平均0, 標準偏差0.1の乱数\n",
        "        第4層重み self.w4: [10, 1] 平均0, 標準偏差0.1の乱数\n",
        "        \n",
        "        第1層バイアス self.b1: [50] 要素が全て0\n",
        "        第2層バイアス self.b2: [50] 要素が全て0\n",
        "        第3層バイアス self.b3: [10] 要素が全て0\n",
        "        第4層バイアス self.b4: [1] 要素が全て0\n",
        "        \n",
        "        numpyの乱数については以下のページを参照\n",
        "        https://docs.scipy.org/doc/numpy/reference/routines.random.html\n",
        "        '''\n",
        "        \n",
        "        # 重みの定義\n",
        "        self.w1 = np.random.randn(2, 50) * 0.1\n",
        "        self.w2 = np.random.randn(50, 50) * 0.1\n",
        "        self.w3 = np.random.randn(50, 10) * 0.1\n",
        "        self.w4 = np.random.randn(10, 1) * 0.1\n",
        "\n",
        "        # バイアスの定義\n",
        "        self.b1 = np.zeros(50, dtype=float)\n",
        "        self.b2 = np.zeros(50, dtype=float)\n",
        "        self.b3 = np.zeros(10, dtype=float)\n",
        "        self.b4 = np.zeros(1, dtype=float)\n",
        "\n",
        "    def forward(self, x):\n",
        "        '''\n",
        "        順伝播\n",
        "        入力 x: [N, 2]\n",
        "        入力層 self.layer0: [N, 2]\n",
        "        第1層 self.layer1: [N, 50]\n",
        "        第2層 self.layer2: [N, 50]\n",
        "        第3層 self.layer3: [N, 10]\n",
        "        出力層 self.out: [N, 1]\n",
        "        '''\n",
        "        \n",
        "        self.layer0 = x\n",
        "        self.layer1 = relu(np.dot(self.layer0, self.w1) + self.b1)\n",
        "        self.layer2 = relu(np.dot(self.layer1, self.w2) + self.b2)\n",
        "        self.layer3 = relu(np.dot(self.layer2, self.w3) + self.b3)\n",
        "        self.out = np.dot(self.layer3, self.w4) + self.b4\n",
        "        return self.out\n",
        "\n",
        "    def backward(self, t, y):\n",
        "        '''\n",
        "        逆伝播\n",
        "        真の値 t: [N, 1]\n",
        "        予測値 y: [N, 1]\n",
        "        \n",
        "        出力層誤差 delta4: [N, 1]\n",
        "        第3層誤差 delta3: [N, 10]\n",
        "        第2層誤差 delta2: [N, 50]\n",
        "        第1層誤差 delta1: [N, 50]\n",
        "        \n",
        "        第4層b勾配 dedb4: [1]\n",
        "        第3層b勾配 dedb3: [10]\n",
        "        第2層b勾配 dedb2: [50]\n",
        "        第1層b勾配 dedb1: [50]\n",
        "        \n",
        "        第4層w勾配 dedw4: [10, 1]\n",
        "        第3層w勾配 dedw3: [50, 10]\n",
        "        第2層w勾配 dedw2: [50, 50]\n",
        "        第1層w勾配 dedw1: [2, 50]\n",
        "        '''\n",
        "        \n",
        "        # 出力層の誤差デルタは二乗誤差の微分\n",
        "        delta4 = -2*(t-y)\n",
        "        # 誤差逆伝播\n",
        "        delta3 = np.dot(delta4, self.w4.T)\n",
        "        delta2 = np.dot(delta3 * (self.layer3 > 0), self.w3.T)\n",
        "        delta1 = np.dot(delta2 * (self.layer2 > 0), self.w2.T)\n",
        "\n",
        "        # バイアスbのコスト関数eに対する勾配\n",
        "        self.dedb4 = np.mean(delta4, axis=0)\n",
        "        self.dedb3 = np.mean(delta3 * (self.layer3 > 0), axis=0)\n",
        "        self.dedb2 = np.mean(delta2 * (self.layer2 > 0), axis=0)\n",
        "        self.dedb1 = np.mean(delta1 * (self.layer1 > 0), axis=0)\n",
        "\n",
        "        # 重みwのコスト関数eに対する勾配\n",
        "        self.dedw4 = np.dot(self.layer3.T, delta4) / delta4.shape[0]\n",
        "        self.dedw3 = np.dot(self.layer2.T, delta3 * (self.layer3 > 0)) / delta3.shape[0]\n",
        "        self.dedw2 = np.dot(self.layer1.T, delta2 * (self.layer2 > 0)) / delta2.shape[0]\n",
        "        self.dedw1 = np.dot(self.layer0.T, delta1 * (self.layer1 > 0)) / delta1.shape[0]\n",
        "\n",
        "    def optimize_GradientDecent(self, lr):\n",
        "        '''\n",
        "        勾配降下法によるパラメータの更新\n",
        "        '''\n",
        "        self.b1 -= lr * self.dedb1\n",
        "        self.b2 -= lr * self.dedb2\n",
        "        self.b3 -= lr * self.dedb3\n",
        "        self.b4 -= lr * self.dedb4\n",
        "\n",
        "        self.w1 -= lr * self.dedw1\n",
        "        self.w2 -= lr * self.dedw2\n",
        "        self.w3 -= lr * self.dedw3\n",
        "        self.w4 -= lr * self.dedw4"
      ],
      "execution_count": 26,
      "outputs": []
    },
    {
      "cell_type": "markdown",
      "metadata": {
        "id": "t6W3OikUV9vh"
      },
      "source": [
        "### 学習\n",
        "\n",
        "以下ではこれまでで定義した多層パーセプトロンを使用し、データを学習します。\n",
        "コストが正常に減少し、500epochで0.5以下にまで到達していれば学習は成功していると言えます。"
      ]
    },
    {
      "cell_type": "code",
      "metadata": {
        "id": "Yjt_19ceV9vi",
        "outputId": "bbec93c2-f9da-4529-ad3e-e57be6cd3f03",
        "colab": {
          "base_uri": "https://localhost:8080/"
        }
      },
      "source": [
        "# モデルの定義\n",
        "model = MLP_regressor()\n",
        "\n",
        "# 学習率\n",
        "lr = 0.01\n",
        "# 学習エポック数\n",
        "n_epoch = 500\n",
        "\n",
        "x_train = train_data[:, 0:2]\n",
        "t_train = train_data[:, 2:3]\n",
        "x_test = test_data[:, 0:2]\n",
        "t_test = test_data[:, 2:3]\n",
        "\n",
        "# n_epoch繰り返す\n",
        "for n in range(n_epoch):\n",
        "    # 訓練\n",
        "    # Day1範囲外のため、ミニバッチは使用しない\n",
        "    y = model.forward(x_train)\n",
        "    train_loss = MSE(t_train, y)\n",
        "    model.backward(t_train, y)\n",
        "    model.optimize_GradientDecent(lr)\n",
        "\n",
        "    # テスト\n",
        "    y = model.forward(x_test)\n",
        "    test_loss = MSE(t_test, y)\n",
        "\n",
        "    print('EPOCH ', n + 1, ' | TRAIN LOSS ',\n",
        "          train_loss, ' | TEST LOSS ', test_loss)\n",
        "regression_loss = test_loss"
      ],
      "execution_count": 27,
      "outputs": [
        {
          "output_type": "stream",
          "text": [
            "EPOCH  1  | TRAIN LOSS  13.563797527126729  | TEST LOSS  13.615410988792759\n",
            "EPOCH  2  | TRAIN LOSS  13.288151346037822  | TEST LOSS  13.347452135210487\n",
            "EPOCH  3  | TRAIN LOSS  13.024202816638274  | TEST LOSS  13.090428674538037\n",
            "EPOCH  4  | TRAIN LOSS  12.771094521071891  | TEST LOSS  12.84380192812244\n",
            "EPOCH  5  | TRAIN LOSS  12.528293310913188  | TEST LOSS  12.607070597061567\n",
            "EPOCH  6  | TRAIN LOSS  12.295311043343593  | TEST LOSS  12.379741669375703\n",
            "EPOCH  7  | TRAIN LOSS  12.071657690168545  | TEST LOSS  12.16137398638142\n",
            "EPOCH  8  | TRAIN LOSS  11.856888754335246  | TEST LOSS  11.951577097851642\n",
            "EPOCH  9  | TRAIN LOSS  11.650608299832088  | TEST LOSS  11.749963109759141\n",
            "EPOCH  10  | TRAIN LOSS  11.45243740397291  | TEST LOSS  11.556177815981231\n",
            "EPOCH  11  | TRAIN LOSS  11.262029432213222  | TEST LOSS  11.369889363873265\n",
            "EPOCH  12  | TRAIN LOSS  11.07904998537614  | TEST LOSS  11.190783622379568\n",
            "EPOCH  13  | TRAIN LOSS  10.903187071337474  | TEST LOSS  11.018563448851648\n",
            "EPOCH  14  | TRAIN LOSS  10.734145511579388  | TEST LOSS  10.852937949110046\n",
            "EPOCH  15  | TRAIN LOSS  10.571640899420196  | TEST LOSS  10.69363585268817\n",
            "EPOCH  16  | TRAIN LOSS  10.415401460930415  | TEST LOSS  10.540398767065366\n",
            "EPOCH  17  | TRAIN LOSS  10.265169830196717  | TEST LOSS  10.392977323938112\n",
            "EPOCH  18  | TRAIN LOSS  10.120699042131921  | TEST LOSS  10.251134031410114\n",
            "EPOCH  19  | TRAIN LOSS  9.981753829088895  | TEST LOSS  10.11464361004443\n",
            "EPOCH  20  | TRAIN LOSS  9.84811026096475  | TEST LOSS  9.98328885828933\n",
            "EPOCH  21  | TRAIN LOSS  9.719552149435172  | TEST LOSS  9.856860193409538\n",
            "EPOCH  22  | TRAIN LOSS  9.595872842818496  | TEST LOSS  9.735160314556362\n",
            "EPOCH  23  | TRAIN LOSS  9.476875317850377  | TEST LOSS  9.617999270064075\n",
            "EPOCH  24  | TRAIN LOSS  9.36237013229557  | TEST LOSS  9.505193547597083\n",
            "EPOCH  25  | TRAIN LOSS  9.252175221370402  | TEST LOSS  9.396568127554975\n",
            "EPOCH  26  | TRAIN LOSS  9.146116975165825  | TEST LOSS  9.291955410139732\n",
            "EPOCH  27  | TRAIN LOSS  9.044028919061946  | TEST LOSS  9.191195444636607\n",
            "EPOCH  28  | TRAIN LOSS  8.94575204939069  | TEST LOSS  9.094134213795911\n",
            "EPOCH  29  | TRAIN LOSS  8.851132724427599  | TEST LOSS  9.000621964334742\n",
            "EPOCH  30  | TRAIN LOSS  8.760023373719767  | TEST LOSS  8.910516218466496\n",
            "EPOCH  31  | TRAIN LOSS  8.672283342807834  | TEST LOSS  8.823681319148745\n",
            "EPOCH  32  | TRAIN LOSS  8.587777340189703  | TEST LOSS  8.739986555204178\n",
            "EPOCH  33  | TRAIN LOSS  8.506375397293441  | TEST LOSS  8.659306222963808\n",
            "EPOCH  34  | TRAIN LOSS  8.427953838992975  | TEST LOSS  8.581521746374042\n",
            "EPOCH  35  | TRAIN LOSS  8.352393138826027  | TEST LOSS  8.506519599387975\n",
            "EPOCH  36  | TRAIN LOSS  8.27958072973967  | TEST LOSS  8.434189546870611\n",
            "EPOCH  37  | TRAIN LOSS  8.209408122630443  | TEST LOSS  8.364427222860865\n",
            "EPOCH  38  | TRAIN LOSS  8.141770029460705  | TEST LOSS  8.297131022829765\n",
            "EPOCH  39  | TRAIN LOSS  8.076566584046159  | TEST LOSS  8.232207355702302\n",
            "EPOCH  40  | TRAIN LOSS  8.013705103100824  | TEST LOSS  8.169562792387506\n",
            "EPOCH  41  | TRAIN LOSS  7.953095289792679  | TEST LOSS  8.109111897409875\n",
            "EPOCH  42  | TRAIN LOSS  7.894651639757615  | TEST LOSS  8.050773711681355\n",
            "EPOCH  43  | TRAIN LOSS  7.838291553672863  | TEST LOSS  7.9944655759258225\n",
            "EPOCH  44  | TRAIN LOSS  7.783934541077979  | TEST LOSS  7.940106104592012\n",
            "EPOCH  45  | TRAIN LOSS  7.731502321612386  | TEST LOSS  7.887620737400506\n",
            "EPOCH  46  | TRAIN LOSS  7.680919289746989  | TEST LOSS  7.836936646720345\n",
            "EPOCH  47  | TRAIN LOSS  7.632113439303981  | TEST LOSS  7.787982631881085\n",
            "EPOCH  48  | TRAIN LOSS  7.58501485547206  | TEST LOSS  7.740694558903552\n",
            "EPOCH  49  | TRAIN LOSS  7.5395578738366344  | TEST LOSS  7.695006930020202\n",
            "EPOCH  50  | TRAIN LOSS  7.495678689281859  | TEST LOSS  7.650856670201778\n",
            "EPOCH  51  | TRAIN LOSS  7.453314587144058  | TEST LOSS  7.608186325448631\n",
            "EPOCH  52  | TRAIN LOSS  7.412407560359899  | TEST LOSS  7.566940773695813\n",
            "EPOCH  53  | TRAIN LOSS  7.372901768064863  | TEST LOSS  7.527062578548376\n",
            "EPOCH  54  | TRAIN LOSS  7.334743316157766  | TEST LOSS  7.488498111056497\n",
            "EPOCH  55  | TRAIN LOSS  7.29787928622696  | TEST LOSS  7.451192960948838\n",
            "EPOCH  56  | TRAIN LOSS  7.262258589788582  | TEST LOSS  7.415098713924808\n",
            "EPOCH  57  | TRAIN LOSS  7.227832004668635  | TEST LOSS  7.380170854579753\n",
            "EPOCH  58  | TRAIN LOSS  7.19455265648343  | TEST LOSS  7.346360042561071\n",
            "EPOCH  59  | TRAIN LOSS  7.162371358384477  | TEST LOSS  7.313622309586484\n",
            "EPOCH  60  | TRAIN LOSS  7.13124327162062  | TEST LOSS  7.2819152233924616\n",
            "EPOCH  61  | TRAIN LOSS  7.101125453594589  | TEST LOSS  7.251196896026238\n",
            "EPOCH  62  | TRAIN LOSS  7.071979937853913  | TEST LOSS  7.221432563561251\n",
            "EPOCH  63  | TRAIN LOSS  7.043768238543685  | TEST LOSS  7.192580445958036\n",
            "EPOCH  64  | TRAIN LOSS  7.016448988834518  | TEST LOSS  7.164598550349336\n",
            "EPOCH  65  | TRAIN LOSS  6.989984981751151  | TEST LOSS  7.1374454687065265\n",
            "EPOCH  66  | TRAIN LOSS  6.964338672542732  | TEST LOSS  7.111094933380999\n",
            "EPOCH  67  | TRAIN LOSS  6.939479370115573  | TEST LOSS  7.085506208240965\n",
            "EPOCH  68  | TRAIN LOSS  6.9153695249608385  | TEST LOSS  7.060641160181814\n",
            "EPOCH  69  | TRAIN LOSS  6.8919671730253  | TEST LOSS  7.036465075544799\n",
            "EPOCH  70  | TRAIN LOSS  6.869239394952819  | TEST LOSS  7.012940311087534\n",
            "EPOCH  71  | TRAIN LOSS  6.84715120156012  | TEST LOSS  6.99003593319294\n",
            "EPOCH  72  | TRAIN LOSS  6.825671012199149  | TEST LOSS  6.967719932481259\n",
            "EPOCH  73  | TRAIN LOSS  6.804764450693566  | TEST LOSS  6.945959724619426\n",
            "EPOCH  74  | TRAIN LOSS  6.784402594281464  | TEST LOSS  6.924717726240478\n",
            "EPOCH  75  | TRAIN LOSS  6.764552380282739  | TEST LOSS  6.903972135595075\n",
            "EPOCH  76  | TRAIN LOSS  6.745183591907071  | TEST LOSS  6.883689031556943\n",
            "EPOCH  77  | TRAIN LOSS  6.7262629705549815  | TEST LOSS  6.863840027082875\n",
            "EPOCH  78  | TRAIN LOSS  6.707760885088524  | TEST LOSS  6.844394638833943\n",
            "EPOCH  79  | TRAIN LOSS  6.689647099501993  | TEST LOSS  6.825325280372655\n",
            "EPOCH  80  | TRAIN LOSS  6.671896874610512  | TEST LOSS  6.806604522573832\n",
            "EPOCH  81  | TRAIN LOSS  6.654478157298635  | TEST LOSS  6.788203518805454\n",
            "EPOCH  82  | TRAIN LOSS  6.637368216326565  | TEST LOSS  6.7700941824301974\n",
            "EPOCH  83  | TRAIN LOSS  6.620541163345652  | TEST LOSS  6.7522457800534195\n",
            "EPOCH  84  | TRAIN LOSS  6.603965758004849  | TEST LOSS  6.734632207251452\n",
            "EPOCH  85  | TRAIN LOSS  6.587617818410581  | TEST LOSS  6.717236744127465\n",
            "EPOCH  86  | TRAIN LOSS  6.571475278404959  | TEST LOSS  6.700027177623259\n",
            "EPOCH  87  | TRAIN LOSS  6.555510642908765  | TEST LOSS  6.682979697540261\n",
            "EPOCH  88  | TRAIN LOSS  6.539701478242029  | TEST LOSS  6.666076885780838\n",
            "EPOCH  89  | TRAIN LOSS  6.524026142368281  | TEST LOSS  6.649290467880178\n",
            "EPOCH  90  | TRAIN LOSS  6.508457757410713  | TEST LOSS  6.632588523843218\n",
            "EPOCH  91  | TRAIN LOSS  6.492967743204944  | TEST LOSS  6.6159495389841965\n",
            "EPOCH  92  | TRAIN LOSS  6.477530478912874  | TEST LOSS  6.599342679865725\n",
            "EPOCH  93  | TRAIN LOSS  6.46211599771756  | TEST LOSS  6.582740782692233\n",
            "EPOCH  94  | TRAIN LOSS  6.4466943268636445  | TEST LOSS  6.566111171387056\n",
            "EPOCH  95  | TRAIN LOSS  6.431239250163387  | TEST LOSS  6.549424809216651\n",
            "EPOCH  96  | TRAIN LOSS  6.41572242487465  | TEST LOSS  6.532651321102894\n",
            "EPOCH  97  | TRAIN LOSS  6.400119088669683  | TEST LOSS  6.515762654581588\n",
            "EPOCH  98  | TRAIN LOSS  6.384397204638671  | TEST LOSS  6.498729133080206\n",
            "EPOCH  99  | TRAIN LOSS  6.368532574108425  | TEST LOSS  6.481519979777726\n",
            "EPOCH  100  | TRAIN LOSS  6.352494330399801  | TEST LOSS  6.464101928547158\n",
            "EPOCH  101  | TRAIN LOSS  6.336247882347015  | TEST LOSS  6.446450022021359\n",
            "EPOCH  102  | TRAIN LOSS  6.319766621333695  | TEST LOSS  6.428528873722611\n",
            "EPOCH  103  | TRAIN LOSS  6.303017064201487  | TEST LOSS  6.410304107494423\n",
            "EPOCH  104  | TRAIN LOSS  6.285968956412599  | TEST LOSS  6.39174444308853\n",
            "EPOCH  105  | TRAIN LOSS  6.2685918962213245  | TEST LOSS  6.372827661825675\n",
            "EPOCH  106  | TRAIN LOSS  6.25086000397116  | TEST LOSS  6.353521432968795\n",
            "EPOCH  107  | TRAIN LOSS  6.232738057152514  | TEST LOSS  6.333778956452758\n",
            "EPOCH  108  | TRAIN LOSS  6.214191050102958  | TEST LOSS  6.313574155135451\n",
            "EPOCH  109  | TRAIN LOSS  6.195197406404087  | TEST LOSS  6.292875336337668\n",
            "EPOCH  110  | TRAIN LOSS  6.175719339663049  | TEST LOSS  6.271650035917483\n",
            "EPOCH  111  | TRAIN LOSS  6.155715570051173  | TEST LOSS  6.249860099610436\n",
            "EPOCH  112  | TRAIN LOSS  6.135150110361099  | TEST LOSS  6.22746094637952\n",
            "EPOCH  113  | TRAIN LOSS  6.11398568211849  | TEST LOSS  6.204407582490997\n",
            "EPOCH  114  | TRAIN LOSS  6.092176063978817  | TEST LOSS  6.180651443644372\n",
            "EPOCH  115  | TRAIN LOSS  6.0696735157570885  | TEST LOSS  6.1561424454870375\n",
            "EPOCH  116  | TRAIN LOSS  6.046430946635375  | TEST LOSS  6.130826242773915\n",
            "EPOCH  117  | TRAIN LOSS  6.022406211582812  | TEST LOSS  6.104659768165427\n",
            "EPOCH  118  | TRAIN LOSS  5.9975552168453765  | TEST LOSS  6.077594735404561\n",
            "EPOCH  119  | TRAIN LOSS  5.971825947100158  | TEST LOSS  6.049575007142574\n",
            "EPOCH  120  | TRAIN LOSS  5.945162158859409  | TEST LOSS  6.0205472674802\n",
            "EPOCH  121  | TRAIN LOSS  5.917514728239759  | TEST LOSS  5.990465404721462\n",
            "EPOCH  122  | TRAIN LOSS  5.888841792674972  | TEST LOSS  5.959270052682834\n",
            "EPOCH  123  | TRAIN LOSS  5.8590806466666185  | TEST LOSS  5.926902306939184\n",
            "EPOCH  124  | TRAIN LOSS  5.828176940303794  | TEST LOSS  5.893301775268714\n",
            "EPOCH  125  | TRAIN LOSS  5.796067084407673  | TEST LOSS  5.858403752643469\n",
            "EPOCH  126  | TRAIN LOSS  5.762690921215009  | TEST LOSS  5.822169027572306\n",
            "EPOCH  127  | TRAIN LOSS  5.728006433300747  | TEST LOSS  5.7845363606760465\n",
            "EPOCH  128  | TRAIN LOSS  5.691963853514721  | TEST LOSS  5.7454339862952075\n",
            "EPOCH  129  | TRAIN LOSS  5.654502249667632  | TEST LOSS  5.704799710518957\n",
            "EPOCH  130  | TRAIN LOSS  5.615557407927417  | TEST LOSS  5.662554749257827\n",
            "EPOCH  131  | TRAIN LOSS  5.575051764018111  | TEST LOSS  5.6186436273802745\n",
            "EPOCH  132  | TRAIN LOSS  5.532916559241156  | TEST LOSS  5.572999133899017\n",
            "EPOCH  133  | TRAIN LOSS  5.489080335865129  | TEST LOSS  5.5255461041592335\n",
            "EPOCH  134  | TRAIN LOSS  5.443482653200088  | TEST LOSS  5.476195430710405\n",
            "EPOCH  135  | TRAIN LOSS  5.3960486419697995  | TEST LOSS  5.424889397438765\n",
            "EPOCH  136  | TRAIN LOSS  5.346706851697728  | TEST LOSS  5.371545642618233\n",
            "EPOCH  137  | TRAIN LOSS  5.295378406027291  | TEST LOSS  5.316090001686875\n",
            "EPOCH  138  | TRAIN LOSS  5.24197809042753  | TEST LOSS  5.258441537105596\n",
            "EPOCH  139  | TRAIN LOSS  5.186435267809075  | TEST LOSS  5.1985072507244094\n",
            "EPOCH  140  | TRAIN LOSS  5.128660060228958  | TEST LOSS  5.1362100795468155\n",
            "EPOCH  141  | TRAIN LOSS  5.068581561485729  | TEST LOSS  5.0714683547630575\n",
            "EPOCH  142  | TRAIN LOSS  5.006111641279033  | TEST LOSS  5.004215792844164\n",
            "EPOCH  143  | TRAIN LOSS  4.941178824066841  | TEST LOSS  4.934396169054926\n",
            "EPOCH  144  | TRAIN LOSS  4.873714119511912  | TEST LOSS  4.861952723935259\n",
            "EPOCH  145  | TRAIN LOSS  4.803663023908758  | TEST LOSS  4.786865897604586\n",
            "EPOCH  146  | TRAIN LOSS  4.73100828847134  | TEST LOSS  4.709203829561223\n",
            "EPOCH  147  | TRAIN LOSS  4.655813622428077  | TEST LOSS  4.628981212819335\n",
            "EPOCH  148  | TRAIN LOSS  4.578104329856807  | TEST LOSS  4.546276969282677\n",
            "EPOCH  149  | TRAIN LOSS  4.497983222782512  | TEST LOSS  4.461150700947194\n",
            "EPOCH  150  | TRAIN LOSS  4.415461139609246  | TEST LOSS  4.373739987250188\n",
            "EPOCH  151  | TRAIN LOSS  4.330677166536321  | TEST LOSS  4.2842408802095475\n",
            "EPOCH  152  | TRAIN LOSS  4.243823430449701  | TEST LOSS  4.19288533411975\n",
            "EPOCH  153  | TRAIN LOSS  4.155057728970136  | TEST LOSS  4.099795173352146\n",
            "EPOCH  154  | TRAIN LOSS  4.064611001024167  | TEST LOSS  4.005105704900567\n",
            "EPOCH  155  | TRAIN LOSS  3.9726479110436013  | TEST LOSS  3.9090928090776074\n",
            "EPOCH  156  | TRAIN LOSS  3.8793676968331385  | TEST LOSS  3.81199329242722\n",
            "EPOCH  157  | TRAIN LOSS  3.7850111128629855  | TEST LOSS  3.7140733179471552\n",
            "EPOCH  158  | TRAIN LOSS  3.689932920834314  | TEST LOSS  3.615796020529807\n",
            "EPOCH  159  | TRAIN LOSS  3.5944462939174264  | TEST LOSS  3.5173365632515043\n",
            "EPOCH  160  | TRAIN LOSS  3.4988065553967362  | TEST LOSS  3.4190428458927133\n",
            "EPOCH  161  | TRAIN LOSS  3.4033042750649125  | TEST LOSS  3.321254916776149\n",
            "EPOCH  162  | TRAIN LOSS  3.308196603522285  | TEST LOSS  3.2244395601524345\n",
            "EPOCH  163  | TRAIN LOSS  3.213981011318633  | TEST LOSS  3.128892429563606\n",
            "EPOCH  164  | TRAIN LOSS  3.1210576254170603  | TEST LOSS  3.034809594816238\n",
            "EPOCH  165  | TRAIN LOSS  3.0295547155317326  | TEST LOSS  2.9422877740220055\n",
            "EPOCH  166  | TRAIN LOSS  2.9395031754963563  | TEST LOSS  2.851500823210391\n",
            "EPOCH  167  | TRAIN LOSS  2.8511474079009393  | TEST LOSS  2.76258488461472\n",
            "EPOCH  168  | TRAIN LOSS  2.7645445117435155  | TEST LOSS  2.6755368941552256\n",
            "EPOCH  169  | TRAIN LOSS  2.6797226451419127  | TEST LOSS  2.590543863539074\n",
            "EPOCH  170  | TRAIN LOSS  2.5967495139873367  | TEST LOSS  2.5076730251307575\n",
            "EPOCH  171  | TRAIN LOSS  2.5157003720782485  | TEST LOSS  2.427053379502593\n",
            "EPOCH  172  | TRAIN LOSS  2.4366193401536727  | TEST LOSS  2.3485946488406366\n",
            "EPOCH  173  | TRAIN LOSS  2.359575114354106  | TEST LOSS  2.272353331334836\n",
            "EPOCH  174  | TRAIN LOSS  2.2846182653420555  | TEST LOSS  2.198447510323529\n",
            "EPOCH  175  | TRAIN LOSS  2.2118148926153984  | TEST LOSS  2.1269597868069834\n",
            "EPOCH  176  | TRAIN LOSS  2.141265014652544  | TEST LOSS  2.0580543003293186\n",
            "EPOCH  177  | TRAIN LOSS  2.073180339453216  | TEST LOSS  1.9918571796250368\n",
            "EPOCH  178  | TRAIN LOSS  2.007640483716543  | TEST LOSS  1.928389214955783\n",
            "EPOCH  179  | TRAIN LOSS  1.9447232742472822  | TEST LOSS  1.8675814418151204\n",
            "EPOCH  180  | TRAIN LOSS  1.8844759818242365  | TEST LOSS  1.8093966281892486\n",
            "EPOCH  181  | TRAIN LOSS  1.82677150736495  | TEST LOSS  1.7538217705151302\n",
            "EPOCH  182  | TRAIN LOSS  1.7716060919127976  | TEST LOSS  1.701016460022063\n",
            "EPOCH  183  | TRAIN LOSS  1.7190745578760622  | TEST LOSS  1.6508920198763477\n",
            "EPOCH  184  | TRAIN LOSS  1.6691737486906622  | TEST LOSS  1.6032474160941683\n",
            "EPOCH  185  | TRAIN LOSS  1.6216774160537621  | TEST LOSS  1.5578543210210365\n",
            "EPOCH  186  | TRAIN LOSS  1.576451622697181  | TEST LOSS  1.5146856558405217\n",
            "EPOCH  187  | TRAIN LOSS  1.5334100793906766  | TEST LOSS  1.4736354019807485\n",
            "EPOCH  188  | TRAIN LOSS  1.4924397297613963  | TEST LOSS  1.4345543110028143\n",
            "EPOCH  189  | TRAIN LOSS  1.4533783445420292  | TEST LOSS  1.397416325079356\n",
            "EPOCH  190  | TRAIN LOSS  1.4162410865219386  | TEST LOSS  1.3621291408777492\n",
            "EPOCH  191  | TRAIN LOSS  1.3809275067790001  | TEST LOSS  1.3285615668309114\n",
            "EPOCH  192  | TRAIN LOSS  1.3473323778127189  | TEST LOSS  1.2966844316506507\n",
            "EPOCH  193  | TRAIN LOSS  1.3153937670421012  | TEST LOSS  1.2664170178574048\n",
            "EPOCH  194  | TRAIN LOSS  1.2850448968584467  | TEST LOSS  1.2376843806228777\n",
            "EPOCH  195  | TRAIN LOSS  1.2562130586117892  | TEST LOSS  1.2104556434298543\n",
            "EPOCH  196  | TRAIN LOSS  1.2288674140523024  | TEST LOSS  1.1846719039943283\n",
            "EPOCH  197  | TRAIN LOSS  1.20292636834724  | TEST LOSS  1.1602458122477484\n",
            "EPOCH  198  | TRAIN LOSS  1.178320046822939  | TEST LOSS  1.137104378100939\n",
            "EPOCH  199  | TRAIN LOSS  1.1549909186992773  | TEST LOSS  1.115202764992607\n",
            "EPOCH  200  | TRAIN LOSS  1.132893538790934  | TEST LOSS  1.0945108078044254\n",
            "EPOCH  201  | TRAIN LOSS  1.1119606005788694  | TEST LOSS  1.07492674005584\n",
            "EPOCH  202  | TRAIN LOSS  1.0921385266377857  | TEST LOSS  1.0563934937502812\n",
            "EPOCH  203  | TRAIN LOSS  1.073368456540165  | TEST LOSS  1.0388547705424047\n",
            "EPOCH  204  | TRAIN LOSS  1.055596168162109  | TEST LOSS  1.0222592873440248\n",
            "EPOCH  205  | TRAIN LOSS  1.038768805630069  | TEST LOSS  1.0065423694844517\n",
            "EPOCH  206  | TRAIN LOSS  1.0228296192465802  | TEST LOSS  0.9916746961795941\n",
            "EPOCH  207  | TRAIN LOSS  1.0077373661822606  | TEST LOSS  0.977590866837831\n",
            "EPOCH  208  | TRAIN LOSS  0.9934365570558333  | TEST LOSS  0.9642465620473786\n",
            "EPOCH  209  | TRAIN LOSS  0.979882665648208  | TEST LOSS  0.9515945100359207\n",
            "EPOCH  210  | TRAIN LOSS  0.967042243038191  | TEST LOSS  0.9396004741437146\n",
            "EPOCH  211  | TRAIN LOSS  0.9548718564423394  | TEST LOSS  0.9282345937782721\n",
            "EPOCH  212  | TRAIN LOSS  0.9433306314555463  | TEST LOSS  0.9174575086916639\n",
            "EPOCH  213  | TRAIN LOSS  0.9323820914870572  | TEST LOSS  0.9072316360056382\n",
            "EPOCH  214  | TRAIN LOSS  0.9219898728873269  | TEST LOSS  0.8975217202989076\n",
            "EPOCH  215  | TRAIN LOSS  0.912130846495946  | TEST LOSS  0.8882974695481314\n",
            "EPOCH  216  | TRAIN LOSS  0.9027590893060337  | TEST LOSS  0.8795338893405561\n",
            "EPOCH  217  | TRAIN LOSS  0.8938335728291289  | TEST LOSS  0.871202949401737\n",
            "EPOCH  218  | TRAIN LOSS  0.8853387326960866  | TEST LOSS  0.8632705937724845\n",
            "EPOCH  219  | TRAIN LOSS  0.8772518207688221  | TEST LOSS  0.8557115157982568\n",
            "EPOCH  220  | TRAIN LOSS  0.8695435128346937  | TEST LOSS  0.8484978049380393\n",
            "EPOCH  221  | TRAIN LOSS  0.8621816394640734  | TEST LOSS  0.8416030460351666\n",
            "EPOCH  222  | TRAIN LOSS  0.8551530513577836  | TEST LOSS  0.8350041140722482\n",
            "EPOCH  223  | TRAIN LOSS  0.8484263157140154  | TEST LOSS  0.8286806189889568\n",
            "EPOCH  224  | TRAIN LOSS  0.8419802553959224  | TEST LOSS  0.8226207416618911\n",
            "EPOCH  225  | TRAIN LOSS  0.8358008955356385  | TEST LOSS  0.8168050503264835\n",
            "EPOCH  226  | TRAIN LOSS  0.8298703484899026  | TEST LOSS  0.8112222488481536\n",
            "EPOCH  227  | TRAIN LOSS  0.8241688709031975  | TEST LOSS  0.805854305875725\n",
            "EPOCH  228  | TRAIN LOSS  0.8186825511635824  | TEST LOSS  0.8006864422569121\n",
            "EPOCH  229  | TRAIN LOSS  0.8134022751093104  | TEST LOSS  0.7957130565285038\n",
            "EPOCH  230  | TRAIN LOSS  0.8083104810769982  | TEST LOSS  0.7909090832075274\n",
            "EPOCH  231  | TRAIN LOSS  0.8033872137508353  | TEST LOSS  0.7862679679601273\n",
            "EPOCH  232  | TRAIN LOSS  0.7986263639178759  | TEST LOSS  0.7817785761702406\n",
            "EPOCH  233  | TRAIN LOSS  0.7940157683939545  | TEST LOSS  0.7774338135071346\n",
            "EPOCH  234  | TRAIN LOSS  0.7895472036819592  | TEST LOSS  0.7732144615709241\n",
            "EPOCH  235  | TRAIN LOSS  0.7852125653845845  | TEST LOSS  0.769111555599945\n",
            "EPOCH  236  | TRAIN LOSS  0.7810024112610985  | TEST LOSS  0.7651138340149602\n",
            "EPOCH  237  | TRAIN LOSS  0.7769106334032415  | TEST LOSS  0.761223722518444\n",
            "EPOCH  238  | TRAIN LOSS  0.7729274931283686  | TEST LOSS  0.757437591470703\n",
            "EPOCH  239  | TRAIN LOSS  0.7690480407855034  | TEST LOSS  0.7537389234594275\n",
            "EPOCH  240  | TRAIN LOSS  0.7652662846576209  | TEST LOSS  0.7501264653474268\n",
            "EPOCH  241  | TRAIN LOSS  0.7615738131977486  | TEST LOSS  0.7465998850270235\n",
            "EPOCH  242  | TRAIN LOSS  0.7579659818890672  | TEST LOSS  0.7431513562609025\n",
            "EPOCH  243  | TRAIN LOSS  0.7544349758224691  | TEST LOSS  0.7397777087439694\n",
            "EPOCH  244  | TRAIN LOSS  0.7509788981814687  | TEST LOSS  0.7364684106608453\n",
            "EPOCH  245  | TRAIN LOSS  0.747592995824723  | TEST LOSS  0.7332241129283518\n",
            "EPOCH  246  | TRAIN LOSS  0.7442743986951375  | TEST LOSS  0.7300371156332867\n",
            "EPOCH  247  | TRAIN LOSS  0.7410118318848683  | TEST LOSS  0.726908139387837\n",
            "EPOCH  248  | TRAIN LOSS  0.7378073027384626  | TEST LOSS  0.7238350910036644\n",
            "EPOCH  249  | TRAIN LOSS  0.7346582156341191  | TEST LOSS  0.7208202334933083\n",
            "EPOCH  250  | TRAIN LOSS  0.7315646268230396  | TEST LOSS  0.7178586383432869\n",
            "EPOCH  251  | TRAIN LOSS  0.7285213770027942  | TEST LOSS  0.7149493017322527\n",
            "EPOCH  252  | TRAIN LOSS  0.7255286326066265  | TEST LOSS  0.712081358209834\n",
            "EPOCH  253  | TRAIN LOSS  0.7225839067776051  | TEST LOSS  0.7092567036177091\n",
            "EPOCH  254  | TRAIN LOSS  0.7196824462125798  | TEST LOSS  0.706473269612072\n",
            "EPOCH  255  | TRAIN LOSS  0.7168237678866619  | TEST LOSS  0.703729933602798\n",
            "EPOCH  256  | TRAIN LOSS  0.7140046935006223  | TEST LOSS  0.701028368623837\n",
            "EPOCH  257  | TRAIN LOSS  0.7112232367263835  | TEST LOSS  0.6983666597819398\n",
            "EPOCH  258  | TRAIN LOSS  0.7084776242652385  | TEST LOSS  0.6957440761417527\n",
            "EPOCH  259  | TRAIN LOSS  0.7057676884418116  | TEST LOSS  0.693154323633198\n",
            "EPOCH  260  | TRAIN LOSS  0.7030920716156265  | TEST LOSS  0.690593602370914\n",
            "EPOCH  261  | TRAIN LOSS  0.7004456530997357  | TEST LOSS  0.6880638212848302\n",
            "EPOCH  262  | TRAIN LOSS  0.6978288143381642  | TEST LOSS  0.6855588471933534\n",
            "EPOCH  263  | TRAIN LOSS  0.6952399114268919  | TEST LOSS  0.6830824062350322\n",
            "EPOCH  264  | TRAIN LOSS  0.6926785594346648  | TEST LOSS  0.6806290272638247\n",
            "EPOCH  265  | TRAIN LOSS  0.6901434729425923  | TEST LOSS  0.6782008835241699\n",
            "EPOCH  266  | TRAIN LOSS  0.6876311293771357  | TEST LOSS  0.675796672288633\n",
            "EPOCH  267  | TRAIN LOSS  0.6851441543691827  | TEST LOSS  0.6734160278446711\n",
            "EPOCH  268  | TRAIN LOSS  0.682682190959595  | TEST LOSS  0.671060823895183\n",
            "EPOCH  269  | TRAIN LOSS  0.6802452111129934  | TEST LOSS  0.6687267979392438\n",
            "EPOCH  270  | TRAIN LOSS  0.6778326965575987  | TEST LOSS  0.6664115493927145\n",
            "EPOCH  271  | TRAIN LOSS  0.6754426086510205  | TEST LOSS  0.6641148709051383\n",
            "EPOCH  272  | TRAIN LOSS  0.6730729038694735  | TEST LOSS  0.6618390480363086\n",
            "EPOCH  273  | TRAIN LOSS  0.6707239293561841  | TEST LOSS  0.6595812495312995\n",
            "EPOCH  274  | TRAIN LOSS  0.6683940356065745  | TEST LOSS  0.6573429502325993\n",
            "EPOCH  275  | TRAIN LOSS  0.6660861941052896  | TEST LOSS  0.6551218550078907\n",
            "EPOCH  276  | TRAIN LOSS  0.6638000365185756  | TEST LOSS  0.6529264139119462\n",
            "EPOCH  277  | TRAIN LOSS  0.6615375451383511  | TEST LOSS  0.6507477799764116\n",
            "EPOCH  278  | TRAIN LOSS  0.6592960040858326  | TEST LOSS  0.6485890129299007\n",
            "EPOCH  279  | TRAIN LOSS  0.6570752227842062  | TEST LOSS  0.6464443041952161\n",
            "EPOCH  280  | TRAIN LOSS  0.6548704215389769  | TEST LOSS  0.6443159644830114\n",
            "EPOCH  281  | TRAIN LOSS  0.6526810802388736  | TEST LOSS  0.6422072217785268\n",
            "EPOCH  282  | TRAIN LOSS  0.6505081155982941  | TEST LOSS  0.64011284456556\n",
            "EPOCH  283  | TRAIN LOSS  0.6483504899408116  | TEST LOSS  0.6380313851519956\n",
            "EPOCH  284  | TRAIN LOSS  0.6462083974249992  | TEST LOSS  0.6359610361378703\n",
            "EPOCH  285  | TRAIN LOSS  0.6440821093153458  | TEST LOSS  0.6339084043696563\n",
            "EPOCH  286  | TRAIN LOSS  0.6419738760789957  | TEST LOSS  0.6318760663323112\n",
            "EPOCH  287  | TRAIN LOSS  0.6398817321731196  | TEST LOSS  0.6298532352274507\n",
            "EPOCH  288  | TRAIN LOSS  0.6378017086279361  | TEST LOSS  0.6278416228107684\n",
            "EPOCH  289  | TRAIN LOSS  0.6357354911130213  | TEST LOSS  0.6258418656652602\n",
            "EPOCH  290  | TRAIN LOSS  0.6336850013094187  | TEST LOSS  0.6238612217289728\n",
            "EPOCH  291  | TRAIN LOSS  0.631650520606876  | TEST LOSS  0.6218916832265363\n",
            "EPOCH  292  | TRAIN LOSS  0.6296270558245175  | TEST LOSS  0.6199369360396496\n",
            "EPOCH  293  | TRAIN LOSS  0.62762125252679  | TEST LOSS  0.6179930386767739\n",
            "EPOCH  294  | TRAIN LOSS  0.6256264533304813  | TEST LOSS  0.6160652281607731\n",
            "EPOCH  295  | TRAIN LOSS  0.6236448473101383  | TEST LOSS  0.6141519509086021\n",
            "EPOCH  296  | TRAIN LOSS  0.62167754181048  | TEST LOSS  0.6122485182146001\n",
            "EPOCH  297  | TRAIN LOSS  0.6197233803004545  | TEST LOSS  0.6103588364534599\n",
            "EPOCH  298  | TRAIN LOSS  0.6177847023418075  | TEST LOSS  0.6084840563709604\n",
            "EPOCH  299  | TRAIN LOSS  0.6158617252762161  | TEST LOSS  0.6066183816525943\n",
            "EPOCH  300  | TRAIN LOSS  0.6139501591189325  | TEST LOSS  0.604765511037689\n",
            "EPOCH  301  | TRAIN LOSS  0.6120485532033786  | TEST LOSS  0.6029231493171392\n",
            "EPOCH  302  | TRAIN LOSS  0.6101579263490461  | TEST LOSS  0.6010920277208188\n",
            "EPOCH  303  | TRAIN LOSS  0.6082748596204463  | TEST LOSS  0.5992750024084605\n",
            "EPOCH  304  | TRAIN LOSS  0.6064025087493413  | TEST LOSS  0.5974647943021869\n",
            "EPOCH  305  | TRAIN LOSS  0.6045410545599974  | TEST LOSS  0.5956627551657376\n",
            "EPOCH  306  | TRAIN LOSS  0.6026887626203742  | TEST LOSS  0.5938753851142214\n",
            "EPOCH  307  | TRAIN LOSS  0.6008459577277495  | TEST LOSS  0.5921003313508244\n",
            "EPOCH  308  | TRAIN LOSS  0.5990150833292514  | TEST LOSS  0.5903382040802522\n",
            "EPOCH  309  | TRAIN LOSS  0.5971949100808677  | TEST LOSS  0.5885822976819254\n",
            "EPOCH  310  | TRAIN LOSS  0.59538425853119  | TEST LOSS  0.586836522095201\n",
            "EPOCH  311  | TRAIN LOSS  0.5935836836873019  | TEST LOSS  0.5851077287805402\n",
            "EPOCH  312  | TRAIN LOSS  0.5917953582359714  | TEST LOSS  0.5833880309250072\n",
            "EPOCH  313  | TRAIN LOSS  0.5900177001575236  | TEST LOSS  0.5816765200579423\n",
            "EPOCH  314  | TRAIN LOSS  0.5882532509066077  | TEST LOSS  0.579979743135606\n",
            "EPOCH  315  | TRAIN LOSS  0.5864979011646152  | TEST LOSS  0.5782965986471963\n",
            "EPOCH  316  | TRAIN LOSS  0.5847554390346884  | TEST LOSS  0.576624868524983\n",
            "EPOCH  317  | TRAIN LOSS  0.5830242140457025  | TEST LOSS  0.5749638881780211\n",
            "EPOCH  318  | TRAIN LOSS  0.5813052434929206  | TEST LOSS  0.5733159742915984\n",
            "EPOCH  319  | TRAIN LOSS  0.5796001076565096  | TEST LOSS  0.5716775777959849\n",
            "EPOCH  320  | TRAIN LOSS  0.5779059190008958  | TEST LOSS  0.5700465556214603\n",
            "EPOCH  321  | TRAIN LOSS  0.576224365361526  | TEST LOSS  0.5684204370135313\n",
            "EPOCH  322  | TRAIN LOSS  0.5745545350932749  | TEST LOSS  0.5668085762435559\n",
            "EPOCH  323  | TRAIN LOSS  0.5728974333034188  | TEST LOSS  0.5652052030366914\n",
            "EPOCH  324  | TRAIN LOSS  0.5712522386613166  | TEST LOSS  0.5636111171987682\n",
            "EPOCH  325  | TRAIN LOSS  0.5696210131138991  | TEST LOSS  0.5620299705789547\n",
            "EPOCH  326  | TRAIN LOSS  0.5680027215322397  | TEST LOSS  0.5604608216288459\n",
            "EPOCH  327  | TRAIN LOSS  0.5663978892970484  | TEST LOSS  0.5589036856731066\n",
            "EPOCH  328  | TRAIN LOSS  0.5648032580997745  | TEST LOSS  0.5573569977912357\n",
            "EPOCH  329  | TRAIN LOSS  0.5632196223956556  | TEST LOSS  0.5558180567709347\n",
            "EPOCH  330  | TRAIN LOSS  0.5616454724640202  | TEST LOSS  0.5542905422686677\n",
            "EPOCH  331  | TRAIN LOSS  0.560083600445894  | TEST LOSS  0.5527681421070177\n",
            "EPOCH  332  | TRAIN LOSS  0.5585348281261482  | TEST LOSS  0.5512539850666195\n",
            "EPOCH  333  | TRAIN LOSS  0.5569968911629624  | TEST LOSS  0.549750076802339\n",
            "EPOCH  334  | TRAIN LOSS  0.5554713776661405  | TEST LOSS  0.5482549957724974\n",
            "EPOCH  335  | TRAIN LOSS  0.5539561207841865  | TEST LOSS  0.5467714958645611\n",
            "EPOCH  336  | TRAIN LOSS  0.5524527887252286  | TEST LOSS  0.5452973178031353\n",
            "EPOCH  337  | TRAIN LOSS  0.5509622305566639  | TEST LOSS  0.5438350746031756\n",
            "EPOCH  338  | TRAIN LOSS  0.5494848596590038  | TEST LOSS  0.5423828262154731\n",
            "EPOCH  339  | TRAIN LOSS  0.5480174702714521  | TEST LOSS  0.540942499222756\n",
            "EPOCH  340  | TRAIN LOSS  0.5465611969839258  | TEST LOSS  0.5395134839883654\n",
            "EPOCH  341  | TRAIN LOSS  0.5451151748512343  | TEST LOSS  0.5380930046747151\n",
            "EPOCH  342  | TRAIN LOSS  0.5436793703340443  | TEST LOSS  0.5366809823608448\n",
            "EPOCH  343  | TRAIN LOSS  0.5422534734550112  | TEST LOSS  0.5352837460943003\n",
            "EPOCH  344  | TRAIN LOSS  0.5408367595692755  | TEST LOSS  0.5338948227794941\n",
            "EPOCH  345  | TRAIN LOSS  0.5394322568485903  | TEST LOSS  0.532514310104633\n",
            "EPOCH  346  | TRAIN LOSS  0.53803903112752  | TEST LOSS  0.5311430279314888\n",
            "EPOCH  347  | TRAIN LOSS  0.5366553959773451  | TEST LOSS  0.5297787762928203\n",
            "EPOCH  348  | TRAIN LOSS  0.5352810857421769  | TEST LOSS  0.5284248308480403\n",
            "EPOCH  349  | TRAIN LOSS  0.5339169150676303  | TEST LOSS  0.5270808701613132\n",
            "EPOCH  350  | TRAIN LOSS  0.5325620339449234  | TEST LOSS  0.5257452276444122\n",
            "EPOCH  351  | TRAIN LOSS  0.5312152722333858  | TEST LOSS  0.5244150024176857\n",
            "EPOCH  352  | TRAIN LOSS  0.5298781919315858  | TEST LOSS  0.5230930050686892\n",
            "EPOCH  353  | TRAIN LOSS  0.5285522314453353  | TEST LOSS  0.5217797377046505\n",
            "EPOCH  354  | TRAIN LOSS  0.5272345666542473  | TEST LOSS  0.5204761472285577\n",
            "EPOCH  355  | TRAIN LOSS  0.5259250097416989  | TEST LOSS  0.5191827526244028\n",
            "EPOCH  356  | TRAIN LOSS  0.5246247600452136  | TEST LOSS  0.5178998773982619\n",
            "EPOCH  357  | TRAIN LOSS  0.5233331003565909  | TEST LOSS  0.5166242738327853\n",
            "EPOCH  358  | TRAIN LOSS  0.5220504991154498  | TEST LOSS  0.5153581544915073\n",
            "EPOCH  359  | TRAIN LOSS  0.5207773684827195  | TEST LOSS  0.5141009944215559\n",
            "EPOCH  360  | TRAIN LOSS  0.5195112197081277  | TEST LOSS  0.512852812540591\n",
            "EPOCH  361  | TRAIN LOSS  0.5182530251006557  | TEST LOSS  0.511614989872003\n",
            "EPOCH  362  | TRAIN LOSS  0.5170029470704205  | TEST LOSS  0.5103838722698847\n",
            "EPOCH  363  | TRAIN LOSS  0.5157614137239969  | TEST LOSS  0.5091585416161802\n",
            "EPOCH  364  | TRAIN LOSS  0.5145287180128996  | TEST LOSS  0.5079420693313013\n",
            "EPOCH  365  | TRAIN LOSS  0.5133050695831809  | TEST LOSS  0.5067333499204558\n",
            "EPOCH  366  | TRAIN LOSS  0.5120879657801125  | TEST LOSS  0.5055337154718744\n",
            "EPOCH  367  | TRAIN LOSS  0.5108800197528286  | TEST LOSS  0.5043410596616813\n",
            "EPOCH  368  | TRAIN LOSS  0.5096814616104423  | TEST LOSS  0.503160535781133\n",
            "EPOCH  369  | TRAIN LOSS  0.5084914000101072  | TEST LOSS  0.5019879065080027\n",
            "EPOCH  370  | TRAIN LOSS  0.5073094646962921  | TEST LOSS  0.5008255898960781\n",
            "EPOCH  371  | TRAIN LOSS  0.5061361871446522  | TEST LOSS  0.49966897757652223\n",
            "EPOCH  372  | TRAIN LOSS  0.5049702433504838  | TEST LOSS  0.4985189943331354\n",
            "EPOCH  373  | TRAIN LOSS  0.5038119386535894  | TEST LOSS  0.49737779419990047\n",
            "EPOCH  374  | TRAIN LOSS  0.5026613312899659  | TEST LOSS  0.4962424180469001\n",
            "EPOCH  375  | TRAIN LOSS  0.5015187440035951  | TEST LOSS  0.49511403394780495\n",
            "EPOCH  376  | TRAIN LOSS  0.500383054542342  | TEST LOSS  0.4939924124208659\n",
            "EPOCH  377  | TRAIN LOSS  0.49925387245638575  | TEST LOSS  0.4928789521000119\n",
            "EPOCH  378  | TRAIN LOSS  0.49813344891303224  | TEST LOSS  0.49177317686128935\n",
            "EPOCH  379  | TRAIN LOSS  0.4970205169504643  | TEST LOSS  0.4906740946487705\n",
            "EPOCH  380  | TRAIN LOSS  0.4959149221118232  | TEST LOSS  0.48958405518757875\n",
            "EPOCH  381  | TRAIN LOSS  0.49481584392215383  | TEST LOSS  0.48850051355548696\n",
            "EPOCH  382  | TRAIN LOSS  0.4937231574683532  | TEST LOSS  0.4874220153762864\n",
            "EPOCH  383  | TRAIN LOSS  0.4926371788322829  | TEST LOSS  0.48634878250346997\n",
            "EPOCH  384  | TRAIN LOSS  0.4915584348194554  | TEST LOSS  0.4852837291777229\n",
            "EPOCH  385  | TRAIN LOSS  0.49048670627504326  | TEST LOSS  0.4842238944638675\n",
            "EPOCH  386  | TRAIN LOSS  0.4894204575025123  | TEST LOSS  0.48316701627333836\n",
            "EPOCH  387  | TRAIN LOSS  0.48836124752121834  | TEST LOSS  0.4821182283673513\n",
            "EPOCH  388  | TRAIN LOSS  0.4873094609616419  | TEST LOSS  0.481079746931895\n",
            "EPOCH  389  | TRAIN LOSS  0.48626479639969694  | TEST LOSS  0.48004530253115446\n",
            "EPOCH  390  | TRAIN LOSS  0.48522614115228524  | TEST LOSS  0.4790184905140026\n",
            "EPOCH  391  | TRAIN LOSS  0.4841939392348582  | TEST LOSS  0.47799617958198676\n",
            "EPOCH  392  | TRAIN LOSS  0.4831676318612493  | TEST LOSS  0.47697688880038625\n",
            "EPOCH  393  | TRAIN LOSS  0.48214662318479207  | TEST LOSS  0.47596163316831297\n",
            "EPOCH  394  | TRAIN LOSS  0.48113320789019526  | TEST LOSS  0.4749531706402424\n",
            "EPOCH  395  | TRAIN LOSS  0.48012691540786134  | TEST LOSS  0.4739491554615527\n",
            "EPOCH  396  | TRAIN LOSS  0.4791280262031544  | TEST LOSS  0.47295029932652083\n",
            "EPOCH  397  | TRAIN LOSS  0.4781359397702562  | TEST LOSS  0.4719579127298846\n",
            "EPOCH  398  | TRAIN LOSS  0.47714877757638086  | TEST LOSS  0.47097625064232274\n",
            "EPOCH  399  | TRAIN LOSS  0.476168300045224  | TEST LOSS  0.4699990966792385\n",
            "EPOCH  400  | TRAIN LOSS  0.47519450649750833  | TEST LOSS  0.46902542347679577\n",
            "EPOCH  401  | TRAIN LOSS  0.47422752432833676  | TEST LOSS  0.46805777186124026\n",
            "EPOCH  402  | TRAIN LOSS  0.4732678081108921  | TEST LOSS  0.4670982090077762\n",
            "EPOCH  403  | TRAIN LOSS  0.4723145062272595  | TEST LOSS  0.4661440523933559\n",
            "EPOCH  404  | TRAIN LOSS  0.47136742094923484  | TEST LOSS  0.4651976829343111\n",
            "EPOCH  405  | TRAIN LOSS  0.4704269926278228  | TEST LOSS  0.4642583306145661\n",
            "EPOCH  406  | TRAIN LOSS  0.4694938011308961  | TEST LOSS  0.4633245192008946\n",
            "EPOCH  407  | TRAIN LOSS  0.4685658491882963  | TEST LOSS  0.46239763571887765\n",
            "EPOCH  408  | TRAIN LOSS  0.4676431922232278  | TEST LOSS  0.46147613951312955\n",
            "EPOCH  409  | TRAIN LOSS  0.46672761457937495  | TEST LOSS  0.4605599746958574\n",
            "EPOCH  410  | TRAIN LOSS  0.46581811384219873  | TEST LOSS  0.45964629550869124\n",
            "EPOCH  411  | TRAIN LOSS  0.4649141035394618  | TEST LOSS  0.45873643852396423\n",
            "EPOCH  412  | TRAIN LOSS  0.46401590420038835  | TEST LOSS  0.4578361931476395\n",
            "EPOCH  413  | TRAIN LOSS  0.4631229502557092  | TEST LOSS  0.45694189146541614\n",
            "EPOCH  414  | TRAIN LOSS  0.4622347527748385  | TEST LOSS  0.45605144196466674\n",
            "EPOCH  415  | TRAIN LOSS  0.46135182129365987  | TEST LOSS  0.4551630233788072\n",
            "EPOCH  416  | TRAIN LOSS  0.460474390879795  | TEST LOSS  0.4542793257137666\n",
            "EPOCH  417  | TRAIN LOSS  0.4596018510535608  | TEST LOSS  0.4534040526513477\n",
            "EPOCH  418  | TRAIN LOSS  0.45873340797097756  | TEST LOSS  0.45253068130614904\n",
            "EPOCH  419  | TRAIN LOSS  0.4578701370382171  | TEST LOSS  0.4516635359643076\n",
            "EPOCH  420  | TRAIN LOSS  0.4570127968766938  | TEST LOSS  0.4507993708154028\n",
            "EPOCH  421  | TRAIN LOSS  0.45615917300264974  | TEST LOSS  0.4499380051492424\n",
            "EPOCH  422  | TRAIN LOSS  0.4553103908624191  | TEST LOSS  0.44908141113085526\n",
            "EPOCH  423  | TRAIN LOSS  0.4544668807387865  | TEST LOSS  0.44823347977156935\n",
            "EPOCH  424  | TRAIN LOSS  0.45362849666803834  | TEST LOSS  0.447390498662323\n",
            "EPOCH  425  | TRAIN LOSS  0.4527951984381554  | TEST LOSS  0.4465542564225765\n",
            "EPOCH  426  | TRAIN LOSS  0.4519659159263112  | TEST LOSS  0.4457196741801698\n",
            "EPOCH  427  | TRAIN LOSS  0.4511407096057185  | TEST LOSS  0.4448923937019299\n",
            "EPOCH  428  | TRAIN LOSS  0.45031889255084917  | TEST LOSS  0.4440683389624787\n",
            "EPOCH  429  | TRAIN LOSS  0.4495010231067746  | TEST LOSS  0.4432484788326688\n",
            "EPOCH  430  | TRAIN LOSS  0.4486878929976615  | TEST LOSS  0.4424338278623605\n",
            "EPOCH  431  | TRAIN LOSS  0.4478785014367374  | TEST LOSS  0.4416260650453295\n",
            "EPOCH  432  | TRAIN LOSS  0.4470723291626002  | TEST LOSS  0.4408209765154918\n",
            "EPOCH  433  | TRAIN LOSS  0.446271722385184  | TEST LOSS  0.4400219583862345\n",
            "EPOCH  434  | TRAIN LOSS  0.44547718885380183  | TEST LOSS  0.43922964128793823\n",
            "EPOCH  435  | TRAIN LOSS  0.4446879532003638  | TEST LOSS  0.43844035838971296\n",
            "EPOCH  436  | TRAIN LOSS  0.44390314242565976  | TEST LOSS  0.4376560449970381\n",
            "EPOCH  437  | TRAIN LOSS  0.44312266312211385  | TEST LOSS  0.436877705350097\n",
            "EPOCH  438  | TRAIN LOSS  0.44234846182668097  | TEST LOSS  0.4361042195380482\n",
            "EPOCH  439  | TRAIN LOSS  0.441579585003536  | TEST LOSS  0.4353347567227004\n",
            "EPOCH  440  | TRAIN LOSS  0.44081499486115383  | TEST LOSS  0.4345692106889537\n",
            "EPOCH  441  | TRAIN LOSS  0.44005460354239073  | TEST LOSS  0.43380995788900134\n",
            "EPOCH  442  | TRAIN LOSS  0.4392995132014249  | TEST LOSS  0.4330548391411013\n",
            "EPOCH  443  | TRAIN LOSS  0.4385475305758122  | TEST LOSS  0.4323013985877844\n",
            "EPOCH  444  | TRAIN LOSS  0.43780016978994873  | TEST LOSS  0.4315509188601956\n",
            "EPOCH  445  | TRAIN LOSS  0.4370573591064168  | TEST LOSS  0.43080637024017243\n",
            "EPOCH  446  | TRAIN LOSS  0.43631855749131737  | TEST LOSS  0.4300664600442565\n",
            "EPOCH  447  | TRAIN LOSS  0.4355840750096674  | TEST LOSS  0.4293311003106935\n",
            "EPOCH  448  | TRAIN LOSS  0.4348544136081375  | TEST LOSS  0.42859897181460915\n",
            "EPOCH  449  | TRAIN LOSS  0.4341297036822333  | TEST LOSS  0.42787130620935826\n",
            "EPOCH  450  | TRAIN LOSS  0.4334090817941411  | TEST LOSS  0.42714919049851097\n",
            "EPOCH  451  | TRAIN LOSS  0.43269133456823194  | TEST LOSS  0.4264339312354439\n",
            "EPOCH  452  | TRAIN LOSS  0.4319761678895318  | TEST LOSS  0.4257238766496439\n",
            "EPOCH  453  | TRAIN LOSS  0.43126501867284717  | TEST LOSS  0.42501682940477836\n",
            "EPOCH  454  | TRAIN LOSS  0.4305580482122969  | TEST LOSS  0.4243152772498563\n",
            "EPOCH  455  | TRAIN LOSS  0.4298556516263664  | TEST LOSS  0.4236159366372732\n",
            "EPOCH  456  | TRAIN LOSS  0.4291592695513857  | TEST LOSS  0.42291914308116113\n",
            "EPOCH  457  | TRAIN LOSS  0.4284682014205526  | TEST LOSS  0.4222258519285385\n",
            "EPOCH  458  | TRAIN LOSS  0.4277812093079501  | TEST LOSS  0.421537604868068\n",
            "EPOCH  459  | TRAIN LOSS  0.42709758089728694  | TEST LOSS  0.42085158644021947\n",
            "EPOCH  460  | TRAIN LOSS  0.4264187696061155  | TEST LOSS  0.4201690455254379\n",
            "EPOCH  461  | TRAIN LOSS  0.42574465150682617  | TEST LOSS  0.41949269471866174\n",
            "EPOCH  462  | TRAIN LOSS  0.4250750076620393  | TEST LOSS  0.418818946916242\n",
            "EPOCH  463  | TRAIN LOSS  0.4244087624094709  | TEST LOSS  0.41814916682645203\n",
            "EPOCH  464  | TRAIN LOSS  0.42374641524475654  | TEST LOSS  0.4174804160450384\n",
            "EPOCH  465  | TRAIN LOSS  0.4230879385858946  | TEST LOSS  0.4168171913696456\n",
            "EPOCH  466  | TRAIN LOSS  0.42243285282637427  | TEST LOSS  0.4161553556102853\n",
            "EPOCH  467  | TRAIN LOSS  0.4217813181978735  | TEST LOSS  0.41549756025950857\n",
            "EPOCH  468  | TRAIN LOSS  0.4211332361034657  | TEST LOSS  0.4148440124560719\n",
            "EPOCH  469  | TRAIN LOSS  0.4204886227013095  | TEST LOSS  0.4141940562396976\n",
            "EPOCH  470  | TRAIN LOSS  0.4198475680176231  | TEST LOSS  0.4135477626972518\n",
            "EPOCH  471  | TRAIN LOSS  0.4192102829782897  | TEST LOSS  0.41290558726001647\n",
            "EPOCH  472  | TRAIN LOSS  0.418575973814065  | TEST LOSS  0.4122637912795026\n",
            "EPOCH  473  | TRAIN LOSS  0.41794495835923506  | TEST LOSS  0.41162504531569655\n",
            "EPOCH  474  | TRAIN LOSS  0.41731672736447456  | TEST LOSS  0.41098954109164365\n",
            "EPOCH  475  | TRAIN LOSS  0.41669161329065557  | TEST LOSS  0.4103578348430086\n",
            "EPOCH  476  | TRAIN LOSS  0.41606921902943195  | TEST LOSS  0.4097292444808031\n",
            "EPOCH  477  | TRAIN LOSS  0.4154500230070211  | TEST LOSS  0.40910401334855273\n",
            "EPOCH  478  | TRAIN LOSS  0.4148345117022851  | TEST LOSS  0.40848258978719604\n",
            "EPOCH  479  | TRAIN LOSS  0.4142230399630538  | TEST LOSS  0.4078635706906043\n",
            "EPOCH  480  | TRAIN LOSS  0.4136153444571782  | TEST LOSS  0.4072498935044518\n",
            "EPOCH  481  | TRAIN LOSS  0.41301088840142364  | TEST LOSS  0.40663588816674623\n",
            "EPOCH  482  | TRAIN LOSS  0.41241011509314185  | TEST LOSS  0.4060244100113449\n",
            "EPOCH  483  | TRAIN LOSS  0.41181152179415803  | TEST LOSS  0.4054201350881107\n",
            "EPOCH  484  | TRAIN LOSS  0.41121596618236517  | TEST LOSS  0.4048186616246758\n",
            "EPOCH  485  | TRAIN LOSS  0.4106228426049632  | TEST LOSS  0.4042200903255243\n",
            "EPOCH  486  | TRAIN LOSS  0.4100323451450742  | TEST LOSS  0.40362523475762646\n",
            "EPOCH  487  | TRAIN LOSS  0.40944415640702725  | TEST LOSS  0.40303365682973613\n",
            "EPOCH  488  | TRAIN LOSS  0.4088580525107666  | TEST LOSS  0.402445202982399\n",
            "EPOCH  489  | TRAIN LOSS  0.40827426551415374  | TEST LOSS  0.4018592822959405\n",
            "EPOCH  490  | TRAIN LOSS  0.40769314531646106  | TEST LOSS  0.4012759049506443\n",
            "EPOCH  491  | TRAIN LOSS  0.407115651538665  | TEST LOSS  0.40069620248988924\n",
            "EPOCH  492  | TRAIN LOSS  0.406541591300366  | TEST LOSS  0.4001171090506698\n",
            "EPOCH  493  | TRAIN LOSS  0.4059720091705556  | TEST LOSS  0.3995453329143629\n",
            "EPOCH  494  | TRAIN LOSS  0.40540518206345405  | TEST LOSS  0.39897469355499365\n",
            "EPOCH  495  | TRAIN LOSS  0.4048416966288711  | TEST LOSS  0.3984058722813793\n",
            "EPOCH  496  | TRAIN LOSS  0.4042811886236739  | TEST LOSS  0.3978411539376581\n",
            "EPOCH  497  | TRAIN LOSS  0.4037227581911427  | TEST LOSS  0.3972781552939816\n",
            "EPOCH  498  | TRAIN LOSS  0.40316685413844566  | TEST LOSS  0.3967166076397623\n",
            "EPOCH  499  | TRAIN LOSS  0.4026136369558657  | TEST LOSS  0.39615699821994527\n",
            "EPOCH  500  | TRAIN LOSS  0.40206294665899783  | TEST LOSS  0.39560136722509903\n"
          ],
          "name": "stdout"
        }
      ]
    },
    {
      "cell_type": "markdown",
      "metadata": {
        "id": "lrSDsuRJV9vj"
      },
      "source": [
        "### 予測データの散布図\n",
        "\n",
        "予測値の散布図と訓練データの散布図を比較してみましょう。"
      ]
    },
    {
      "cell_type": "code",
      "metadata": {
        "id": "4ZD_ICriV9vk",
        "outputId": "1cbdd149-1346-4b16-a4a6-37ad5818cf3c",
        "colab": {
          "base_uri": "https://localhost:8080/",
          "height": 319
        }
      },
      "source": [
        "y = model.forward(x_test)\n",
        "predict_data = np.concatenate([x_test, y], axis=1)\n",
        "plot_data(predict_data, 'Predict Data')"
      ],
      "execution_count": 28,
      "outputs": [
        {
          "output_type": "display_data",
          "data": {
            "image/png": "[encoded data removed]",
            "text/plain": [
              "<Figure size 432x288 with 1 Axes>"
            ]
          },
          "metadata": {
            "tags": [],
            "needs_background": "light"
          }
        }
      ]
    },
    {
      "cell_type": "markdown",
      "metadata": {
        "id": "XsQUpnKUuono"
      },
      "source": [
        "## 大問２ 分類モデル演習\n",
        "\n",
        "大問１では層ごとに変数を定義し全計算を実装しましたが、大問２ではクラスと計算グラフを利用し、より汎用的なモデルを設計します。\n",
        "\n",
        "### データの読み込み\n",
        "\n",
        "本演習では、mnist(手書き数字データセット)を使用し、全結合ネットワークで手書き数字の画像の10分類を行います。"
      ]
    },
    {
      "cell_type": "code",
      "metadata": {
        "id": "uvgD3EgTvWdr",
        "outputId": "30422c49-d1f0-49cf-9616-1b002fbc84d9",
        "colab": {
          "base_uri": "https://localhost:8080/"
        }
      },
      "source": [
        "os.path.exists('./drive/My Drive/Colab Notebooks/E-certificate/day1/mnist_784')"
      ],
      "execution_count": 5,
      "outputs": [
        {
          "output_type": "execute_result",
          "data": {
            "text/plain": [
              "True"
            ]
          },
          "metadata": {
            "tags": []
          },
          "execution_count": 5
        }
      ]
    },
    {
      "cell_type": "code",
      "metadata": {
        "id": "eQTqyXx7uonq"
      },
      "source": [
        "# mnistデータセットのロード(ネットワーク接続が必要・少し時間がかかります)\n",
        "if os.path.exists(folder+'mnist_784'):\n",
        "    with open(folder+'mnist_784','rb') as f:\n",
        "        mnist = pickle.load(f)\n",
        "else:\n",
        "    mnist = datasets.fetch_openml('mnist_784')\n",
        "    with open('mnist_784', 'wb') as f:\n",
        "        pickle.dump(mnist, f)\n",
        "    \n",
        "# 画像とラベルを取得\n",
        "X, T = mnist.data, mnist.target\n",
        "# 訓練データとテストデータに分割\n",
        "X_train, X_test, T_train, T_test = train_test_split(X, T, test_size=0.2)"
      ],
      "execution_count": 6,
      "outputs": []
    },
    {
      "cell_type": "code",
      "metadata": {
        "id": "2DTNnp49uons"
      },
      "source": [
        "# ラベルデータをint型にし、one-hot-vectorに変換します\n",
        "T_train = np.eye(10)[T_train.astype(\"int\")]\n",
        "T_test = np.eye(10)[T_test.astype(\"int\")]"
      ],
      "execution_count": 7,
      "outputs": []
    },
    {
      "cell_type": "markdown",
      "metadata": {
        "id": "oM_kyhBXuonu"
      },
      "source": [
        "### one-hot-vectorとは？\n",
        "たとえば$a$が，0~9の整数のみを含むベクトルだとわかっている時に、各要素を数字に該当する列の要素のみが1、その他が0となるようなベクトルにする。\n",
        "$$\n",
        "\\begin{equation*}\n",
        "a=\n",
        "\\begin{pmatrix}\n",
        "1\\\\\n",
        "8\\\\\n",
        "4\\\\\n",
        "2\\\\\n",
        "0\n",
        "\\end{pmatrix}\\to\n",
        "a\\_onehot = \n",
        "\\begin{pmatrix}\n",
        "0, 1, 0, 0, 0, 0, 0, 0, 0, 0\\\\\n",
        "0, 0, 0, 0, 0, 0, 0, 0, 1, 0\\\\\n",
        "0, 0, 0, 0, 1, 0, 0, 0, 0, 0\\\\\n",
        "0, 0, 1, 0, 0, 0, 0, 0, 0, 0\\\\\n",
        "1, 0, 0, 0, 0, 0, 0, 0, 0, 0\n",
        "\\end{pmatrix}\n",
        "\\end{equation*}\n",
        "$$\n",
        "学習する正解ラベルデータは，one-hot-vectorで表されることが多い．"
      ]
    },
    {
      "cell_type": "markdown",
      "metadata": {
        "id": "9ceab9_1uonu"
      },
      "source": [
        "### データの構造\n",
        "データ数、画像データXの形、ラベルTの形などを調べます。"
      ]
    },
    {
      "cell_type": "code",
      "metadata": {
        "id": "YspD5XgIuonv",
        "outputId": "8e38bef0-74c0-4c66-c7de-5c7cfc1e5f3e",
        "colab": {
          "base_uri": "https://localhost:8080/"
        }
      },
      "source": [
        "N_train = len(X_train)\n",
        "N_test = len(X_test)\n",
        "X_shape = X_train[0].shape\n",
        "T_shape = T_train[0].shape\n",
        "\n",
        "print('訓練データ数\\t', N_train)\n",
        "print('テストデータ数\\t', N_test)\n",
        "print('説明変数の形\\t', X_shape)\n",
        "print('ラベルの形\\t', T_shape)"
      ],
      "execution_count": 8,
      "outputs": [
        {
          "output_type": "stream",
          "text": [
            "訓練データ数\t 56000\n",
            "テストデータ数\t 14000\n",
            "説明変数の形\t (784,)\n",
            "ラベルの形\t (10,)\n"
          ],
          "name": "stdout"
        }
      ]
    },
    {
      "cell_type": "markdown",
      "metadata": {
        "id": "dftd7w9-uon0"
      },
      "source": [
        "### データのサンプリング\n",
        "画像・ラベルデータをランダムにいくつか取り出して可視化します。\n",
        "画像は784要素の1次元ベクトルとしてXに格納されていますが、画像として表示するときは28x28の二次元にreshapeします。"
      ]
    },
    {
      "cell_type": "code",
      "metadata": {
        "id": "-BzfHL2guon1",
        "outputId": "ec55c5c8-ca8a-4b73-9551-a9545b7d57d0",
        "colab": {
          "base_uri": "https://localhost:8080/",
          "height": 812
        }
      },
      "source": [
        "# テストデータをランダムサンプリング\n",
        "perm = np.random.permutation(len(X_test))\n",
        "# サンプル画像を表示する\n",
        "plt.gray()\n",
        "for i in perm[:3]:\n",
        "    plt.imshow(X_test[perm[i]].reshape(28, 28))\n",
        "    plt.show()\n",
        "    print('Label: ', np.argmax(T_test[perm[i]]))"
      ],
      "execution_count": 9,
      "outputs": [
        {
          "output_type": "display_data",
          "data": {
            "image/png": "[encoded data removed]",
            "text/plain": [
              "<Figure size 432x288 with 1 Axes>"
            ]
          },
          "metadata": {
            "tags": [],
            "needs_background": "light"
          }
        },
        {
          "output_type": "stream",
          "text": [
            "Label:  2\n"
          ],
          "name": "stdout"
        },
        {
          "output_type": "display_data",
          "data": {
            "image/png": "[encoded data removed]",
            "text/plain": [
              "<Figure size 432x288 with 1 Axes>"
            ]
          },
          "metadata": {
            "tags": [],
            "needs_background": "light"
          }
        },
        {
          "output_type": "stream",
          "text": [
            "Label:  1\n"
          ],
          "name": "stdout"
        },
        {
          "output_type": "display_data",
          "data": {
            "image/png": "[encoded data removed]",
            "text/plain": [
              "<Figure size 432x288 with 1 Axes>"
            ]
          },
          "metadata": {
            "tags": [],
            "needs_background": "light"
          }
        },
        {
          "output_type": "stream",
          "text": [
            "Label:  8\n"
          ],
          "name": "stdout"
        }
      ]
    },
    {
      "cell_type": "markdown",
      "metadata": {
        "id": "7TXsI9Aruon3"
      },
      "source": [
        "### softmax関数\n",
        "<font color=\"Red\">問2-1, 2-2 softmax関数を完成させてください。</font>\n",
        "\n",
        "```\n",
        "引数:\n",
        "    x: [N, M] (np.float)\n",
        "       Nはバッチサイズにあたる\n",
        "返値:\n",
        "    [N, M] (np.float)\n",
        "```\n",
        "\n",
        "バッチ計算が可能なsoftmax関数を実装します。<br>\n",
        "exp関数がオーバーフローすることを防ぐために、各データについて入力信号の最大値を引いて、0以下にします。<br>\n",
        "    numpyでは```[N, M] - [N]```の計算はブロードキャストができませんので、```x```を転置し```[M, N] - [N]```の形で計算を行ったあと、さらに転置をして元の形に戻します。\n",
        "$$\n",
        "softmax(x_{ij}) = \\frac{e^{x_{ij}'}}{\\sum_{k}^{M}{e^{x_{ik}'}}} \\\\ \n",
        "    x_{ij}' = x_{ij} - max_{j}x_{ij}\n",
        "$$"
      ]
    },
    {
      "cell_type": "code",
      "metadata": {
        "id": "dmUxqrtXuon4"
      },
      "source": [
        "def softmax(x):\n",
        "    x = x.T\n",
        "    _x = x - np.max(x, axis=0)\n",
        "    _x = np.exp(_x) / np.sum(np.exp(_x), axis=0)\n",
        "    return _x.T"
      ],
      "execution_count": 10,
      "outputs": []
    },
    {
      "cell_type": "code",
      "metadata": {
        "id": "8ntB7CzEx61w",
        "outputId": "e7e6716a-f037-4bab-f2d6-6c9191aea718",
        "colab": {
          "base_uri": "https://localhost:8080/"
        }
      },
      "source": [
        "# 単純な行列でテスト\n",
        "a = np.array([[1,0,0],[0,1,0]])\n",
        "softmax(a)"
      ],
      "execution_count": 11,
      "outputs": [
        {
          "output_type": "execute_result",
          "data": {
            "text/plain": [
              "array([[0.57611688, 0.21194156, 0.21194156],\n",
              "       [0.21194156, 0.57611688, 0.21194156]])"
            ]
          },
          "metadata": {
            "tags": []
          },
          "execution_count": 11
        }
      ]
    },
    {
      "cell_type": "markdown",
      "metadata": {
        "id": "ckvG-P7Muon8"
      },
      "source": [
        "### 交差エントロピー誤差\n",
        "<font color=\"Red\">問2-3 交差エントロピー誤差を完成させてください。</font>\n",
        "```\n",
        "引数:\n",
        "    t: [N, M] (np.float)\n",
        "    y: [N, M] (np.float)\n",
        "返値:\n",
        "    error: (np.float)\n",
        "```\n",
        "バッチ計算が可能な交差エントロピー誤差関数を実装します。<br>\n",
        "```y == 0```のときlog関数が破綻しないよう、$ y $ に小さな値 $ \\delta = 10^{-8}$ を加算します。\n",
        "error は 以下の式に従います。\n",
        "$$ error = -\\frac {1}{N} \\sum_{i}^{N} \\sum_{j}^{M} {t_{ij} * log{(y_{ij} + \\delta)}} $$"
      ]
    },
    {
      "cell_type": "code",
      "metadata": {
        "id": "Oylt8d-3GRmk",
        "outputId": "28bf2b66-80ec-432d-85ff-16c1a726fd08",
        "colab": {
          "base_uri": "https://localhost:8080/"
        }
      },
      "source": [
        "a.shape"
      ],
      "execution_count": 12,
      "outputs": [
        {
          "output_type": "execute_result",
          "data": {
            "text/plain": [
              "(2, 3)"
            ]
          },
          "metadata": {
            "tags": []
          },
          "execution_count": 12
        }
      ]
    },
    {
      "cell_type": "code",
      "metadata": {
        "id": "K-zLEGCJuon8"
      },
      "source": [
        "def cross_entropy_error(t, y):\n",
        "    delta = 1e-8\n",
        "    error = - np.sum(t * np.log(y+delta)) / len(t)\n",
        "    return error"
      ],
      "execution_count": 13,
      "outputs": []
    },
    {
      "cell_type": "code",
      "metadata": {
        "id": "cBMejFU70CBD",
        "outputId": "85bef688-13da-480c-b3c3-63f981efdfe2",
        "colab": {
          "base_uri": "https://localhost:8080/"
        }
      },
      "source": [
        "# test\n",
        "cross_entropy_error(a,a+1)"
      ],
      "execution_count": 14,
      "outputs": [
        {
          "output_type": "execute_result",
          "data": {
            "text/plain": [
              "-0.6931471855599453"
            ]
          },
          "metadata": {
            "tags": []
          },
          "execution_count": 14
        }
      ]
    },
    {
      "cell_type": "code",
      "metadata": {
        "id": "6reDoWmVGy0I",
        "outputId": "3be3fec5-f74a-4855-d439-7fea9ac2fbbe",
        "colab": {
          "base_uri": "https://localhost:8080/"
        }
      },
      "source": [
        "# test\n",
        "cross_entropy_error(a+1,a)"
      ],
      "execution_count": 15,
      "outputs": [
        {
          "output_type": "execute_result",
          "data": {
            "text/plain": [
              "36.84136146790473"
            ]
          },
          "metadata": {
            "tags": []
          },
          "execution_count": 15
        }
      ]
    },
    {
      "cell_type": "markdown",
      "metadata": {
        "id": "jQ-MMtfhuon_"
      },
      "source": [
        "### ソフトマックスクロスエントロピー誤差\n",
        "<font color=\"Red\">問2-4 ソフトマックスクロスエントロピー誤差を完成させてください。</font>\n",
        "\n",
        "ソフトマックスクロスエントロピー誤差の順伝播と逆伝播のクラスを実装します。<br>\n",
        "順伝播```__call__(self, t, y)```ではyのソフトマックスを取り、tとのクロスエントロピー誤差を返します。その際にyとtをインスタンス変数self.yとself.tに記憶します。関数名を```__call__```としているのは、**関数オブジェクト**を作ることで\"インスタンス名()\"で順伝播を呼び出せるようにするためです。<br>\n",
        "逆伝播```backward(self)```では、順伝播で記憶されたself.yとself.tを使用して誤差に対する(softmaxを通す前の)yの勾配dyを計算します。<br>\n",
        "yの勾配は以下の式に従います。<br>\n",
        "※コードの```dy```と式の$ dy $は意味が異なり、```dy``` = $ \\frac {dL(t, y)}{dy} $であることに注意してください。\n",
        "$$ \\frac {dL(t, y)}{dy} = softmax(y) - t $$\n",
        "また、以降の計算ではバッチの平均を取るため、dyはバッチサイズで割ってから返します。"
      ]
    },
    {
      "cell_type": "code",
      "metadata": {
        "id": "tQ2HOaMjuooA"
      },
      "source": [
        "class SoftmaxCrossEntropyLoss():\n",
        "    def __init__(self):\n",
        "        self.y = None\n",
        "        self.t = None\n",
        "        self.loss = None\n",
        "        \n",
        "    def __call__(self, t, y):\n",
        "        self.y = softmax(y)\n",
        "        self.t = t.copy()\n",
        "        self.loss = cross_entropy_error(self.t, self.y)\n",
        "        return self.loss\n",
        "    \n",
        "    def backward(self):\n",
        "        batch_size = self.t.shape[0]\n",
        "        dy = self.y - self.t\n",
        "        dy /= batch_size\n",
        "        return dy"
      ],
      "execution_count": 16,
      "outputs": []
    },
    {
      "cell_type": "markdown",
      "metadata": {
        "id": "RUqBmGWkuooG"
      },
      "source": [
        "### 全結合層\n",
        "<font color=\"Red\">問2-5 ~ 2-8 全結合層クラスを完成させてください。</font>\n",
        "\n",
        "全結合層の順伝播と逆伝播のクラスを実装します。\n",
        "```\n",
        "インスタンス変数:\n",
        "    self.w: [N, M] (np.float)\n",
        "            層の重み。正規分布で初期化。\n",
        "    self.b: [M] (np.float)\n",
        "            層のバイアス。ゼロで初期化。\n",
        "    self.x: [L, N] (np.float)\n",
        "            層の入力信号を記録。Lはバッチサイズ\n",
        "    self.dw: [N, M] (np.float)\n",
        "            層の重みの勾配\n",
        "    self.db: [M] (np.float)\n",
        "            層のバイアスの勾配\n",
        "            \n",
        "__call__(self, x):\n",
        "    引数:\n",
        "        x: [L, N] (np.float)\n",
        "            入力信号\n",
        "    返値:\n",
        "        out: [L, M] (np.float)\n",
        "            出力信号\n",
        "\n",
        "backward(self, dout):\n",
        "    引数:\n",
        "        dout: [L, M] (np.float)\n",
        "            出力信号の勾配\n",
        "    返値:\n",
        "        dx: [L, N] (np.float)\n",
        "            入力信号の勾配\n",
        "        \n",
        "```\n",
        "順伝播```__call__(self, x)```は入力信号xを層の重み```self.w```とバイアス```self.b```でアフィン変換し出力とします。\n",
        "計算は以下の式に従います。\n",
        "$$\n",
        "Affine(x) = x \\cdot w + b\n",
        "$$\n",
        "逆伝播```backward(self, dout)```は出力側の勾配[L, M]を入力側に逆伝播ます。入力の勾配```dx```、重みの勾配```dw```、バイアスの勾配```db```それぞれを計算し、```dx```を返します。\n",
        "計算は以下の式に従います。\n",
        "$$\n",
        "grad(x_{ij}) = \\sum_{k} grad(out_{ik}) \\frac{dout_{ik}}{dx_{ij}}\n",
        "$$\n",
        "$$\n",
        "grad(x_{ij}) = \\sum_{k} grad(out_{ik})w_{jk}\n",
        "$$\n",
        "$$\n",
        "grad(x) = grad(out) \\cdot w^T \\\\ \\space\n",
        "$$\n",
        "$$\n",
        "grad(w_{jk}) = \\sum_{i} grad(out_{ik}) \\frac{dout_{ik}}{dw_{jk}}\n",
        "$$\n",
        "$$\n",
        "grad(w_{jk}) = \\sum_{i} grad(out_{ik})x_{ij}\n",
        "$$\n",
        "$$\n",
        "grad(w) = x^T \\cdot grad(out) \\\\ \\space\n",
        "$$\n",
        "$$\n",
        "grad(b_{k}) = \\sum_{i} grad(out_{ik}) \\frac{dout_{ik}}{db_{k}}\n",
        "$$\n",
        "$$\n",
        "grad(b) = \\sum_{i} grad(out_{i})\n",
        "$$\n",
        "    \n",
        "実装コードでは$ grad(x) $ = ```dx```, $ grad(w) $ = ```dw```, $ grad(b) $ = ```db```と命名されています。 "
      ]
    },
    {
      "cell_type": "code",
      "metadata": {
        "id": "hWc9zHaLuooG"
      },
      "source": [
        "class FullyConnectedLayer():\n",
        "    def __init__(self, input_shape, output_shape):\n",
        "        self.w = np.random.randn(input_shape, output_shape) * 0.01\n",
        "        self.b = np.zeros(output_shape, dtype=np.float)\n",
        "        self.x = None\n",
        "        self.dw = None\n",
        "        self.db = None\n",
        "        \n",
        "    def __call__(self, x):\n",
        "        self.x = x\n",
        "        out = np.dot(x, self.w) + self.b\n",
        "        return out\n",
        "    \n",
        "    def backward(self, dout):\n",
        "        dx = np.dot(dout, self.w.T)\n",
        "        batch_size = dx.shape[0]\n",
        "        self.dw = np.dot(self.x.T, dout)\n",
        "        self.db = np.sum(dout, axis=0)\n",
        "        return dx"
      ],
      "execution_count": 17,
      "outputs": []
    },
    {
      "cell_type": "markdown",
      "metadata": {
        "id": "wW6rnJLnuooK"
      },
      "source": [
        "### ReLU\n",
        "<font color=\"Red\">問2-9 ~ 2-10 ReLUクラスを完成させてください。</font>\n",
        "```\n",
        "インスタンス変数:\n",
        "    self.mask: [L, N] np.bool\n",
        "               マスクされるxのフラッグ\n",
        "               \n",
        "__call__(self, x):\n",
        "    引数:\n",
        "        x: [L, N] np.float\n",
        "    返値:\n",
        "        out: [L, N] np.float\n",
        "\n",
        "backward(self, dout):\n",
        "    引数:\n",
        "        dout: [L, N] np.float\n",
        "    返値:\n",
        "        dx: [L, N] np.float\n",
        "    \n",
        "```\n",
        "ReLUの順伝播と逆伝播をクラスで実装します。\n",
        "順伝播```__call__(self, x)```は入力信号xに対して、```x <= 0```部分が1、それ以外は0となるようなマトリックスself.maskを定義します。numpy配列の**ブールインデックス参照**を利用し、xのマスク部を0に変換し返します。\n",
        "逆伝播```backward(self, dout)```は出力信号の勾配doutの保存されたマスク部を0に変換し、dxとして入力信号の勾配を返します。"
      ]
    },
    {
      "cell_type": "code",
      "metadata": {
        "id": "TOyb4TJluooK"
      },
      "source": [
        "class ReLU():\n",
        "    def __init__(self):\n",
        "        self.mask = None\n",
        "\n",
        "    def __call__(self, x):\n",
        "        self.mask = (x <= 0)\n",
        "        out = x.copy()\n",
        "        out[self.mask] = 0\n",
        "        return out\n",
        "\n",
        "    def backward(self, dout):\n",
        "        dout[self.mask] = 0\n",
        "        dx = dout\n",
        "\n",
        "        return dx"
      ],
      "execution_count": 18,
      "outputs": []
    },
    {
      "cell_type": "markdown",
      "metadata": {
        "id": "_xiLi0RZuooM"
      },
      "source": [
        "問題は以上になります。以下のモデルの構築と学習で実装が正しいことを確認しましょう。"
      ]
    },
    {
      "cell_type": "markdown",
      "metadata": {
        "id": "gEKOU_q_uooN"
      },
      "source": [
        "### モデルの構築\n",
        "\n",
        "これまで各種の層をクラスで定義できましたので、ここではそれらを組み合わせることでモデルを簡単に設計することができます。問題にはなっていませんが、コードからモデルの構築の全体像を把握しましょう。"
      ]
    },
    {
      "cell_type": "code",
      "metadata": {
        "id": "mPA7c6d4uooN"
      },
      "source": [
        "# 分類モデル\n",
        "class MLP_classifier():\n",
        "\n",
        "    def __init__(self):\n",
        "        '''\n",
        "        構造\n",
        "        x -> fc(783, 256) -> relu -> fc(256, 256) -> relu -> fc(256, 10) -> out\n",
        "        '''\n",
        "        \n",
        "        # 層の定義\n",
        "        self.fc1 = FullyConnectedLayer(784, 256)\n",
        "        self.relu1 = ReLU()\n",
        "        self.fc2 = FullyConnectedLayer(256, 256)\n",
        "        self.relu2 = ReLU()\n",
        "        self.fc3 = FullyConnectedLayer(256, 10)\n",
        "        self.out = None\n",
        "        \n",
        "        # 損失関数の定義\n",
        "        self.criterion = SoftmaxCrossEntropyLoss()\n",
        "\n",
        "    def forward(self, x):\n",
        "        '''\n",
        "        順伝播\n",
        "        '''\n",
        "        \n",
        "        x = self.relu1(self.fc1(x))\n",
        "        x = self.relu2(self.fc2(x))\n",
        "        self.out = self.fc3(x)\n",
        "        \n",
        "        # backwardとの一貫性のためsoftmaxはこの順伝播関数内では行わない\n",
        "        # 予測するときはさらにsoftmaxを通す必要がある\n",
        "        return self.out\n",
        "\n",
        "    def backward(self, t):\n",
        "        '''\n",
        "        逆伝播\n",
        "        '''\n",
        "        \n",
        "        # 誤差を計算\n",
        "        loss = self.criterion(t, self.out)\n",
        "        # 勾配を逆伝播\n",
        "        d = self.criterion.backward()\n",
        "        d = self.fc3.backward(d)\n",
        "        d = self.relu2.backward(d)\n",
        "        d = self.fc2.backward(d)\n",
        "        d = self.relu1.backward(d)\n",
        "        d = self.fc1.backward(d)\n",
        "        \n",
        "        return loss\n",
        "\n",
        "    def optimize_GradientDecent(self, lr):\n",
        "        '''\n",
        "        勾配降下法による全層のパラメータの更新\n",
        "        '''\n",
        "        for fc in [self.fc1, self.fc2, self.fc3]:\n",
        "            fc.w -= lr * fc.dw\n",
        "            fc.b -= lr * fc.db\n",
        "        "
      ],
      "execution_count": 19,
      "outputs": []
    },
    {
      "cell_type": "markdown",
      "metadata": {
        "id": "QnOW6bSQuooQ"
      },
      "source": [
        "### 学習\n",
        "\n",
        "20epochで分類精度が80%以上になっていれば学習は成功していると言えます。"
      ]
    },
    {
      "cell_type": "code",
      "metadata": {
        "id": "lB1l4MPHuooR",
        "outputId": "c38ef7d8-1b64-40ef-d0b4-973ed49c300d",
        "colab": {
          "base_uri": "https://localhost:8080/"
        }
      },
      "source": [
        "# モデルの宣言\n",
        "model = MLP_classifier()\n",
        "\n",
        "# 学習率\n",
        "lr = 0.005\n",
        "# 学習エポック数\n",
        "n_epoch = 20\n",
        "\n",
        "# n_epoch繰り返す\n",
        "for n in range(n_epoch):\n",
        "    # 訓練\n",
        "    # Day1範囲外のため、ミニバッチは使用しない\n",
        "    y = model.forward(X_train)\n",
        "    loss = model.backward(T_train)\n",
        "    model.optimize_GradientDecent(lr)\n",
        "    \n",
        "    # テスト\n",
        "    y = model.forward(X_test)\n",
        "    test_loss = model.backward(T_test)\n",
        "    pred = softmax(y)\n",
        "    accuracy = np.mean(np.equal(np.argmax(y, axis=1), np.argmax(T_test, axis=1)))\n",
        "    print(f'EPOCH {n + 1} | TRAIN LOSS {loss:.5f} | TEST LOSS {test_loss:.5f} | ACCURACY {accuracy:.2%}')\n",
        "classification_accuracy = accuracy"
      ],
      "execution_count": 20,
      "outputs": [
        {
          "output_type": "stream",
          "text": [
            "EPOCH 1 | TRAIN LOSS 2.36309 | TEST LOSS 2.23613 | ACCURACY 17.39%\n",
            "EPOCH 2 | TRAIN LOSS 2.23689 | TEST LOSS 2.14214 | ACCURACY 28.86%\n",
            "EPOCH 3 | TRAIN LOSS 2.14205 | TEST LOSS 2.05415 | ACCURACY 42.06%\n",
            "EPOCH 4 | TRAIN LOSS 2.05339 | TEST LOSS 1.96525 | ACCURACY 52.99%\n",
            "EPOCH 5 | TRAIN LOSS 1.96397 | TEST LOSS 1.87288 | ACCURACY 60.29%\n",
            "EPOCH 6 | TRAIN LOSS 1.87106 | TEST LOSS 1.77618 | ACCURACY 64.78%\n",
            "EPOCH 7 | TRAIN LOSS 1.77372 | TEST LOSS 1.67558 | ACCURACY 67.86%\n",
            "EPOCH 8 | TRAIN LOSS 1.67239 | TEST LOSS 1.57260 | ACCURACY 70.06%\n",
            "EPOCH 9 | TRAIN LOSS 1.56853 | TEST LOSS 1.46935 | ACCURACY 72.03%\n",
            "EPOCH 10 | TRAIN LOSS 1.46430 | TEST LOSS 1.36837 | ACCURACY 73.60%\n",
            "EPOCH 11 | TRAIN LOSS 1.36224 | TEST LOSS 1.27212 | ACCURACY 75.14%\n",
            "EPOCH 12 | TRAIN LOSS 1.26486 | TEST LOSS 1.18275 | ACCURACY 76.48%\n",
            "EPOCH 13 | TRAIN LOSS 1.17432 | TEST LOSS 1.10152 | ACCURACY 77.49%\n",
            "EPOCH 14 | TRAIN LOSS 1.09195 | TEST LOSS 1.02896 | ACCURACY 78.58%\n",
            "EPOCH 15 | TRAIN LOSS 1.01830 | TEST LOSS 0.96496 | ACCURACY 79.51%\n",
            "EPOCH 16 | TRAIN LOSS 0.95327 | TEST LOSS 0.90891 | ACCURACY 80.26%\n",
            "EPOCH 17 | TRAIN LOSS 0.89628 | TEST LOSS 0.85997 | ACCURACY 81.06%\n",
            "EPOCH 18 | TRAIN LOSS 0.84646 | TEST LOSS 0.81722 | ACCURACY 81.71%\n",
            "EPOCH 19 | TRAIN LOSS 0.80293 | TEST LOSS 0.77980 | ACCURACY 82.31%\n",
            "EPOCH 20 | TRAIN LOSS 0.76479 | TEST LOSS 0.74688 | ACCURACY 82.90%\n"
          ],
          "name": "stdout"
        }
      ]
    },
    {
      "cell_type": "markdown",
      "metadata": {
        "id": "CFcUU_10uooT"
      },
      "source": [
        "### 提出可否"
      ]
    },
    {
      "cell_type": "code",
      "metadata": {
        "id": "J3Zue9pAuooT",
        "outputId": "9d7609ad-e5e4-41ed-fd95-e75a4ff90501",
        "colab": {
          "base_uri": "https://localhost:8080/"
        }
      },
      "source": [
        "print(\"大問1 回帰ロス: \", regression_loss)\n",
        "print(\"大問2 分類精度: \", classification_accuracy)\n",
        "pass0 = regression_loss < 0.5\n",
        "pass1 = classification_accuracy > 0.8\n",
        "if pass0 and pass1:\n",
        "    print(\"回帰モデルと分類モデルどちらも学習が成功しているので、提出可能です。\")\n",
        "else:\n",
        "    if not pass0:\n",
        "        print(\"回帰モデル（大問１）の学習が成功していません。\")\n",
        "    if not pass1:\n",
        "        print(\"分類モデル（大問２）の学習が成功していません。\")\n",
        "    print(\"回答を訂正してください。\")"
      ],
      "execution_count": 29,
      "outputs": [
        {
          "output_type": "stream",
          "text": [
            "大問1 回帰ロス:  0.39560136722509903\n",
            "大問2 分類精度:  0.829\n",
            "回帰モデルと分類モデルどちらも学習が成功しているので、提出可能です。\n"
          ],
          "name": "stdout"
        }
      ]
    },
    {
      "cell_type": "markdown",
      "metadata": {
        "id": "ASs5wnq9uooV"
      },
      "source": [
        "### 補足\n",
        "\n",
        "今演習では簡単のため、ミニバッチ学習・重み減衰などの正則化・より高度な最適化・データのオーグメンテーション(拡張)など、Day2, Day3で学習する重要な手法を使用していません。これらを使用すれば、全結合層でもmnist手書き数字の分類精度を大きく上げることが可能です。例えばミニバッチを簡単に導入するだけで、20epochで97%以上の精度に達します。"
      ]
    },
    {
      "cell_type": "markdown",
      "metadata": {
        "id": "VsR1yu8tV9vl"
      },
      "source": [
        "### 発展\n",
        "\n",
        "大問１，大問２それぞれについて学習率・エポック数を変えてみて学習における挙動を観察してみましょう。また、多層パーセプトロンの総数やノード数を変更し、より良い精度を出せる条件を探してみましょう。"
      ]
    },
    {
      "cell_type": "code",
      "metadata": {
        "id": "ZOSo6nTIuooW"
      },
      "source": [
        ""
      ],
      "execution_count": null,
      "outputs": []
    }
  ]
}