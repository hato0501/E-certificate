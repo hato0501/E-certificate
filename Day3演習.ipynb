{
  "nbformat": 4,
  "nbformat_minor": 0,
  "metadata": {
    "colab": {
      "name": "Day3演習.ipynb",
      "provenance": [],
      "collapsed_sections": [],
      "include_colab_link": true
    },
    "kernelspec": {
      "display_name": "Python 3",
      "language": "python",
      "name": "python3"
    },
    "language_info": {
      "codemirror_mode": {
        "name": "ipython",
        "version": 3
      },
      "file_extension": ".py",
      "mimetype": "text/x-python",
      "name": "python",
      "nbconvert_exporter": "python",
      "pygments_lexer": "ipython3",
      "version": "3.7.6"
    },
    "latex_envs": {
      "LaTeX_envs_menu_present": true,
      "autoclose": false,
      "autocomplete": true,
      "bibliofile": "biblio.bib",
      "cite_by": "apalike",
      "current_citInitial": 1,
      "eqLabelWithNumbers": true,
      "eqNumInitial": 1,
      "hotkeys": {
        "equation": "Ctrl-E",
        "itemize": "Ctrl-I"
      },
      "labels_anchors": false,
      "latex_user_defs": false,
      "report_style_numbering": false,
      "user_envs_cfg": false
    }
  },
  "cells": [
    {
      "cell_type": "markdown",
      "metadata": {
        "id": "view-in-github",
        "colab_type": "text"
      },
      "source": [
        "<a href=\"https://colab.research.google.com/github/hato0501/E-certificate/blob/main/Day3%E6%BC%94%E7%BF%92.ipynb\" target=\"_parent\"><img src=\"https://colab.research.google.com/assets/colab-badge.svg\" alt=\"Open In Colab\"/></a>"
      ]
    },
    {
      "cell_type": "markdown",
      "metadata": {
        "id": "MY_aiqxYOG6T"
      },
      "source": [
        "# 【全人類がわかるE資格コース】コーディング演習Day3\n",
        "\n",
        "## 概要\n",
        "\n",
        "本演習では深層学習の基礎である多層パーセプトロンによる学習を穴埋め形式で実装します。なお、予め用意されたコードはそのまま使用し、指示された穴埋め部を編集してください。\n",
        "演習問題文は<font color=\"Red\">赤字</font>です。このファイルは必ず最後までコードをすべて実行し、「最後までコードが実行可能」・「学習結果の出力がある」・「学習が成功している」の３つを満たした状態で提出してください。\n",
        "\n",
        "また、乱数設定により実行結果が異なるため、<font color=\"Red\">コードを完成させたあと、必ずもう一度一番上のセルから順に最後まで実行して結果を確認してください。</font>\n",
        "\n",
        "所要時間：4~8時間"
      ]
    },
    {
      "cell_type": "markdown",
      "metadata": {
        "id": "Qa6uEu2WykDI"
      },
      "source": [
        "### Google Colab 対応"
      ]
    },
    {
      "cell_type": "code",
      "metadata": {
        "id": "dsq2fC22yT0w",
        "outputId": "5f2e8b15-00f9-459f-efff-04f31b850728",
        "colab": {
          "base_uri": "https://localhost:8080/"
        }
      },
      "source": [
        "# Drive Mount in Google Colab\n",
        "from google.colab import drive\n",
        "drive.mount('/content/drive')"
      ],
      "execution_count": 36,
      "outputs": [
        {
          "output_type": "stream",
          "text": [
            "Drive already mounted at /content/drive; to attempt to forcibly remount, call drive.mount(\"/content/drive\", force_remount=True).\n"
          ],
          "name": "stdout"
        }
      ]
    },
    {
      "cell_type": "code",
      "metadata": {
        "id": "0MBnMnyCyo6-"
      },
      "source": [
        "folder = './drive/My Drive/Colab Notebooks/E-certificate/day3/'"
      ],
      "execution_count": 37,
      "outputs": []
    },
    {
      "cell_type": "markdown",
      "metadata": {
        "id": "7FW9tbQuOG6U"
      },
      "source": [
        "## ライブラリのインポート\n",
        "\n",
        "必要なライブラリをインポートします。エラーになる場合は該当するものをインストールしてください。"
      ]
    },
    {
      "cell_type": "code",
      "metadata": {
        "id": "Jr7dWekfOG6V"
      },
      "source": [
        "import os\n",
        "import pickle\n",
        "import numpy as np\n",
        "import matplotlib.pyplot as plt\n",
        "from sklearn import datasets\n",
        "from sklearn.model_selection import train_test_split\n",
        "%matplotlib inline\n",
        "# 乱数シードを指定\n",
        "np.random.seed(seed=0)"
      ],
      "execution_count": 38,
      "outputs": []
    },
    {
      "cell_type": "code",
      "metadata": {
        "id": "hEcnF2whOG6X"
      },
      "source": [
        "if os.path.exists('mnist_784'):\n",
        "    with open('mnist_784','rb') as f:\n",
        "        mnist = pickle.load(f)\n",
        "else:\n",
        "    mnist = datasets.fetch_openml('mnist_784')\n",
        "    with open('mnist_784', 'wb') as f:\n",
        "        pickle.dump(mnist, f)\n",
        "# 画像とラベルを取得\n",
        "X, T = mnist.data, mnist.target\n",
        "# 訓練データとテストデータに分割\n",
        "x_train, x_test, t_train, t_test = train_test_split(X, T, test_size=0.2)\n",
        "\n",
        "# ラベルデータをint型にし、one-hot-vectorに変換します\n",
        "t_train = np.eye(10)[t_train.astype(\"int\")]\n",
        "t_test = np.eye(10)[t_test.astype(\"int\")]"
      ],
      "execution_count": 39,
      "outputs": []
    },
    {
      "cell_type": "markdown",
      "metadata": {
        "id": "Emh7bUhBOG6Z"
      },
      "source": [
        "## データの説明\n",
        "\n",
        "mnist と呼ばれる手書き数字の認識問題である。\n",
        "\n",
        "データは 784 次元の配列となっています。"
      ]
    },
    {
      "cell_type": "code",
      "metadata": {
        "id": "oFpveFljOG6Z",
        "scrolled": true,
        "outputId": "59e1e873-7b1a-43f9-bb00-9465ff6fdb5c",
        "colab": {
          "base_uri": "https://localhost:8080/",
          "height": 1000
        }
      },
      "source": [
        "# データを5つ表示\n",
        "for i in range(5):\n",
        "    plt.gray()\n",
        "    plt.imshow(x_train[i].reshape((28,28)))\n",
        "    plt.show()\n",
        "    print(\"label: \", t_train[i])"
      ],
      "execution_count": 40,
      "outputs": [
        {
          "output_type": "display_data",
          "data": {
            "image/png": "[encoded data removed]",
            "text/plain": [
              "<Figure size 432x288 with 1 Axes>"
            ]
          },
          "metadata": {
            "tags": [],
            "needs_background": "light"
          }
        },
        {
          "output_type": "stream",
          "text": [
            "label:  [0. 0. 0. 0. 1. 0. 0. 0. 0. 0.]\n"
          ],
          "name": "stdout"
        },
        {
          "output_type": "display_data",
          "data": {
            "image/png": "[encoded data removed]",
            "text/plain": [
              "<Figure size 432x288 with 1 Axes>"
            ]
          },
          "metadata": {
            "tags": [],
            "needs_background": "light"
          }
        },
        {
          "output_type": "stream",
          "text": [
            "label:  [0. 0. 0. 0. 0. 0. 0. 0. 0. 1.]\n"
          ],
          "name": "stdout"
        },
        {
          "output_type": "display_data",
          "data": {
            "image/png": "[encoded data removed]",
            "text/plain": [
              "<Figure size 432x288 with 1 Axes>"
            ]
          },
          "metadata": {
            "tags": [],
            "needs_background": "light"
          }
        },
        {
          "output_type": "stream",
          "text": [
            "label:  [0. 0. 0. 0. 0. 0. 1. 0. 0. 0.]\n"
          ],
          "name": "stdout"
        },
        {
          "output_type": "display_data",
          "data": {
            "image/png": "[encoded data removed]",
            "text/plain": [
              "<Figure size 432x288 with 1 Axes>"
            ]
          },
          "metadata": {
            "tags": [],
            "needs_background": "light"
          }
        },
        {
          "output_type": "stream",
          "text": [
            "label:  [0. 0. 0. 0. 0. 0. 0. 1. 0. 0.]\n"
          ],
          "name": "stdout"
        },
        {
          "output_type": "display_data",
          "data": {
            "image/png": "[encoded data removed]",
            "text/plain": [
              "<Figure size 432x288 with 1 Axes>"
            ]
          },
          "metadata": {
            "tags": [],
            "needs_background": "light"
          }
        },
        {
          "output_type": "stream",
          "text": [
            "label:  [0. 0. 0. 0. 0. 1. 0. 0. 0. 0.]\n"
          ],
          "name": "stdout"
        }
      ]
    },
    {
      "cell_type": "markdown",
      "metadata": {
        "id": "Bouk_Et-OG6b"
      },
      "source": [
        "## Optimizer の実装"
      ]
    },
    {
      "cell_type": "markdown",
      "metadata": {
        "id": "EPWM5OYiOG6c"
      },
      "source": [
        "### 確率的勾配降下法\n",
        "\n",
        "1-1. <font color=\"Red\">確率的勾配降下法を用いたOptimizerのクラス SGD を完成させてください。</font>\n"
      ]
    },
    {
      "cell_type": "code",
      "metadata": {
        "id": "SNsQV6acOG6d"
      },
      "source": [
        "class SGD:\n",
        "\n",
        "    def __init__(self, lr=0.01):\n",
        "        self.lr = lr\n",
        "        \n",
        "    def update(self, params, grads):\n",
        "        for key in params.keys():\n",
        "            params[key] -= self.lr * grads[key]"
      ],
      "execution_count": 41,
      "outputs": []
    },
    {
      "cell_type": "markdown",
      "metadata": {
        "id": "n8S61WJZOG6e"
      },
      "source": [
        "### Adam\n",
        "\n",
        "1-2. <font color=\"Red\">Adamを用いたOptimizerのクラス Adam を完成させてください。</font><br>\n",
        "Adamの特徴としてハイパーパラメータのバイアス補正(偏りの補正)が行われることが挙げられます。書籍『ゼロから作るDeepLearning』の配布コードでは簡易版のため、バイアス補正を組み込んでいません。この問題ではバイアス補正を組み込んだ完成形のAdamコードについて回答してください。また、過去のE資格試験ではこちらの完成形のAdamコードが出題されています。"
      ]
    },
    {
      "cell_type": "code",
      "metadata": {
        "id": "q2wJlKEffqum",
        "outputId": "8b2404ab-2352-4e4d-db32-f900167e7cc5",
        "colab": {
          "base_uri": "https://localhost:8080/"
        }
      },
      "source": [
        "np.array([[2,3],[4,5]])**2"
      ],
      "execution_count": 42,
      "outputs": [
        {
          "output_type": "execute_result",
          "data": {
            "text/plain": [
              "array([[ 4,  9],\n",
              "       [16, 25]])"
            ]
          },
          "metadata": {
            "tags": []
          },
          "execution_count": 42
        }
      ]
    },
    {
      "cell_type": "code",
      "metadata": {
        "id": "sdM19jOEOG6f"
      },
      "source": [
        "class Adam:\n",
        "\n",
        "    def __init__(self, lr=0.001, beta1=0.9, beta2=0.999):\n",
        "        self.lr = lr\n",
        "        self.beta1 = beta1\n",
        "        self.beta2 = beta2\n",
        "        self.iter = 0\n",
        "        self.m = None\n",
        "        self.v = None\n",
        "        \n",
        "    def update(self, params, grads):\n",
        "        if self.m is None:\n",
        "            self.m, self.v = {}, {}\n",
        "            for key, val in params.items():\n",
        "                self.m[key] = np.zeros_like(val)\n",
        "                self.v[key] = np.zeros_like(val)\n",
        "        \n",
        "        self.iter += 1\n",
        "        \n",
        "        for key in params.keys():\n",
        "            self.m[key] = self.beta1 * self.m[key] + (1 - self.beta1) * grads[key]\n",
        "            self.v[key] = self.beta2 * self.v[key] + (1 - self.beta2) * (grads[key]**2)\n",
        "            m_unbias = self.m[key] / (1 - self.beta1 ** self.iter)\n",
        "            v_unbias = self.v[key] / (1 - self.beta2 ** self.iter)\n",
        "            params[key] -= self.lr * m_unbias / (np.sqrt(v_unbias) + 1e-7)"
      ],
      "execution_count": 43,
      "outputs": []
    },
    {
      "cell_type": "markdown",
      "metadata": {
        "id": "R-NaWscJOG6g"
      },
      "source": [
        "## コスト関数\n",
        "\n",
        "多クラス分類問題なので、クロスエントロピーをコスト関数して用います。"
      ]
    },
    {
      "cell_type": "code",
      "metadata": {
        "id": "kwiPxmeMOG6h"
      },
      "source": [
        "def cross_entropy_error(y, t):\n",
        "    if y.ndim == 1:\n",
        "        t = t.reshape(1, t.size)\n",
        "        y = y.reshape(1, y.size)\n",
        "    if t.size == y.size:\n",
        "        t = t.argmax(axis=1)\n",
        "    batch_size = y.shape[0]\n",
        "    return -np.sum(np.log(y[np.arange(batch_size), t] + 1e-7)) / batch_size\n"
      ],
      "execution_count": 44,
      "outputs": []
    },
    {
      "cell_type": "code",
      "metadata": {
        "id": "OL6uU4NXOG6i"
      },
      "source": [
        "def softmax(x):\n",
        "    x = x.T\n",
        "    _x = x - np.max(x, axis=0)\n",
        "    _x = np.exp(_x) / np.sum(np.exp(_x), axis=0)\n",
        "    return _x.T"
      ],
      "execution_count": 45,
      "outputs": []
    },
    {
      "cell_type": "markdown",
      "metadata": {
        "id": "Y78Ii3foOG6k"
      },
      "source": [
        "## ネットワークの実装\n",
        "\n",
        "まずはバッチ正規化を入れない普通の三層ニューラルネットワークを実装します。問題にはなっていませんが、day1の復習も兼ねてコードを読み理解しておいてください。"
      ]
    },
    {
      "cell_type": "code",
      "metadata": {
        "id": "YkgxEeUhOG6l"
      },
      "source": [
        "class mnistMultiLayerNet:\n",
        "    \"\"\"\n",
        "    layer0: 784 次元の入力\n",
        "    ↓ w1, b1 で線形結合\n",
        "    ↓ relu で活性化\n",
        "    layer1: 100 次元の隠れ層\n",
        "    ↓ w2, b2 で線形結合\n",
        "    ↓ relu で活性化\n",
        "    layer2: 100 次元の隠れ層\n",
        "    ↓ w3, b3 で線形結合\n",
        "    ↓ relu で活性化\n",
        "    layer3: 100 次元の隠れ層\n",
        "    ↓ w4, b4 で線形結合\n",
        "    ↓ relu で活性化\n",
        "    layer4: 100 次元の隠れ層\n",
        "    ↓ w5, b5 で線形結合\n",
        "    layer5: 10 次元の出力層\n",
        "    \"\"\"\n",
        "    def __init__(self):\n",
        "        self.input_size = 784\n",
        "        self.output_size = 10\n",
        "        self.hidden_size_list = [100, 100, 100, 100]\n",
        "        self.all_size_list = [self.input_size] + self.hidden_size_list + [self.output_size]\n",
        "        self.hidden_layer_num = len(self.hidden_size_list)\n",
        "        self.weight_decay_lambda =0\n",
        "        self.params = {}\n",
        "        self.layers = {}\n",
        "        self.grads = {}\n",
        "\n",
        "        # 重みとバイアスの初期化\n",
        "        for idx in range(1, len(self.all_size_list)):\n",
        "            self.params['w' + str(idx)] = np.random.randn(self.all_size_list[idx-1], self.all_size_list[idx]) * 0.085\n",
        "            self.params['b' + str(idx)] = np.zeros(self.all_size_list[idx], dtype=float)\n",
        "\n",
        "        \n",
        "    def forward(self, x):\n",
        "        relu = lambda x : np.maximum(0, x)  # 活性化関数として ReLU を使用\n",
        "        self.layers['layer0'] = x\n",
        "        for idx in range(1, len(self.all_size_list) - 1):\n",
        "            w = self.params['w' + str(idx)]\n",
        "            b = self.params['b' + str(idx)]\n",
        "            x = self.layers['layer' + str(idx - 1)]\n",
        "            self.layers['layer' + str(idx)] = relu(np.dot(x, w) + b)\n",
        "        idx = len(self.all_size_list) - 1\n",
        "        w = self.params['w' + str(idx)]\n",
        "        b = self.params['b' + str(idx)]\n",
        "        x = self.layers['layer' + str(idx - 1)]\n",
        "        self.layers['layer' + str(idx)] = softmax(np.dot(x, w) + b)\n",
        "        \n",
        "        return self.layers['layer' + str(idx)]\n",
        "        \n",
        "\n",
        "    def loss(self, y, t):\n",
        "        return cross_entropy_error(y, t)\n",
        "    \n",
        "    def backward(self, t, y):\n",
        "        delta = (y - t) / t.shape[0]\n",
        "        self.grads['b5'] = np.sum(delta, axis=0)\n",
        "        self.grads['w5'] = np.dot(self.layers['layer4'].transpose(), delta)\n",
        "        # 誤差逆伝播\n",
        "        for idx in range(4, 0, -1):\n",
        "            delta = np.dot(delta, self.params['w' + str(idx + 1)].transpose())\n",
        "            delta = delta *  (self.layers['layer' + str(idx)] > 0)\n",
        "            self.grads['b' + str(idx)] = np.sum(delta, axis=0)\n",
        "            self.grads['w' + str(idx)] = np.dot(self.layers['layer'+str(idx - 1)].transpose(), delta)\n",
        "        return self.grads\n"
      ],
      "execution_count": 46,
      "outputs": []
    },
    {
      "cell_type": "markdown",
      "metadata": {
        "id": "ZGnDfiCwOG6m"
      },
      "source": [
        "## バッチ正規化を用いるネットワーク\n",
        "\n",
        "各層について、重みを掛けて足し合わせた後バッチ正規化を行う。\n",
        "\n",
        "2. <font color=\"Red\">バッチ正規化を用いたニューラルネットワークを完成させてください。</font>\n",
        "\n",
        "  バッチ正規化の順伝播は以下の式に従って実装します。\n",
        "  \n",
        "  - （訓練時のみ）まずは計算しているミニバッチについて、平均と分散を求めます。各次元について、全データを通じた平均・分散を計算するため、平均・分散を計算する軸にご注意ください。\n",
        "\n",
        "  - （訓練時のみ）テスト時に使用するために、訓練データ全体での平均を推定します。モーメンタム $m$ を用いて今までの平均 $\\mu_{old} $ を計算しているミニバッチの平均 $\\mu$ の方向に移動させ、新しい平均$\\mu_{new} $を求めます。\n",
        "  $$\n",
        "  \\mu_{new} = m \\mu_{old} + ( 1 - m)\\mu\\tag{1}\n",
        "  $$\n",
        "\n",
        "  - （訓練時のみ）同様に今までの分散 $\\sigma_{old} ^ 2$ を計算しているミニバッチの平均 $\\sigma^2$の方向に移動させ、 新しい分散$\\sigma_{new}^2$ を求めます。\n",
        "  $$\n",
        "  \\sigma_{new}^2 = m \\sigma_{old}^2 + ( 1 - m)\\sigma^2\\tag{2}\n",
        "  $$\n",
        "\n",
        "  - 求めた平均 $\\mu$ と分散 $\\sigma^2$ を用いて、入力 $x$ を正規化した値 $x_n$ を求めます。分散$\\sigma^2$から標準偏差 $\\sigma$ を求めるときに、アンダーフローを避けるために 10e-7 ($10 \\times 10 ^ {-7}$) を足してから平方根を取っています。\n",
        "  テスト時には、移動平均により推定した訓練データ全体での平均・分散を使用します。\n",
        "  $$\n",
        "  \\sigma = \\sqrt{\\sigma ^ 2 + 10 \\times 10 ^ {-7}}\\tag{3}\n",
        "  $$\n",
        "  $$\n",
        "  x_n = (x - \\mu) / \\sigma\\tag{4}\n",
        "  $$\n",
        "\n",
        "   - 正規化した値 $x_n$に対して $\\gamma$ を用いて変倍し、$\\beta$ を用いて移動を行い、活性化関数に渡す出力 $y$ を求めます。\n",
        "   $$\n",
        "   y = \\gamma x_n + \\beta\\tag{5}\n",
        "   $$\n",
        " \n",
        "   バッチ正規化の誤差逆伝播は以下の式に従って実装します。\n",
        "   \n",
        "   - 直前まで逆伝播してきた$1, 2, \\dots , N$ 番目(Nはバッチサイズ)の出力データ$y_k$による勾配 $\\frac{\\partial L}{\\partial y_k}$を用いて $\\gamma$ と$\\beta$による勾配を計算します。 $x_{nk}$ はミニバッチの中のk番目の入力データを正規化した後の値を表します。\n",
        "   \n",
        "   $$\n",
        "   \\begin{eqnarray} \n",
        "   \\frac{\\partial L}{\\partial \\gamma} & = & \\sum_{k=1}^{N} \\frac{\\partial L}{\\partial y_k} \\frac{\\partial y_k}{\\partial \\gamma} =\\sum_{k=1}^{N} \\frac{\\partial L}{\\partial y_k} x_{nk}\\tag{6}\\\\\n",
        "   \\frac{\\partial L}{\\partial \\beta} & = & \\sum_{k=1}^{N} \\frac{\\partial L}{\\partial y_k} \\frac{\\partial y_k}{\\partial \\beta} =            \\sum_{k=1}^{N} \\frac{\\partial L}{\\partial y_k}\\tag{7}\n",
        "   \\end{eqnarray}\n",
        "   $$\n",
        "   \n",
        "   - $1, 2, \\dots , N$ 番目の入力データ$x_k$による勾配 $\\frac{\\partial L}{\\partial x_k}$を計算します（コードでは高速化のため少々異なった計算をしています）。\n",
        "   \n",
        "   $$\n",
        "  \\begin{equation} \n",
        "  \\frac{\\partial L}{\\partial x_k} \n",
        "  = \\frac{\\gamma}{\\sigma} \\Bigg[ \\frac{\\partial L}{\\partial y_k} \n",
        "  - \\frac{1}{N} \\bigg[ \\frac{\\partial L}{\\partial \\beta} + x_{nk} \\frac{\\partial L}{\\partial \\gamma} \\bigg] \\Bigg] \n",
        "  \\end{equation}\n",
        "  $$"
      ]
    },
    {
      "cell_type": "code",
      "metadata": {
        "id": "zavAJFafOG6n"
      },
      "source": [
        "class mnistMultiLayerBatchNet:\n",
        "    \"\"\"\n",
        "    layer0: 784 次元の入力\n",
        "    ↓ w1, b1 で線形結合\n",
        "    ↓バッチ正規化 gamma1倍しbeta1だけずらす\n",
        "    ↓ relu で活性化\n",
        "    layer1: 100 次元の隠れ層\n",
        "    ↓ w2, b2 で線形結合\n",
        "    ↓バッチ正規化 gamma2倍しbeta2だけずらす\n",
        "    ↓ relu で活性化\n",
        "    layer2: 100 次元の隠れ層\n",
        "    ↓ w3, b3 で線形結合\n",
        "    ↓バッチ正規化 gamma3倍しbeta3だけずらす\n",
        "    ↓ relu で活性化\n",
        "    layer3: 100 次元の隠れ層\n",
        "    ↓ w4, b4 で線形結合\n",
        "    ↓バッチ正規化 gamma4倍しbeta4だけずらす\n",
        "    ↓ relu で活性化\n",
        "    layer4: 100 次元の隠れ層\n",
        "    ↓ w5, b5 で線形結合\n",
        "    layer5: 10 次元の出力層\n",
        "    \"\"\"\n",
        "    def __init__(self):\n",
        "        self.input_size = 784\n",
        "        self.output_size = 10\n",
        "        self.hidden_size_list = [100, 100, 100, 100]\n",
        "        self.all_size_list = [self.input_size] + self.hidden_size_list + [self.output_size]\n",
        "        self.hidden_layer_num = len(self.hidden_size_list)\n",
        "        self.weight_decay_lambda =0\n",
        "        self.params = {}\n",
        "        self.layers = {}\n",
        "        self.grads = {}\n",
        "        self.norms = {}\n",
        "        self.momentum = 0.9\n",
        "\n",
        "        # パラメータの初期化\n",
        "        for idx in range(1, len(self.all_size_list)):\n",
        "            # 線形結合層のパラメータ\n",
        "            self.params['w' + str(idx)] = np.random.randn(self.all_size_list[idx-1], self.all_size_list[idx]) * 0.085\n",
        "            self.params['b' + str(idx)] = np.zeros(self.all_size_list[idx], dtype=float)\n",
        "            \n",
        "            # バッチ正規化でシフトさせるときに用いるγとβを更新するパラメータとし初期化\n",
        "            # mu と sigma は実行時の平均と分散\n",
        "            if idx != len(self.all_size_list) - 1:\n",
        "                self.params['gamma' + str(idx)] = np.ones(self.all_size_list[idx])\n",
        "                self.params['beta' + str(idx)] = np.zeros(self.all_size_list[idx])\n",
        "                self.norms['mu' + str(idx)] = None\n",
        "                self.norms['var' + str(idx)] = None\n",
        "        \n",
        "    def forward(self, x, train_flg=False):\n",
        "        relu = lambda x : np.maximum(0, x)  # 活性化関数として ReLU を使用\n",
        "        self.layers['layer0'] = x\n",
        "        for idx in range(1, len(self.all_size_list) - 1):\n",
        "            # 線形結合層\n",
        "            w = self.params['w' + str(idx)]\n",
        "            b = self.params['b' + str(idx)]\n",
        "            x = self.layers['layer' + str(idx - 1)]\n",
        "            x = np.dot(x, w) + b\n",
        "            \n",
        "            # バッチ正規化\n",
        "            # 平均と分散の初期化\n",
        "            if self.norms['mu' + str(idx)] is None:\n",
        "                N, D = x.shape\n",
        "                self.norms['mu' + str(idx)] = np.zeros(D)\n",
        "                self.norms['var' + str(idx)] = np.zeros(D)\n",
        "            if train_flg:\n",
        "                ###### 問2.1 ######\n",
        "                mu = np.mean(x, axis=0)          # 今回のミニバッチの平均\n",
        "                xc = x - mu                   # 今回のミニバッチの平均との差分\n",
        "                ###### 問2.2 ######\n",
        "                var = np.var(x, axis=0)   # 今回のミニバッチの分散\n",
        "                std = np.sqrt(var + 10e-7)    # 今回のミニバッチの標準偏差\n",
        "                xn = xc / std                 # 正規化\n",
        "\n",
        "                # 全体の平均と分散を移動平均により求める(1),(2)\n",
        "                ###### 問2.3 ######\n",
        "                self.norms['mu' + str(idx)] = self.momentum * self.norms['mu' + str(idx)] + (1 - self.momentum) * mu\n",
        "                ###### 問2.4 ######\n",
        "                self.norms['var' + str(idx)] = self.momentum * self.norms['var' + str(idx)] + (1 - self.momentum) * var\n",
        "                \n",
        "                # 誤差逆伝播で使う中間データ\n",
        "                self.norms['xc' + str(idx)] = xc\n",
        "                self.norms['xn' + str(idx)] = xn\n",
        "                self.norms['std' + str(idx)] = std\n",
        "                self.norms['size' + str(idx)] = x.shape[0]\n",
        "            else:\n",
        "                # テスト時は全体の平均と分散を使って正規化する(3),(4)\n",
        "                ###### 問2.5 ######\n",
        "                xc = x - self.norms['mu' + str(idx)]\n",
        "                ###### 問2.6 ######\n",
        "                xn = xc / np.sqrt(self.norms['var' + str(idx)] + 10e-7)\n",
        "                \n",
        "            # バッチ正規化でシフトさせる(5)\n",
        "            ###### 問2.7 ######\n",
        "            shifted = self.params['gamma' + str(idx)] * xn + self.params['beta' + str(idx)]\n",
        "            \n",
        "            # relu を使って活性化\n",
        "            self.layers['layer' + str(idx)] = relu(shifted)\n",
        "\n",
        "        # 出力層\n",
        "        idx = len(self.all_size_list) - 1\n",
        "        w = self.params['w' + str(idx)]\n",
        "        b = self.params['b' + str(idx)]\n",
        "        x = self.layers['layer' + str(idx - 1)]\n",
        "        self.layers['layer' + str(idx)] = softmax(np.dot(x, w) + b)\n",
        "        \n",
        "        return self.layers['layer' + str(idx)]\n",
        "        \n",
        "\n",
        "    def loss(self, y, t):\n",
        "        return cross_entropy_error(y, t)\n",
        "    \n",
        "    def backward(self, t, y):\n",
        "        # 出力層における誤差の勾配（クロスエントロピー関数の勾配）\n",
        "        delta = (y - t) / t.shape[0]\n",
        "        \n",
        "        # 出力層手前の線形結合層における勾配の逆伝播\n",
        "        self.grads['b5'] = np.sum(delta, axis=0)\n",
        "        self.grads['w5'] = np.dot(self.layers['layer4'].transpose(), delta)\n",
        "        \n",
        "        # 誤差逆伝播\n",
        "        for idx in range(4, 0, -1):\n",
        "            delta = np.dot(delta, self.params['w' + str(idx + 1)].transpose())\n",
        "            \n",
        "            # relu の微分\n",
        "            delta = delta *  (self.layers['layer' + str(idx)] > 0)\n",
        "            \n",
        "            # バッチ正規化における勾配の逆伝播(6),(7)\n",
        "            self.grads['beta' + str(idx)] = np.sum(delta, axis=0) ###### 問2.8 ###### \n",
        "            self.grads['gamma' + str(idx)] = np.sum(delta * self.norms['xn' + str(idx)], axis=0)  ###### 問2.9 ######\n",
        "            dxn = self.params['gamma' + str(idx)] * delta\n",
        "            dxc = dxn / self.norms['std' + str(idx)]\n",
        "            dstd = -np.sum((dxn * self.norms['xc' + str(idx)]) / (self.norms['std' + str(idx)] * self.norms['std' + str(idx)]), axis=0)\n",
        "            dvar = 0.5 * dstd / self.norms['std' + str(idx)]\n",
        "            dxc += (2.0 / self.norms['size' + str(idx)]) * self.norms['xc' + str(idx)] * dvar\n",
        "            dmu = np.sum(dxc, axis=0)\n",
        "            delta = dxc - dmu / self.norms['size' + str(idx)]\n",
        "            \n",
        "            # 線形結合層における勾配の逆伝播\n",
        "            self.grads['b' + str(idx)] = np.sum(delta, axis=0)\n",
        "            self.grads['w' + str(idx)] = np.dot(self.layers['layer'+str(idx - 1)].transpose(), delta)\n",
        "            \n",
        "        return self.grads\n"
      ],
      "execution_count": 47,
      "outputs": []
    },
    {
      "cell_type": "markdown",
      "metadata": {
        "id": "lbRwqNKNrpxS"
      },
      "source": [
        "   $$\n",
        "  \\begin{equation} \n",
        "  \\frac{\\partial L}{\\partial x_k} \n",
        "  = \\frac{\\gamma}{\\sigma} \\Bigg[ \\frac{\\partial L}{\\partial y_k} \n",
        "  - \\frac{1}{N} \\bigg[ \\frac{\\partial L}{\\partial \\beta} + x_{nk} \\frac{\\partial L}{\\partial \\gamma} \\bigg] \\Bigg] \n",
        "  \\end{equation}\n",
        "  $$\n"
      ]
    },
    {
      "cell_type": "markdown",
      "metadata": {
        "id": "2QrrsrJHOG6p"
      },
      "source": [
        "## ミニバッチを用いた学習\n",
        "\n",
        "3. <font color=\"Red\">ミニバッチサイズ128に分割して学習させるように以下のプログラムを完成させてください。</font>\n",
        " - xとtの対応を保ったままシャッフルさせたのち、バッチサイズ分だけデータを取り出します。\n",
        " - ヒント: numpy.random.permutation を用いることで、データのインデックスをシャッフルした配列を用意することで、シャッフルインデックス配列permに対して、前からバッチサイズずつインデックスを切り出せばミニバッチの抽出が行えます。\n",
        " - また、学習用のコードは実行に時間がかかります。完了するまで5~10分ほどを要しますのでご注意ください。"
      ]
    },
    {
      "cell_type": "code",
      "metadata": {
        "id": "SR705KyHOG6p"
      },
      "source": [
        "bn = mnistMultiLayerBatchNet()\n",
        "nobn = mnistMultiLayerNet()\n",
        "adambn = mnistMultiLayerBatchNet()\n",
        "adamnobn = mnistMultiLayerNet()\n",
        "\n",
        "bn_acc_list = []\n",
        "nobn_acc_list = []\n",
        "adambn_acc_list = []\n",
        "adamnobn_acc_list = []\n",
        "\n",
        "sgd = SGD(lr = 0.01)\n",
        "adam = Adam(lr=0.01)\n",
        "\n",
        "# ミニバッチアルゴリズム\n",
        "batch_size = 128"
      ],
      "execution_count": 48,
      "outputs": []
    },
    {
      "cell_type": "code",
      "metadata": {
        "id": "AubQET_ymPQG",
        "outputId": "234fd495-bb33-4861-9e83-c28e04593366",
        "colab": {
          "base_uri": "https://localhost:8080/"
        }
      },
      "source": [
        "print(len(x_train))\n",
        "print(len(t_train))\n",
        "print(len(x_test))\n",
        "print(len(t_test))"
      ],
      "execution_count": 49,
      "outputs": [
        {
          "output_type": "stream",
          "text": [
            "56000\n",
            "56000\n",
            "14000\n",
            "14000\n"
          ],
          "name": "stdout"
        }
      ]
    },
    {
      "cell_type": "code",
      "metadata": {
        "id": "hL36vPejOG6r",
        "scrolled": true,
        "outputId": "d0d21df7-407a-4a23-832c-bfbd1190a0b7",
        "colab": {
          "base_uri": "https://localhost:8080/"
        }
      },
      "source": [
        "for epoch in range(20):\n",
        "    # ランダムにミニバッチへ分割するために、インデックスをランダムに並び替える\n",
        "    perm = np.random.permutation(len(x_train))\n",
        "    \n",
        "    # batch_size ごとにデータを読み込んで学習させる\n",
        "    for idx in range(len(x_train)//batch_size):\n",
        "        x = x_train[batch_size*idx:batch_size*(idx+1)]\n",
        "        t = t_train[batch_size*idx:batch_size*(idx+1)]\n",
        "        \n",
        "        y = bn.forward(x, train_flg=True)\n",
        "        grads = bn.backward(t, y)\n",
        "        sgd.update(bn.params,grads)\n",
        "        \n",
        "        y = adambn.forward(x, train_flg=True)\n",
        "        grads = adambn.backward(t, y)\n",
        "        adam.update(adambn.params,grads)\n",
        "        \n",
        "        y = nobn.forward(x)\n",
        "        grads = nobn.backward(t,y)\n",
        "        sgd.update(nobn.params, grads)\n",
        "        \n",
        "        y = adamnobn.forward(x)\n",
        "        grads = adamnobn.backward(t, y)\n",
        "        adam.update(adamnobn.params,grads)\n",
        "\n",
        "    y_test = bn.forward(x_test)\n",
        "    bn_acc_list.append((y_test.argmax(axis=1) == t_test.argmax(axis=1)).mean())\n",
        "    y_test = nobn.forward(x_test)\n",
        "    nobn_acc_list.append((y_test.argmax(axis=1) == t_test.argmax(axis=1)).mean())\n",
        "    y_test = adambn.forward(x_test)\n",
        "    adambn_acc_list.append((y_test.argmax(axis=1) == t_test.argmax(axis=1)).mean())\n",
        "    y_test = adamnobn.forward(x_test)\n",
        "    adamnobn_acc_list.append((y_test.argmax(axis=1) == t_test.argmax(axis=1)).mean())\n",
        "\n",
        "    print(f'EPOCH {epoch + 1} | NoBatch ACCURACY (SGD) {nobn_acc_list[-1]:.2%} | Batch ACCURACY (SGD){bn_acc_list[-1]:.2%} | NoBatch ACCURACY (Adam){adamnobn_acc_list[-1]:.2%} | Batch ACCURACY (Adam) {adambn_acc_list[-1]:.2%}')"
      ],
      "execution_count": 50,
      "outputs": [
        {
          "output_type": "stream",
          "text": [
            "EPOCH 1 | NoBatch ACCURACY (SGD) 86.64% | Batch ACCURACY (SGD)84.90% | NoBatch ACCURACY (Adam)91.52% | Batch ACCURACY (Adam) 95.14%\n",
            "EPOCH 2 | NoBatch ACCURACY (SGD) 89.82% | Batch ACCURACY (SGD)89.50% | NoBatch ACCURACY (Adam)93.16% | Batch ACCURACY (Adam) 95.46%\n",
            "EPOCH 3 | NoBatch ACCURACY (SGD) 90.98% | Batch ACCURACY (SGD)91.29% | NoBatch ACCURACY (Adam)94.54% | Batch ACCURACY (Adam) 95.54%\n",
            "EPOCH 4 | NoBatch ACCURACY (SGD) 92.17% | Batch ACCURACY (SGD)92.39% | NoBatch ACCURACY (Adam)93.29% | Batch ACCURACY (Adam) 95.13%\n",
            "EPOCH 5 | NoBatch ACCURACY (SGD) 92.81% | Batch ACCURACY (SGD)93.23% | NoBatch ACCURACY (Adam)95.13% | Batch ACCURACY (Adam) 96.22%\n",
            "EPOCH 6 | NoBatch ACCURACY (SGD) 93.31% | Batch ACCURACY (SGD)93.66% | NoBatch ACCURACY (Adam)94.74% | Batch ACCURACY (Adam) 96.49%\n",
            "EPOCH 7 | NoBatch ACCURACY (SGD) 93.78% | Batch ACCURACY (SGD)94.12% | NoBatch ACCURACY (Adam)94.14% | Batch ACCURACY (Adam) 95.48%\n",
            "EPOCH 8 | NoBatch ACCURACY (SGD) 94.08% | Batch ACCURACY (SGD)94.52% | NoBatch ACCURACY (Adam)94.29% | Batch ACCURACY (Adam) 96.73%\n",
            "EPOCH 9 | NoBatch ACCURACY (SGD) 94.28% | Batch ACCURACY (SGD)94.79% | NoBatch ACCURACY (Adam)85.15% | Batch ACCURACY (Adam) 96.39%\n",
            "EPOCH 10 | NoBatch ACCURACY (SGD) 94.42% | Batch ACCURACY (SGD)95.02% | NoBatch ACCURACY (Adam)91.49% | Batch ACCURACY (Adam) 96.94%\n",
            "EPOCH 11 | NoBatch ACCURACY (SGD) 94.59% | Batch ACCURACY (SGD)95.09% | NoBatch ACCURACY (Adam)88.51% | Batch ACCURACY (Adam) 96.45%\n",
            "EPOCH 12 | NoBatch ACCURACY (SGD) 94.69% | Batch ACCURACY (SGD)95.18% | NoBatch ACCURACY (Adam)68.43% | Batch ACCURACY (Adam) 97.02%\n",
            "EPOCH 13 | NoBatch ACCURACY (SGD) 94.77% | Batch ACCURACY (SGD)95.34% | NoBatch ACCURACY (Adam)69.97% | Batch ACCURACY (Adam) 97.12%\n",
            "EPOCH 14 | NoBatch ACCURACY (SGD) 94.91% | Batch ACCURACY (SGD)95.49% | NoBatch ACCURACY (Adam)72.79% | Batch ACCURACY (Adam) 97.14%\n",
            "EPOCH 15 | NoBatch ACCURACY (SGD) 94.91% | Batch ACCURACY (SGD)95.64% | NoBatch ACCURACY (Adam)63.63% | Batch ACCURACY (Adam) 96.88%\n",
            "EPOCH 16 | NoBatch ACCURACY (SGD) 94.94% | Batch ACCURACY (SGD)95.74% | NoBatch ACCURACY (Adam)65.10% | Batch ACCURACY (Adam) 97.20%\n",
            "EPOCH 17 | NoBatch ACCURACY (SGD) 94.86% | Batch ACCURACY (SGD)95.87% | NoBatch ACCURACY (Adam)41.64% | Batch ACCURACY (Adam) 96.91%\n",
            "EPOCH 18 | NoBatch ACCURACY (SGD) 94.93% | Batch ACCURACY (SGD)95.93% | NoBatch ACCURACY (Adam)44.24% | Batch ACCURACY (Adam) 97.29%\n",
            "EPOCH 19 | NoBatch ACCURACY (SGD) 94.98% | Batch ACCURACY (SGD)96.00% | NoBatch ACCURACY (Adam)36.02% | Batch ACCURACY (Adam) 97.22%\n",
            "EPOCH 20 | NoBatch ACCURACY (SGD) 95.03% | Batch ACCURACY (SGD)96.05% | NoBatch ACCURACY (Adam)45.91% | Batch ACCURACY (Adam) 97.09%\n"
          ],
          "name": "stdout"
        }
      ]
    },
    {
      "cell_type": "markdown",
      "metadata": {
        "id": "JYmN3xRhOG6t"
      },
      "source": [
        "## 学習結果\n",
        "学習結果を可視化してみます。まずはSGDを使った学習についてのみ比較を行います。結果のグラフが以下のグラフと一致していれば学習は成功しています。\n",
        "<img src=\"./drive/My Drive/Colab Notebooks/E-certificate/day3/sgd.png\">\n",
        "学習結果からわかる通り、バッチ正規化を加えることでテスト精度が高い水準で安定させることが可能となります。"
      ]
    },
    {
      "cell_type": "code",
      "metadata": {
        "id": "fBfEm6vvOG6t",
        "scrolled": false,
        "outputId": "7b2c56aa-0172-424a-ea8d-64e2bc624dcc",
        "colab": {
          "base_uri": "https://localhost:8080/",
          "height": 279
        }
      },
      "source": [
        "x = range(20)\n",
        "plt.plot(x, bn_acc_list, color='turquoise')\n",
        "plt.plot(x, nobn_acc_list, color='tomato')\n",
        "\n",
        "plt.legend(['BatchNormalization', 'Normal Network'])\n",
        "plt.xlabel('epoch')\n",
        "plt.ylabel('accuracy')\n",
        "plt.show()"
      ],
      "execution_count": 51,
      "outputs": [
        {
          "output_type": "display_data",
          "data": {
            "image/png": "[encoded data removed]",
            "text/plain": [
              "<Figure size 432x288 with 1 Axes>"
            ]
          },
          "metadata": {
            "tags": [],
            "needs_background": "light"
          }
        }
      ]
    },
    {
      "cell_type": "markdown",
      "metadata": {
        "id": "bKh5jSYNOG6v"
      },
      "source": [
        "次にAdamで学習した場合も含めてプロットしてみましょう。結果のグラフの特徴が以下と一致していれば学習成功です。<br>\n",
        "・Adamで学習すると、SGDよりも学習が進みやすく、高い精度が実現できている。<br>\n",
        "・バッチ正規化を加えないネットワークでは過学習により途中からテスト精度が急に低下している。<br>\n",
        "バッチ正規化を加えることで正則化の役割も可能となっていることが読み取れます。\n",
        "<img src=\"adam.png\">"
      ]
    },
    {
      "cell_type": "code",
      "metadata": {
        "id": "MWW5j2lWOG6w",
        "outputId": "2017e5a7-e7e1-44f5-bfbd-48183ecce28a",
        "colab": {
          "base_uri": "https://localhost:8080/",
          "height": 283
        }
      },
      "source": [
        "x = range(20)\n",
        "plt.plot(x, bn_acc_list, color='turquoise', linestyle = '-')\n",
        "plt.plot(x, nobn_acc_list, color='tomato', linestyle='-')\n",
        "plt.plot(x, adambn_acc_list, color='turquoise', linestyle = '--')\n",
        "plt.plot(x, adamnobn_acc_list, color='tomato', linestyle='--')\n",
        "\n",
        "plt.ylim((0.85, 1))\n",
        "\n",
        "plt.legend(['BatchNormalization(SGD)', 'Normal Network(SGD)', 'BatchNormalization(Adam)', 'Normal Network(Adam)'])\n",
        "plt.xlabel('epoch')\n",
        "plt.ylabel('accuracy')\n",
        "plt.show()"
      ],
      "execution_count": 52,
      "outputs": [
        {
          "output_type": "display_data",
          "data": {
            "image/png": "[encoded data removed]",
            "text/plain": [
              "<Figure size 432x288 with 1 Axes>"
            ]
          },
          "metadata": {
            "tags": [],
            "needs_background": "light"
          }
        }
      ]
    },
    {
      "cell_type": "code",
      "metadata": {
        "id": "66K23F9MytJh"
      },
      "source": [
        ""
      ],
      "execution_count": 52,
      "outputs": []
    }
  ]
}