{
  "nbformat": 4,
  "nbformat_minor": 0,
  "metadata": {
    "colab": {
      "name": "Day4演習.ipynb",
      "provenance": [],
      "collapsed_sections": [],
      "include_colab_link": true
    },
    "kernelspec": {
      "display_name": "Python 3",
      "language": "python",
      "name": "python3"
    },
    "language_info": {
      "codemirror_mode": {
        "name": "ipython",
        "version": 3
      },
      "file_extension": ".py",
      "mimetype": "text/x-python",
      "name": "python",
      "nbconvert_exporter": "python",
      "pygments_lexer": "ipython3",
      "version": "3.7.6"
    },
    "latex_envs": {
      "LaTeX_envs_menu_present": true,
      "autoclose": false,
      "autocomplete": true,
      "bibliofile": "biblio.bib",
      "cite_by": "apalike",
      "current_citInitial": 1,
      "eqLabelWithNumbers": true,
      "eqNumInitial": 1,
      "hotkeys": {
        "equation": "Ctrl-E",
        "itemize": "Ctrl-I"
      },
      "labels_anchors": false,
      "latex_user_defs": false,
      "report_style_numbering": false,
      "user_envs_cfg": false
    }
  },
  "cells": [
    {
      "cell_type": "markdown",
      "metadata": {
        "id": "view-in-github",
        "colab_type": "text"
      },
      "source": [
        "<a href=\"https://colab.research.google.com/github/hato0501/E-certificate/blob/main/Day4%E6%BC%94%E7%BF%92.ipynb\" target=\"_parent\"><img src=\"https://colab.research.google.com/assets/colab-badge.svg\" alt=\"Open In Colab\"/></a>"
      ]
    },
    {
      "cell_type": "markdown",
      "metadata": {
        "id": "2D6_Elne9ZNY"
      },
      "source": [
        "# 【全人類がわかるE資格コース】コーディング演習Day4\n",
        "\n",
        "## 概要\n",
        "\n",
        "本演習では深層学習の基礎である多層パーセプトロンによる学習を穴埋め形式で実装します。なお、予め用意されたコードはそのまま使用し、指示された穴埋め部を編集してください。\n",
        "演習問題文は<font color=\"Red\">赤字</font>です。このファイルは必ず最後までコードをすべて実行し、「最後までコードが実行可能」・「学習結果の出力がある」・「学習が成功している」の３つを満たした状態で提出してください。\n",
        "\n",
        "また、乱数設定により実行結果が異なるため、<font color=\"Red\">コードを完成させたあと、必ずもう一度一番上のセルから順に最後まで実行して結果を確認してください。</font>\n",
        "\n",
        "所要時間：2~4時間"
      ]
    },
    {
      "cell_type": "markdown",
      "metadata": {
        "id": "Qa6uEu2WykDI"
      },
      "source": [
        "### Google Colab 対応"
      ]
    },
    {
      "cell_type": "code",
      "metadata": {
        "id": "dsq2fC22yT0w",
        "outputId": "61056fb6-7fb5-40d6-8fa7-653bc78f51ac",
        "colab": {
          "base_uri": "https://localhost:8080/"
        }
      },
      "source": [
        "# Drive Mount in Google Colab\n",
        "from google.colab import drive\n",
        "drive.mount('/content/drive')"
      ],
      "execution_count": 1,
      "outputs": [
        {
          "output_type": "stream",
          "text": [
            "Mounted at /content/drive\n"
          ],
          "name": "stdout"
        }
      ]
    },
    {
      "cell_type": "code",
      "metadata": {
        "id": "0MBnMnyCyo6-"
      },
      "source": [
        "folder = './drive/My Drive/Colab Notebooks/E-certificate/day4/'"
      ],
      "execution_count": 2,
      "outputs": []
    },
    {
      "cell_type": "markdown",
      "metadata": {
        "id": "fZhPqCMj9ZNZ"
      },
      "source": [
        "## ライブラリのインポート\n",
        "\n",
        "必要なライブラリをインポートします。エラーになる場合は該当するものをインストールしてください。"
      ]
    },
    {
      "cell_type": "code",
      "metadata": {
        "id": "YMY6dYyB9ZNZ"
      },
      "source": [
        "import os\n",
        "import pickle\n",
        "import numpy as np\n",
        "import matplotlib.pyplot as plt\n",
        "from collections import OrderedDict\n",
        "from sklearn import datasets\n",
        "from sklearn.model_selection import train_test_split\n",
        "%matplotlib inline\n",
        "# 乱数シードを指定\n",
        "np.random.seed(seed=0)"
      ],
      "execution_count": 3,
      "outputs": []
    },
    {
      "cell_type": "code",
      "metadata": {
        "id": "Y21IeECg9ZNc"
      },
      "source": [
        "if os.path.exists('mnist_784'):\n",
        "    with open('mnist_784','rb') as f:\n",
        "        mnist = pickle.load(f)\n",
        "else:\n",
        "    mnist = datasets.fetch_openml('mnist_784')\n",
        "    with open('mnist_784', 'wb') as f:\n",
        "        pickle.dump(mnist, f)\n",
        "# 画像とラベルを取得\n",
        "X, T = mnist.data, mnist.target\n",
        "# 訓練データとテストデータに分割\n",
        "x_train, x_test, t_train, t_test = train_test_split(X, T, test_size=0.2)\n",
        "x_train = x_train.reshape(-1,1,28,28)\n",
        "x_test = x_test.reshape(-1,1,28,28)\n",
        "# ラベルデータをint型にし、one-hot-vectorに変換します\n",
        "t_train = np.eye(10)[t_train.astype(\"int\")]\n",
        "t_test = np.eye(10)[t_test.astype(\"int\")]"
      ],
      "execution_count": 4,
      "outputs": []
    },
    {
      "cell_type": "markdown",
      "metadata": {
        "id": "zdEiCmmE9ZNf"
      },
      "source": [
        "## データの説明\n",
        "\n",
        "mnist と呼ばれる手書き数字の認識問題です。\n",
        "\n",
        "データは 1チャンネル 28×28 の配列となっています。"
      ]
    },
    {
      "cell_type": "code",
      "metadata": {
        "id": "Lgo50Szl9ZNg",
        "scrolled": true,
        "outputId": "feb7160a-5ce2-4618-ae49-d1b3859e0fdf",
        "colab": {
          "base_uri": "https://localhost:8080/",
          "height": 1000
        }
      },
      "source": [
        "# データを5つ表示\n",
        "for i in range(5):\n",
        "    plt.gray()\n",
        "    plt.imshow(x_train[i][0])\n",
        "    plt.show()\n",
        "    print(\"label: \", t_train[i])"
      ],
      "execution_count": 5,
      "outputs": [
        {
          "output_type": "display_data",
          "data": {
            "image/png": "[encoded data removed]",
            "text/plain": [
              "<Figure size 432x288 with 1 Axes>"
            ]
          },
          "metadata": {
            "tags": [],
            "needs_background": "light"
          }
        },
        {
          "output_type": "stream",
          "text": [
            "label:  [0. 0. 0. 0. 1. 0. 0. 0. 0. 0.]\n"
          ],
          "name": "stdout"
        },
        {
          "output_type": "display_data",
          "data": {
            "image/png": "[encoded data removed]",
            "text/plain": [
              "<Figure size 432x288 with 1 Axes>"
            ]
          },
          "metadata": {
            "tags": [],
            "needs_background": "light"
          }
        },
        {
          "output_type": "stream",
          "text": [
            "label:  [0. 0. 0. 0. 0. 0. 0. 0. 0. 1.]\n"
          ],
          "name": "stdout"
        },
        {
          "output_type": "display_data",
          "data": {
            "image/png": "[encoded data removed]",
            "text/plain": [
              "<Figure size 432x288 with 1 Axes>"
            ]
          },
          "metadata": {
            "tags": [],
            "needs_background": "light"
          }
        },
        {
          "output_type": "stream",
          "text": [
            "label:  [0. 0. 0. 0. 0. 0. 1. 0. 0. 0.]\n"
          ],
          "name": "stdout"
        },
        {
          "output_type": "display_data",
          "data": {
            "image/png": "[encoded data removed]",
            "text/plain": [
              "<Figure size 432x288 with 1 Axes>"
            ]
          },
          "metadata": {
            "tags": [],
            "needs_background": "light"
          }
        },
        {
          "output_type": "stream",
          "text": [
            "label:  [0. 0. 0. 0. 0. 0. 0. 1. 0. 0.]\n"
          ],
          "name": "stdout"
        },
        {
          "output_type": "display_data",
          "data": {
            "image/png": "[encoded data removed]",
            "text/plain": [
              "<Figure size 432x288 with 1 Axes>"
            ]
          },
          "metadata": {
            "tags": [],
            "needs_background": "light"
          }
        },
        {
          "output_type": "stream",
          "text": [
            "label:  [0. 0. 0. 0. 0. 1. 0. 0. 0. 0.]\n"
          ],
          "name": "stdout"
        }
      ]
    },
    {
      "cell_type": "markdown",
      "metadata": {
        "id": "vHUUSJ-t9ZNi"
      },
      "source": [
        "### Affine 変換層とコスト関数\n",
        "Affine 変換層とコスト関数の実装になります。問題にはなっていませんが、復習も兼ねて読み返してください。"
      ]
    },
    {
      "cell_type": "code",
      "metadata": {
        "id": "tEzKb8Gd9ZNj"
      },
      "source": [
        "def softmax(x):\n",
        "    if x.ndim == 2:\n",
        "        x = x.T\n",
        "        x = x - np.max(x, axis=0)\n",
        "        y = np.exp(x) / np.sum(np.exp(x), axis=0)\n",
        "        return y.T \n",
        "\n",
        "    x = x - np.max(x) # オーバーフロー対策\n",
        "    return np.exp(x) / np.sum(np.exp(x))\n",
        "\n",
        "def cross_entropy_error(y, t):\n",
        "    if y.ndim == 1:\n",
        "        t = t.reshape(1, t.size)\n",
        "        y = y.reshape(1, y.size)\n",
        "        \n",
        "    # 教師データがone-hot-vectorの場合、正解ラベルのインデックスに変換\n",
        "    if t.size == y.size:\n",
        "        t = t.argmax(axis=1)\n",
        "             \n",
        "    batch_size = y.shape[0]\n",
        "    return -np.sum(np.log(y[np.arange(batch_size), t] + 1e-7)) / batch_size"
      ],
      "execution_count": 6,
      "outputs": []
    },
    {
      "cell_type": "code",
      "metadata": {
        "id": "9W1s_dFo9ZNl"
      },
      "source": [
        "class Relu:\n",
        "    def __init__(self):\n",
        "        self.mask = None\n",
        "\n",
        "    def forward(self, x):\n",
        "        self.mask = (x <= 0)\n",
        "        out = x.copy()\n",
        "        out[self.mask] = 0\n",
        "\n",
        "        return out\n",
        "\n",
        "    def backward(self, dout):\n",
        "        dout[self.mask] = 0\n",
        "        dx = dout\n",
        "\n",
        "        return dx\n",
        "\n",
        "class Affine:\n",
        "    def __init__(self, input_size, output_size):\n",
        "        self.W = 0.01 * np.random.randn(input_size, output_size)\n",
        "        self.b = np.zeros(output_size)\n",
        "        \n",
        "        self.x = None\n",
        "        self.original_x_shape = None\n",
        "        # 重み・バイアスパラメータの微分\n",
        "        self.dW = None\n",
        "        self.db = None\n",
        "\n",
        "    def forward(self, x):\n",
        "        # テンソル対応\n",
        "        self.original_x_shape = x.shape\n",
        "        x = x.reshape(x.shape[0], -1)\n",
        "        self.x = x\n",
        "\n",
        "        out = np.dot(self.x, self.W) + self.b\n",
        "\n",
        "        return out\n",
        "\n",
        "    def backward(self, dout):\n",
        "        dx = np.dot(dout, self.W.T)\n",
        "        self.dW = np.dot(self.x.T, dout)\n",
        "        self.db = np.sum(dout, axis=0)\n",
        "        \n",
        "        dx = dx.reshape(*self.original_x_shape)  # 入力データの形状に戻す（テンソル対応）\n",
        "        return dx\n",
        "\n",
        "class SoftmaxWithLoss:\n",
        "    def __init__(self):\n",
        "        self.loss = None\n",
        "        self.y = None # softmaxの出力\n",
        "        self.t = None # 教師データ\n",
        "\n",
        "    def forward(self, x, t):\n",
        "        self.t = t\n",
        "        self.y = softmax(x)\n",
        "        self.loss = cross_entropy_error(self.y, self.t)\n",
        "        \n",
        "        return self.loss\n",
        "\n",
        "    def backward(self, dout=1):\n",
        "        batch_size = self.t.shape[0]\n",
        "        if self.t.size == self.y.size: # 教師データがone-hot-vectorの場合\n",
        "            dx = (self.y - self.t) / batch_size\n",
        "        else:\n",
        "            dx = self.y.copy()\n",
        "            dx[np.arange(batch_size), self.t] -= 1\n",
        "            dx = dx / batch_size\n",
        "        \n",
        "        return dx"
      ],
      "execution_count": 7,
      "outputs": []
    },
    {
      "cell_type": "markdown",
      "metadata": {
        "id": "0uRiZZchjnkt"
      },
      "source": [
        "## im2col, col2im\n",
        "画像データに対する畳み込みなどの演算を行列積として実装するため、四次元配列である画像を二次元配列へと変換する関数`im2col`、逆伝播用の逆変換`col2im`を実装します。\n",
        "\n",
        "1. <font color=\"Red\">画像データを二次元配列へと変換する関数`im2col`を完成させてください。</font>\n",
        "\n",
        "画像データにフィルタをそのまま適用してしまうと計算に時間がかかることが知られています。(numpyは行列計算が高速にできるようになっており、逆にfor文には時間がかかるため。)そこで、今回はこの処理を行列演算で行っていきます。<br>\n",
        "im2colの手順としては<br>\n",
        "　- 高次元配列を二次元配列に変換する。(①フィルタの行列変換、②画像データの行列変換)<br>\n",
        "　- 行列積を求める。<br>\n",
        "　- 行列を高次元配列に変換する。<br>\n",
        "となります。\n",
        "\n",
        "<img src=\"im2col_outline.png\">\n"
      ]
    },
    {
      "cell_type": "markdown",
      "metadata": {
        "id": "5U8l2-74jnku"
      },
      "source": [
        "### ①フィルタの行列変換\n",
        "画像データだけではなく、フィルタのデータも多次元です。im2colを考える前に、このフィルタをどのように行列化するかを考えていきます。\n",
        "\n",
        "まずは配列の表記にして考えてみましょう。ここでは元々のフィルタをfilter_org(FN, C, FH, FW)と記載することとします。\n",
        "フィルタの数がFN個あり、これらを画像データ群に適用させる必要があります。\n",
        "画像データの配列と行列積を行うためには、縦方向に「一つのフィルタの情報」を格納し、そのフィルタ情報を横に並べる形をとります。\n",
        "行列の縦方向は「フィルタのデータ（C×FH×FW）」が入ります。フィルタの行列としてはfilter_col(C×FH×FW, FN)となります。<br>\n",
        "また、よくある間違い例として<font color=\"Red\">filter_org(FN, C, FH, FW)から変換せずに、いきなりreshapeを行ってしまう</font>という例があります。<br>\n",
        "numpy.reshapeは先頭からデータを取ってくるので、filter_org(FN, C, FH, FW)はFN→C→FH→FWの順番でデータを取ってきます。しかし、filter_col(C×FH×FW, FN)の順番はC→FH→FW→FNとなっているため、これでは上手くいきません。あらかじめfilter_org(FN, C, FH, FW)をfilter_org(C, FH, FW, FN)に変換する必要があります。\n",
        "<img src=\"im2col_filter.png\">"
      ]
    },
    {
      "cell_type": "markdown",
      "metadata": {
        "id": "DwEr2wQXjnku"
      },
      "source": [
        "### ②画像データの行列変換\n",
        "続いてどのようなサイズの行列にすべきかを考えます。\n",
        "フィルタのサイズはfilter_col(C×FH×FW, FN)です。行列変換後の画像ファイルをim_colとすると、im_colとfilter_colとの行列積を求めるためには、im_colの列のサイズはfilter_colの行のサイズと同じにする必要があります。つまり、C×FH×FWです。\n",
        "<img src=\"im2col_image.png\">"
      ]
    },
    {
      "cell_type": "markdown",
      "metadata": {
        "id": "kpCHu_tCjnkv"
      },
      "source": [
        "次に、im_colの縦方向にはどのような値を入れるのかを考えます。<br>\n",
        "filter_colの行列積を取ることを考えると、1列目にはフィルタ\"0\"が掛け合わされます。2列目にはフィルタ\"1”、3列目は、・・・・というふうにつながります。\n",
        "<img src=\"im2col_stride.png\">"
      ]
    },
    {
      "cell_type": "markdown",
      "metadata": {
        "id": "Y_sueL0bjnkv"
      },
      "source": [
        "ここでOHは出力データの高さ、OWは出力データの幅だったので、値の個数は（N×OH×OW）となります。<br>\n",
        "Nは画像データの数です。OH,OWですが、これは畳み込み後のデータサイズを表します。<br>\n",
        "結論として、画像データの変換後サイズは　im_col(N×OH×W, C×FH×FW) となります。<br>\n",
        "im2colの説明は以上です。それでは実際にim2colを実装していきましょう。<br>\n",
        "<img src=\"im2col.png\">"
      ]
    },
    {
      "cell_type": "code",
      "metadata": {
        "id": "uC8g2Hqi9ZNq"
      },
      "source": [
        "def im2col(input_data, filter_h, filter_w, stride=1, pad=0):\n",
        "    N, C, H, W = input_data.shape\n",
        "    \n",
        "    # カーネルを適用した際、出力の画像サイズがどうなるかを計算\n",
        "    out_h = (H + 2*pad - filter_h)//stride + 1 #### 問1-1 ####\n",
        "    out_w = (W + 2*pad - filter_w)//stride + 1 #### 問1-2 ####\n",
        "\n",
        "    \n",
        "    img = np.pad(input_data, [(0,0), (0,0), (pad, pad), (pad, pad)], 'constant') #### 問1-3 ####\n",
        "    col = np.zeros((N, C, filter_h, filter_w, out_h, out_w))\n",
        "\n",
        "    for y in range(filter_h):\n",
        "        y_max = y + stride*out_h\n",
        "        for x in range(filter_w):\n",
        "            x_max = x + stride*out_w\n",
        "            col[:, :, y, x, :, :] = img[:, :, y:y_max:stride, x:x_max:stride] #### 問1-4 ####\n",
        "\n",
        "    col = col.transpose(0, 4, 5, 1, 2, 3).reshape(N*out_h*out_w, -1)\n",
        "    return col"
      ],
      "execution_count": 8,
      "outputs": []
    },
    {
      "cell_type": "markdown",
      "metadata": {
        "id": "dPbBQX1Z9ZNs"
      },
      "source": [
        "### 確認用セル\n",
        "以下のセルを実行して`im2col`の実装が正しいか確認してください。"
      ]
    },
    {
      "cell_type": "code",
      "metadata": {
        "id": "vTX5AdEr9ZNt"
      },
      "source": [
        "dummy_imgs = np.arange(135).reshape(5,3,3,3)\n",
        "dummy_kernels = np.arange(48).reshape(4,3,2,2)\n",
        "dummy_conv = np.dot(im2col(dummy_imgs, 2,2, pad=1), dummy_kernels.reshape(4,12).T)"
      ],
      "execution_count": 9,
      "outputs": []
    },
    {
      "cell_type": "code",
      "metadata": {
        "id": "40BFveAk9ZNv",
        "scrolled": true,
        "outputId": "5bcaff64-caeb-4a8a-f593-3326a2c45380",
        "colab": {
          "base_uri": "https://localhost:8080/"
        }
      },
      "source": [
        "ans = np.array([[  261.,   585.,   909.,  1233.],\n",
        "       [  516.,  1200.,  1884.,  2568.],\n",
        "       [  555.,  1311.,  2067.,  2823.],\n",
        "       [  270.,   666.,  1062.,  1458.],\n",
        "       [  531.,  1287.,  2043.,  2799.],\n",
        "       [ 1035.,  2619.,  4203.,  5787.],\n",
        "       [ 1101.,  2829.,  4557.,  6285.],\n",
        "       [  528.,  1428.,  2328.,  3228.],\n",
        "       [  639.,  1611.,  2583.,  3555.],\n",
        "       [ 1233.,  3249.,  5265.,  7281.],\n",
        "       [ 1299.,  3459.,  5619.,  7779.],\n",
        "       [  618.,  1734.,  2850.,  3966.],\n",
        "       [  297.,   837.,  1377.,  1917.],\n",
        "       [  564.,  1680.,  2796.,  3912.],\n",
        "       [  591.,  1779.,  2967.,  4155.],\n",
        "       [  276.,   888.,  1500.,  2112.],\n",
        "       [  828.,  2124.,  3420.,  4716.],\n",
        "       [ 1569.,  4197.,  6825.,  9453.],\n",
        "       [ 1608.,  4308.,  7008.,  9708.],\n",
        "       [  756.,  2124.,  3492.,  4860.],\n",
        "       [ 1503.,  4203.,  6903.,  9603.],\n",
        "       [ 2817.,  8289., 13761., 19233.],\n",
        "       [ 2883.,  8499., 14115., 19731.],\n",
        "       [ 1338.,  4182.,  7026.,  9870.],\n",
        "       [ 1611.,  4527.,  7443., 10359.],\n",
        "       [ 3015.,  8919., 14823., 20727.],\n",
        "       [ 3081.,  9129., 15177., 21225.],\n",
        "       [ 1428.,  4488.,  7548., 10608.],\n",
        "       [  702.,  2214.,  3726.,  5238.],\n",
        "       [ 1293.,  4353.,  7413., 10473.],\n",
        "       [ 1320.,  4452.,  7584., 10716.],\n",
        "       [  600.,  2184.,  3768.,  5352.],\n",
        "       [ 1395.,  3663.,  5931.,  8199.],\n",
        "       [ 2622.,  7194., 11766., 16338.],\n",
        "       [ 2661.,  7305., 11949., 16593.],\n",
        "       [ 1242.,  3582.,  5922.,  8262.],\n",
        "       [ 2475.,  7119., 11763., 16407.],\n",
        "       [ 4599., 13959., 23319., 32679.],\n",
        "       [ 4665., 14169., 23673., 33177.],\n",
        "       [ 2148.,  6936., 11724., 16512.],\n",
        "       [ 2583.,  7443., 12303., 17163.],\n",
        "       [ 4797., 14589., 24381., 34173.],\n",
        "       [ 4863., 14799., 24735., 34671.],\n",
        "       [ 2238.,  7242., 12246., 17250.],\n",
        "       [ 1107.,  3591.,  6075.,  8559.],\n",
        "       [ 2022.,  7026., 12030., 17034.],\n",
        "       [ 2049.,  7125., 12201., 17277.],\n",
        "       [  924.,  3480.,  6036.,  8592.],\n",
        "       [ 1962.,  5202.,  8442., 11682.],\n",
        "       [ 3675., 10191., 16707., 23223.],\n",
        "       [ 3714., 10302., 16890., 23478.],\n",
        "       [ 1728.,  5040.,  8352., 11664.],\n",
        "       [ 3447., 10035., 16623., 23211.],\n",
        "       [ 6381., 19629., 32877., 46125.],\n",
        "       [ 6447., 19839., 33231., 46623.],\n",
        "       [ 2958.,  9690., 16422., 23154.],\n",
        "       [ 3555., 10359., 17163., 23967.],\n",
        "       [ 6579., 20259., 33939., 47619.],\n",
        "       [ 6645., 20469., 34293., 48117.],\n",
        "       [ 3048.,  9996., 16944., 23892.],\n",
        "       [ 1512.,  4968.,  8424., 11880.],\n",
        "       [ 2751.,  9699., 16647., 23595.],\n",
        "       [ 2778.,  9798., 16818., 23838.],\n",
        "       [ 1248.,  4776.,  8304., 11832.],\n",
        "       [ 2529.,  6741., 10953., 15165.],\n",
        "       [ 4728., 13188., 21648., 30108.],\n",
        "       [ 4767., 13299., 21831., 30363.],\n",
        "       [ 2214.,  6498., 10782., 15066.],\n",
        "       [ 4419., 12951., 21483., 30015.],\n",
        "       [ 8163., 25299., 42435., 59571.],\n",
        "       [ 8229., 25509., 42789., 60069.],\n",
        "       [ 3768., 12444., 21120., 29796.],\n",
        "       [ 4527., 13275., 22023., 30771.],\n",
        "       [ 8361., 25929., 43497., 61065.],\n",
        "       [ 8427., 26139., 43851., 61563.],\n",
        "       [ 3858., 12750., 21642., 30534.],\n",
        "       [ 1917.,  6345., 10773., 15201.],\n",
        "       [ 3480., 12372., 21264., 30156.],\n",
        "       [ 3507., 12471., 21435., 30399.],\n",
        "       [ 1572.,  6072., 10572., 15072.]])\n",
        "\n",
        "if (dummy_conv == ans).all():\n",
        "    print(\"im2col の実装に問題はありません。先に進んでください。\")\n",
        "else:\n",
        "    print(\"im2col の実装に問題があります。解き直してください。\")"
      ],
      "execution_count": 10,
      "outputs": [
        {
          "output_type": "stream",
          "text": [
            "im2col の実装に問題はありません。先に進んでください。\n"
          ],
          "name": "stdout"
        }
      ]
    },
    {
      "cell_type": "markdown",
      "metadata": {
        "id": "JOUX8gs39ZNy"
      },
      "source": [
        "2. <font color=\"Red\">二次元配列での勾配を四次元配列の画像データでの勾配へと変換する関数`col2im`を完成させてください。</font>\n",
        "\n",
        " - `col2im` の実装問題は、問1の解答と同じコードで問題ありません。 "
      ]
    },
    {
      "cell_type": "code",
      "metadata": {
        "id": "c0REDW0O9ZNy"
      },
      "source": [
        "def col2im(col, input_shape, filter_h, filter_w, stride=1, pad=0):\n",
        "\n",
        "    N, C, H, W = input_shape\n",
        "    out_h = (H + 2*pad - filter_h)//stride + 1 #### 問2-1 ####\n",
        "    out_w = (W + 2*pad - filter_w)//stride + 1 #### 問2-2 ####\n",
        "    col = col.reshape(N, out_h, out_w, C, filter_h, filter_w).transpose(0, 3, 4, 5, 1, 2)\n",
        "\n",
        "    img = np.zeros((N, C, H + 2*pad + stride - 1, W + 2*pad + stride - 1))\n",
        "    for y in range(filter_h):\n",
        "        y_max = y + stride*out_h\n",
        "        for x in range(filter_w):\n",
        "            x_max = x + stride*out_w\n",
        "            img[:, :, y:y_max:stride, x:x_max:stride] += col[:, :, y, x, :, :]\n",
        "\n",
        "    return img[:, :, pad:H + pad, pad:W + pad]"
      ],
      "execution_count": 11,
      "outputs": []
    },
    {
      "cell_type": "markdown",
      "metadata": {
        "id": "XIOspJ7A9ZN2"
      },
      "source": [
        "## Convolution\n",
        "3. <font color=\"Red\">作成した`im2col`, `col2im`を使用し、畳み込み層 `convolution` を完成させてください。</font>"
      ]
    },
    {
      "cell_type": "code",
      "metadata": {
        "id": "EXnCadPL9ZN2"
      },
      "source": [
        "class Convolution:\n",
        "    def __init__(self, input_channel, output_channel, kernel_h=5, kernel_w=5, stride=1, pad=0):\n",
        "        self.W = 0.01 * np.random.randn(output_channel, input_channel, kernel_h, kernel_w)\n",
        "        self.b = np.zeros(output_channel)\n",
        "        self.stride = stride\n",
        "        self.pad = pad\n",
        "        \n",
        "        # 中間データ（backward時に使用）\n",
        "        self.x = None   \n",
        "        self.col = None\n",
        "        self.col_W = None\n",
        "        \n",
        "        # 重み・バイアスパラメータの勾配\n",
        "        self.dW = None\n",
        "        self.db = None\n",
        "\n",
        "    def forward(self, x):\n",
        "        FN, C, FH, FW = self.W.shape\n",
        "        N, C, H, W = x.shape\n",
        "\n",
        "        out_h = int(1 + (H + 2*self.pad - FH) / self.stride)\n",
        "        out_w = int(1 + (W + 2*self.pad - FW) / self.stride)\n",
        "        \n",
        "        col = im2col(x, FH, FW, self.stride, self.pad)\n",
        "        col_W = self.W.reshape(FN, -1).T \n",
        "\n",
        "        out = np.dot(col, col_W) + self.b \n",
        "        out = out.reshape(N, out_h, out_w, -1).transpose(0, 3, 1, 2)\n",
        "\n",
        "        self.x = x\n",
        "        self.col = col\n",
        "        self.col_W = col_W\n",
        "\n",
        "        return out\n",
        "\n",
        "    def backward(self, dout):\n",
        "        FN, C, FH, FW = self.W.shape\n",
        "        dout = dout.transpose(0,2,3,1).reshape(-1, FN)\n",
        "\n",
        "        self.db = np.sum(dout, axis=0)\n",
        "        self.dW = np.dot(self.col.T, dout)\n",
        "        self.dW = self.dW.transpose(1, 0).reshape(FN, C, FH, FW)\n",
        "\n",
        "        dcol = np.dot(dout, self.col_W.T)\n",
        "        dx = col2im(dcol, self.x.shape, FH, FW, self.stride, self.pad)\n",
        "\n",
        "        return dx"
      ],
      "execution_count": 12,
      "outputs": []
    },
    {
      "cell_type": "markdown",
      "metadata": {
        "id": "DjFVA67d9ZN5"
      },
      "source": [
        "## Pooling の実装\n",
        "4. <font color=\"Red\">作成した`im2col`, `col2im`を使用し、畳み込み層 `pooling` を完成させてください。</font>"
      ]
    },
    {
      "cell_type": "code",
      "metadata": {
        "id": "NCj4PSVA9ZN5"
      },
      "source": [
        "class Pooling:\n",
        "    def __init__(self, pool_h, pool_w, stride=1, pad=0):\n",
        "        self.pool_h = pool_h\n",
        "        self.pool_w = pool_w\n",
        "        self.stride = stride\n",
        "        self.pad = pad\n",
        "        \n",
        "        self.x = None\n",
        "        self.arg_max = None\n",
        "\n",
        "    def forward(self, x):\n",
        "        N, C, H, W = x.shape\n",
        "        out_h = int(1 + (H - self.pool_h) / self.stride)\n",
        "        out_w = int(1 + (W - self.pool_w) / self.stride) \n",
        "\n",
        "        col = im2col(x, self.pool_h, self.pool_w, self.stride, self.pad)\n",
        "        col = col.reshape(-1, self.pool_h*self.pool_w)\n",
        "\n",
        "        arg_max = np.argmax(col, axis=1)\n",
        "        out = np.max(col, axis=1)\n",
        "        out = out.reshape(N, out_h, out_w, C).transpose(0, 3, 1, 2)\n",
        "\n",
        "        self.x = x\n",
        "        self.arg_max = arg_max\n",
        "\n",
        "        return out\n",
        "\n",
        "    def backward(self, dout):\n",
        "        dout = dout.transpose(0, 2, 3, 1)\n",
        "        \n",
        "        pool_size = self.pool_h * self.pool_w\n",
        "        dmax = np.zeros((dout.size, pool_size))\n",
        "        dmax[np.arange(self.arg_max.size), self.arg_max.flatten()] = dout.flatten()\n",
        "        dmax = dmax.reshape(dout.shape + (pool_size,)) \n",
        "        \n",
        "        dcol = dmax.reshape(dmax.shape[0] * dmax.shape[1] * dmax.shape[2], -1)\n",
        "        dx = col2im(dcol, self.x.shape, self.pool_h, self.pool_w, self.stride, self.pad)\n",
        "        \n",
        "        return dx"
      ],
      "execution_count": 17,
      "outputs": []
    },
    {
      "cell_type": "markdown",
      "metadata": {
        "id": "3OXFMOWI9ZN8"
      },
      "source": [
        "## ネットワーク定義"
      ]
    },
    {
      "cell_type": "code",
      "metadata": {
        "id": "-EqrOTrF9ZN9"
      },
      "source": [
        "class SimpleConvNet:\n",
        "    def __init__(self, input_dim=(1, 28, 28), output_size=10, weight_init_std=0.01):\n",
        " \n",
        "        # レイヤの生成\n",
        "        self.layers = OrderedDict()\n",
        "        self.layers['Conv1'] = Convolution(1,10,5,5)\n",
        "        self.layers['Relu1'] = Relu()\n",
        "        self.layers['Pool1'] = Pooling(pool_h=2, pool_w=2, stride=2)\n",
        "        self.layers['Conv2'] =Convolution(10,10,5,5)\n",
        "        self.layers['Relu2'] = Relu()\n",
        "        self.layers['Affine'] = Affine(640, 10)\n",
        "\n",
        "        self.last_layer = SoftmaxWithLoss()\n",
        "        \n",
        "        # 重みの初期化\n",
        "        self.params = {}\n",
        "        self.params['W1'] = self.layers['Conv1'].W\n",
        "        self.params['b1'] = self.layers['Conv1'].b\n",
        "        self.params['W2'] = self.layers['Conv2'].W\n",
        "        self.params['b2'] = self.layers['Conv2'].b\n",
        "        self.params['W3'] = self.layers['Affine'].W\n",
        "        self.params['b3'] = self.layers['Affine'].b\n",
        "\n",
        "\n",
        "    def forward(self, x):\n",
        "        for layer in self.layers.values():\n",
        "            x = layer.forward(x)\n",
        "\n",
        "        return x\n",
        "\n",
        "    def loss(self, x, t):\n",
        "        \"\"\"損失関数を求める\n",
        "        引数のxは入力データ、tは教師ラベル\n",
        "        \"\"\"\n",
        "        y = self.forward(x)\n",
        "        return self.last_layer.forward(y, t)\n",
        "\n",
        "    def backward(self, x, t):\n",
        "        \"\"\"勾配を求める（誤差逆伝搬法）\n",
        "        Parameters\n",
        "        ----------\n",
        "        x : 入力データ\n",
        "        t : 教師ラベル\n",
        "        Returns\n",
        "        -------\n",
        "        各層の勾配を持ったディクショナリ変数\n",
        "            grads['W1']、grads['W2']、...は各層の重み\n",
        "            grads['b1']、grads['b2']、...は各層のバイアス\n",
        "        \"\"\"\n",
        "        # forward\n",
        "        self.loss(x, t)\n",
        "\n",
        "        # backward\n",
        "        dout = 1\n",
        "        dout = self.last_layer.backward(dout)\n",
        "\n",
        "        layers = list(self.layers.values())\n",
        "        layers.reverse()\n",
        "        for layer in layers:\n",
        "            dout = layer.backward(dout)\n",
        "\n",
        "        # 設定\n",
        "        grads = {}\n",
        "        grads['W1'], grads['b1'] = self.layers['Conv1'].dW, self.layers['Conv1'].db\n",
        "        grads['W2'], grads['b2'] = self.layers['Conv2'].dW, self.layers['Conv2'].db\n",
        "        grads['W3'], grads['b3'] = self.layers['Affine'].dW, self.layers['Affine'].db\n",
        "\n",
        "        return grads"
      ],
      "execution_count": 18,
      "outputs": []
    },
    {
      "cell_type": "markdown",
      "metadata": {
        "id": "cK_pWJKX9ZN_"
      },
      "source": [
        "## 学習\n",
        "5エポックで精度が95%以上になっていれば学習成功です。\n",
        "\n",
        "convolution や pooling はGPUでは高速ですが、CPUで実行した場合は非常に実行時間がかかるため、学習セルの実行には時間を要します。10~15分ほど要しますので、ご注意ください。"
      ]
    },
    {
      "cell_type": "code",
      "metadata": {
        "id": "9UTjOeJa9ZN_",
        "scrolled": true
      },
      "source": [
        "network = SimpleConvNet(input_dim=(1,28,28),  output_size=10, weight_init_std=0.01)"
      ],
      "execution_count": 19,
      "outputs": []
    },
    {
      "cell_type": "code",
      "metadata": {
        "id": "AhHUsZiy9ZOC"
      },
      "source": [
        "class SGD:\n",
        "    def __init__(self, lr=0.01):\n",
        "        self.lr = lr\n",
        "        \n",
        "    def update(self, params, grads):\n",
        "        for key in params.keys():\n",
        "            params[key] -= self.lr * grads[key] "
      ],
      "execution_count": 20,
      "outputs": []
    },
    {
      "cell_type": "code",
      "metadata": {
        "id": "15ljjE649ZOE"
      },
      "source": [
        "acc_list = []\n",
        "sgd = SGD(lr = 0.01)\n",
        "batch_size = 256"
      ],
      "execution_count": 21,
      "outputs": []
    },
    {
      "cell_type": "code",
      "metadata": {
        "id": "PrThWzz09ZOG",
        "scrolled": true,
        "outputId": "64dabb0e-4301-4bc7-e7e1-bbb48bbdd3ec",
        "colab": {
          "base_uri": "https://localhost:8080/"
        }
      },
      "source": [
        "for epoch in range(5):\n",
        "    perm = np.random.permutation(len(x_train))\n",
        "    for idx in np.arange(0, len(perm), batch_size):\n",
        "        x = x_train[perm[idx:idx+batch_size]]\n",
        "        t =  t_train[perm[idx:idx+batch_size]]\n",
        "\n",
        "        grads = network.backward(x, t)\n",
        "        sgd.update(network.params,grads)\n",
        "    y_test = network.forward(x_test)\n",
        "    acc_list.append((y_test.argmax(axis=1) == t_test.argmax(axis=1)).mean())\n",
        "\n",
        "    print(f'EPOCH {epoch + 1} | ACCURACY {acc_list[-1]:.2%}')"
      ],
      "execution_count": 22,
      "outputs": [
        {
          "output_type": "stream",
          "text": [
            "EPOCH 1 | ACCURACY 93.19%\n",
            "EPOCH 2 | ACCURACY 95.38%\n",
            "EPOCH 3 | ACCURACY 96.33%\n",
            "EPOCH 4 | ACCURACY 97.40%\n",
            "EPOCH 5 | ACCURACY 96.79%\n"
          ],
          "name": "stdout"
        }
      ]
    },
    {
      "cell_type": "code",
      "metadata": {
        "id": "iX3l3EX29ZOJ"
      },
      "source": [
        ""
      ],
      "execution_count": null,
      "outputs": []
    }
  ]
}