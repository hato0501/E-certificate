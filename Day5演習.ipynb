{
  "nbformat": 4,
  "nbformat_minor": 0,
  "metadata": {
    "accelerator": "GPU",
    "colab": {
      "name": "Day5演習.ipynb",
      "provenance": [],
      "collapsed_sections": [],
      "include_colab_link": true
    },
    "kernelspec": {
      "display_name": "Python 3",
      "language": "python",
      "name": "python3"
    },
    "language_info": {
      "codemirror_mode": {
        "name": "ipython",
        "version": 3
      },
      "file_extension": ".py",
      "mimetype": "text/x-python",
      "name": "python",
      "nbconvert_exporter": "python",
      "pygments_lexer": "ipython3",
      "version": "3.7.6"
    },
    "latex_envs": {
      "LaTeX_envs_menu_present": true,
      "autoclose": false,
      "autocomplete": true,
      "bibliofile": "biblio.bib",
      "cite_by": "apalike",
      "current_citInitial": 1,
      "eqLabelWithNumbers": true,
      "eqNumInitial": 1,
      "hotkeys": {
        "equation": "Ctrl-E",
        "itemize": "Ctrl-I"
      },
      "labels_anchors": false,
      "latex_user_defs": false,
      "report_style_numbering": false,
      "user_envs_cfg": false
    }
  },
  "cells": [
    {
      "cell_type": "markdown",
      "metadata": {
        "id": "view-in-github",
        "colab_type": "text"
      },
      "source": [
        "<a href=\"https://colab.research.google.com/github/hato0501/E-certificate/blob/main/Day5%E6%BC%94%E7%BF%92.ipynb\" target=\"_parent\"><img src=\"https://colab.research.google.com/assets/colab-badge.svg\" alt=\"Open In Colab\"/></a>"
      ]
    },
    {
      "cell_type": "markdown",
      "metadata": {
        "id": "LEQEe0luCvEj"
      },
      "source": [
        "# 【全人類がわかるE資格コース】コーディング演習Day5\n",
        "\n",
        "## 概要\n",
        "\n",
        "本演習では自然言語処理に代表される系列データを扱うためのネットワークであるRNNやその派生ネットワークによる学習を穴埋め形式で実装します。なお、予め用意されたコードはそのまま使用し、指示された穴埋め部を編集してください。\n",
        "演習問題文は<font color=\"Red\">赤字</font>です。このファイルは必ず最後までコードをすべて実行し、「最後までコードが実行可能」・「学習結果の出力がある」・「学習が成功している」の３つを満たした状態で提出してください。\n",
        "\n",
        "所要時間：3~8時間"
      ]
    },
    {
      "cell_type": "markdown",
      "metadata": {
        "id": "Sm7ZvF2SCvEk"
      },
      "source": [
        "### ライブラリのインポート\n",
        "\n",
        "必要なライブラリをインポートします。エラーになる場合は該当するものをインストールしてください。"
      ]
    },
    {
      "cell_type": "code",
      "metadata": {
        "id": "c-thDJ_VCvEl"
      },
      "source": [
        "import numpy as np\n",
        "import matplotlib.pyplot as plt\n",
        "# 乱数シードを指定\n",
        "np.random.seed(seed=0)"
      ],
      "execution_count": 1,
      "outputs": []
    },
    {
      "cell_type": "markdown",
      "metadata": {
        "id": "h2zc3aStCvEn"
      },
      "source": [
        "## 基本的関数、アルゴリズムの実装\n",
        "\n",
        "- SGD\n",
        "- Adam\n",
        "- sigmoid\n",
        "- softmax\n",
        "- clip_grads\n",
        "    勾配クリッピング用の関数。実装自体は単純なので省略。"
      ]
    },
    {
      "cell_type": "code",
      "metadata": {
        "id": "_dM-1Xrc-Aye"
      },
      "source": [
        "class Affine:\n",
        "    def __init__(self, W, b):\n",
        "        self.params = [W, b]\n",
        "        self.grads = [np.zeros_like(W), np.zeros_like(b)]\n",
        "        self.x = None\n",
        "\n",
        "    def forward(self, x):\n",
        "        N, D = x.shape\n",
        "        W, b = self.params\n",
        "\n",
        "        out = np.dot(x, W) + b\n",
        "        self.x = x\n",
        "        return out\n",
        "\n",
        "    def backward(self, dout):\n",
        "        x = self.x\n",
        "        N, D = x.shape\n",
        "        W, b = self.params\n",
        "\n",
        "        db = np.sum(dout, axis=0)\n",
        "        dW = np.dot(x.T, dout)\n",
        "        dx = np.dot(dout, W.T)\n",
        "\n",
        "        self.grads[0][...] = dW\n",
        "        self.grads[1][...] = db\n",
        "\n",
        "        return dx"
      ],
      "execution_count": 2,
      "outputs": []
    },
    {
      "cell_type": "code",
      "metadata": {
        "id": "RCuXbNbACvEo"
      },
      "source": [
        "class SGD:\n",
        "    def __init__(self, lr=0.01):\n",
        "        self.lr = lr\n",
        "        \n",
        "    def update(self, params, grads):\n",
        "        for i in range(len(params)):\n",
        "            params[i] -= self.lr * grads[i]\n",
        "            \n",
        "class Adam:\n",
        "    def __init__(self, lr=0.001, beta1=0.9, beta2=0.999):\n",
        "        self.lr = lr\n",
        "        self.beta1 = beta1\n",
        "        self.beta2 = beta2\n",
        "        self.iter = 0\n",
        "        self.m = None\n",
        "        self.v = None\n",
        "        \n",
        "    def update(self, params, grads):\n",
        "        if self.m is None:\n",
        "            self.m, self.v = [], []\n",
        "            for param in params:\n",
        "                self.m.append(np.zeros_like(param))\n",
        "                self.v.append(np.zeros_like(param))\n",
        "        \n",
        "        self.iter += 1\n",
        "        lr_t = self.lr * np.sqrt(1.0 - self.beta2**self.iter) / (1.0 - self.beta1**self.iter)\n",
        "\n",
        "        for i in range(len(params)):\n",
        "            self.m[i] += (1 - self.beta1) * (grads[i] - self.m[i])\n",
        "            self.v[i] += (1 - self.beta2) * (grads[i]**2 - self.v[i])\n",
        "            \n",
        "            params[i] -= lr_t * self.m[i] / (np.sqrt(self.v[i]) + 1e-7)"
      ],
      "execution_count": 3,
      "outputs": []
    },
    {
      "cell_type": "code",
      "metadata": {
        "id": "v-iaf2EbCvEp"
      },
      "source": [
        "def sigmoid(x):\n",
        "    return 1 / (1 + np.exp(-x))\n",
        "\n",
        "def softmax(x):\n",
        "    if x.ndim == 2:\n",
        "        x = x - x.max(axis=1, keepdims=True)\n",
        "        x = np.exp(x)\n",
        "        x /= x.sum(axis=1, keepdims=True)\n",
        "    elif x.ndim == 1:\n",
        "        x = x - np.max(x)\n",
        "        x = np.exp(x) / np.sum(np.exp(x))\n",
        "\n",
        "    return x"
      ],
      "execution_count": 4,
      "outputs": []
    },
    {
      "cell_type": "code",
      "metadata": {
        "id": "OQF7Uc98CvFM"
      },
      "source": [
        "def clip_grads(grads, max_norm):\n",
        "    total_norm = 0\n",
        "    for grad in grads:\n",
        "        total_norm += np.sum(grad ** 2)\n",
        "    total_norm = np.sqrt(total_norm)\n",
        "\n",
        "    rate = max_norm / (total_norm + 1e-6)\n",
        "    if rate < 1:\n",
        "        for grad in grads:\n",
        "            grad *= rate"
      ],
      "execution_count": 5,
      "outputs": []
    },
    {
      "cell_type": "markdown",
      "metadata": {
        "id": "icm4E44X-Ayo"
      },
      "source": [
        "## 自然言語処理用のレイヤークラス定義\n",
        "### Embedding クラス\n",
        "- 自然言語処理において、単語をベクトル（分散表現）に変換する前処理(Embeddingと言われる)が必須となる。\n",
        "- Embeddingクラスは入力されてきた単語列をべクトルに変換する。\n",
        "- 単語はID化されているため、一つのデータ（文章）は`[3,0,4,1]`のようになっている。"
      ]
    },
    {
      "cell_type": "markdown",
      "metadata": {
        "id": "sg0VFsMT-Ayp"
      },
      "source": [
        "例えば\n",
        "\n",
        "単語 0 を `[0.5, 1.2]`\n",
        "\n",
        "単語 1 を`[-1.4, 0.7]`\n",
        "\n",
        "単語 2 を` [2.5, -0.9]`\n",
        "\n",
        "単語 3 を`[5.6, 9.8]`\n",
        "\n",
        "単語 4 を`[-2.3, -0.8]`\n",
        "\n",
        "に変換するようなEmbed 層を用意する場合、\n",
        "\n",
        "$\n",
        "\\begin{pmatrix}\n",
        "0.5 & 1.2 \\\\\n",
        "-1.4 & 0.7 \\\\\n",
        "2.5 & -0.9 \\\\\n",
        "5.6 & 9.8 \\\\\n",
        "-2.3 & -0.8 \\\\\n",
        "\\end{pmatrix}\n",
        "$\n",
        "\n",
        "のような変換行列を用意し、入力の単語IDをindexとして各単語を変換してやれば良い。"
      ]
    },
    {
      "cell_type": "code",
      "metadata": {
        "id": "zemct8OW-Ayq"
      },
      "source": [
        "class Embedding:\n",
        "    def __init__(self, W):\n",
        "        self.params = [W]\n",
        "        self.grads = [np.zeros_like(W)]\n",
        "        self.idx = None\n",
        "\n",
        "    def forward(self, idx):\n",
        "        W, = self.params\n",
        "        self.idx = idx\n",
        "        out = W[idx]\n",
        "        return out\n",
        "\n",
        "    def backward(self, dout):\n",
        "        dW, = self.grads\n",
        "        dW[...] = 0\n",
        "        np.add.at(dW, self.idx, dout)\n",
        "        return None"
      ],
      "execution_count": 6,
      "outputs": []
    },
    {
      "cell_type": "markdown",
      "metadata": {
        "id": "XBqVDDVq-Ayt"
      },
      "source": [
        "逆伝播については、変換行列に対して、入力時の単語に相当する箇所に伝播してきた勾配を足し合わせてやれば良いため、`np.add.at` を使用すれば良い。\n",
        "\n",
        "`np.add.at(dW, self.idx, dout)` によって、`dW[self.idx]`に対して`dout`が加えられる。"
      ]
    },
    {
      "cell_type": "code",
      "metadata": {
        "id": "LdNoWAOa-Ayu",
        "scrolled": true,
        "colab": {
          "base_uri": "https://localhost:8080/"
        },
        "outputId": "509974de-a7b2-4f08-b087-da0a27cd1f4c"
      },
      "source": [
        "w = np.array([[0.5, 1.2],\n",
        "              [-1.4, 0.7],\n",
        "              [2.5, -0.9],\n",
        "              [5.6, 9.8],\n",
        "              [-2.3, -0.8]])\n",
        "embedder_example = Embedding(w)\n",
        "minibatch_example = np.array([3,0,4,1])\n",
        "embedder_example.forward(minibatch_example)"
      ],
      "execution_count": 7,
      "outputs": [
        {
          "output_type": "execute_result",
          "data": {
            "text/plain": [
              "array([[ 5.6,  9.8],\n",
              "       [ 0.5,  1.2],\n",
              "       [-2.3, -0.8],\n",
              "       [-1.4,  0.7]])"
            ]
          },
          "metadata": {
            "tags": []
          },
          "execution_count": 7
        }
      ]
    },
    {
      "cell_type": "markdown",
      "metadata": {
        "id": "1SI5FXlf-Ayw"
      },
      "source": [
        "## Time層の実装\n",
        "RNNで系列データを扱う際、例えば時刻tでの入力データ$x_t$を順伝播させたのちに隠れ層の値$h_t$を得、次の時刻t+1での入力データ$x_{t+1}$を順伝播させ……というように、データを時刻ごとに分割してからRNN層やAffine層、Embedding層に入力するという形式を取らなくてはならず、系列データを一々分割し、各時刻データに対して順伝播をさせるというように手間がかかってしまう。\n",
        "\n",
        "そのため、全時刻に渡って一度に順伝播などの処理を行ってくれるように、ユニットを時刻方向に繋げ一つのユニットとすることを考える。\n",
        "ここではこのように時系列データをまとめて扱う層のことを`TimeEmbedding`や`TimeAffine`のように、各クラス名に`Time`を付けて表すことにする。\n",
        "\n",
        "<img src=\"time_layer_image.png\">"
      ]
    },
    {
      "cell_type": "markdown",
      "metadata": {
        "id": "q_FnjBns-Ayx"
      },
      "source": [
        "### TimeEmbedding クラス\n",
        "\n",
        "TimeEmbedding クラスの入力として想定する形式は、\n",
        "\n",
        "（バッチサイズ）×（単語数=時刻数）\n",
        "\n",
        "であり、各単語をD次元ベクトルに変換するとすれば出力は\n",
        "\n",
        "（バッチサイズ）×（単語数=時刻数）×（次元数D）\n",
        "\n",
        "となる。\n",
        "\n",
        "系列に発展させた形としては、順伝播/逆伝播ともに時刻数tをfor文で順に処理してやれば良い。"
      ]
    },
    {
      "cell_type": "code",
      "metadata": {
        "id": "MO8XOzIWCvEr"
      },
      "source": [
        "class TimeEmbedding:\n",
        "    def __init__(self, W):\n",
        "        self.params = [W]\n",
        "        self.grads = [np.zeros_like(W)]\n",
        "        self.layers = None\n",
        "        self.W = W\n",
        "\n",
        "    def forward(self, xs):\n",
        "        N, T = xs.shape\n",
        "        V, D = self.W.shape\n",
        "\n",
        "        out = np.empty((N, T, D), dtype='f')\n",
        "        self.layers = []\n",
        "\n",
        "        for t in range(T):\n",
        "            layer = Embedding(self.W)\n",
        "            out[:, t, :] = layer.forward(xs[:, t])\n",
        "            self.layers.append(layer)\n",
        "\n",
        "        return out\n",
        "\n",
        "    def backward(self, dout):\n",
        "        N, T, D = dout.shape\n",
        "\n",
        "        grad = 0\n",
        "        for t in range(T):\n",
        "            layer = self.layers[t]\n",
        "            layer.backward(dout[:, t, :])\n",
        "            grad += layer.grads[0]\n",
        "\n",
        "        self.grads[0][...] = grad\n",
        "        return None"
      ],
      "execution_count": 8,
      "outputs": []
    },
    {
      "cell_type": "markdown",
      "metadata": {
        "id": "0YWRoPBX-Ay1"
      },
      "source": [
        "### TimeAffine クラス\n",
        "TimeAffineクラスの入力として想定する形式は、\n",
        "\n",
        "（バッチサイズ）×（単語数=時刻数）×（単語ベクトル次元数）\n",
        "\n",
        "であり、このAffineクラスによって単語ベクトル次元数$D_1$から$D_2$に変換すると考えれば、サイズ$D_1 \\times D_2$ の重み行列を用意し、\n",
        "\n",
        "（バッチサイズ）×（単語数=時刻数）×（$D_2$）\n",
        "\n",
        "が出力となる。"
      ]
    },
    {
      "cell_type": "code",
      "metadata": {
        "id": "H8oo7Gr_CvEu"
      },
      "source": [
        "class TimeAffine:\n",
        "    def __init__(self, W, b):\n",
        "        self.params = [W, b]\n",
        "        self.grads = [np.zeros_like(W), np.zeros_like(b)]\n",
        "        self.x = None\n",
        "\n",
        "    def forward(self, x):\n",
        "        N, T, D = x.shape\n",
        "        W, b = self.params\n",
        "\n",
        "        rx = x.reshape(N*T, -1)\n",
        "        out = np.dot(rx, W) + b\n",
        "        self.x = x\n",
        "        return out.reshape(N, T, -1)\n",
        "\n",
        "    def backward(self, dout):\n",
        "        x = self.x\n",
        "        N, T, D = x.shape\n",
        "        W, b = self.params\n",
        "\n",
        "        dout = dout.reshape(N*T, -1)\n",
        "        rx = x.reshape(N*T, -1)\n",
        "\n",
        "        db = np.sum(dout, axis=0)\n",
        "        dW = np.dot(rx.T, dout)\n",
        "        dx = np.dot(dout, W.T)\n",
        "        dx = dx.reshape(*x.shape)\n",
        "\n",
        "        self.grads[0][...] = dW\n",
        "        self.grads[1][...] = db\n",
        "\n",
        "        return dx"
      ],
      "execution_count": 9,
      "outputs": []
    },
    {
      "cell_type": "markdown",
      "metadata": {
        "id": "hvSTZU-1-Ay5"
      },
      "source": [
        "### TimeSoftmaxWithLoss クラス\n",
        "TimeSoftmaxWithLoss クラスの入力として想定する形式は、\n",
        "\n",
        "（バッチサイズ）×（単語数=時刻数）×（次元数）\n",
        "\n",
        "であり、この次元数についてsoftmax関数により変換を行うものと考える。\n"
      ]
    },
    {
      "cell_type": "code",
      "metadata": {
        "id": "l3Sr6xoPCvEs"
      },
      "source": [
        "class TimeSoftmaxWithLoss:\n",
        "    def __init__(self):\n",
        "        self.params, self.grads = [], []\n",
        "        self.cache = None\n",
        "\n",
        "    def forward(self, xs, ts):\n",
        "        N, T, V = xs.shape\n",
        "\n",
        "        if ts.ndim == 3:  # 教師ラベルがone-hotベクトルの場合\n",
        "            ts = ts.argmax(axis=2)\n",
        "\n",
        "        # バッチ分と時系列分をまとめる（reshape）\n",
        "        xs = xs.reshape(N * T, V)\n",
        "        ts = ts.reshape(N * T)\n",
        "\n",
        "        ys = softmax(xs)\n",
        "        ls = np.log(ys[np.arange(N * T), ts])\n",
        "        loss = -np.sum(ls)\n",
        "        loss /= len(ts)\n",
        "\n",
        "        self.cache = (ts, ys, (N, T, V))\n",
        "        return loss\n",
        "\n",
        "    def backward(self, dout=1):\n",
        "        ts, ys, (N, T, V) = self.cache\n",
        "\n",
        "        dx = ys\n",
        "        dx[np.arange(N * T), ts] -= 1\n",
        "        dx *= dout\n",
        "        dx /= len(ys)\n",
        "\n",
        "        dx = dx.reshape((N, T, V))\n",
        "\n",
        "        return dx"
      ],
      "execution_count": 10,
      "outputs": []
    },
    {
      "cell_type": "markdown",
      "metadata": {
        "id": "EIYsJAPZCvEy"
      },
      "source": [
        "## データセット用意\n",
        "\n",
        "ptbという英語の文章を集めたデータセットを用意します。\n",
        "\n",
        "このデータセットについて、単語を順に入力していき、次の単語を予測するというタスクを解かせてみます。\n",
        "本来であれば訓練データで学習をさせた後テストデータで検証を行いますが、簡単のため今回は学習のみを行い、テストによる検証は行いません。\n",
        "\n",
        "こちらのデータセットを用いて解いていくタスクは実践的なタスクと言うよりは、RNNの実装がうまくいっており、学習が成功することを確認するためのものとなります。\n",
        "\n",
        "データセットの用意の部分ですので、コードは読み飛ばしていただいても構いません。\n",
        "\n",
        "行っている処理の流れを示すと、\n",
        "1. データのダウンロード\n",
        "1. 単語とIDの変換ディクショナリの作成\n",
        "1. ダウンロードしてきた単語列のデータに対し、全単語をIDに変換\n",
        "\n",
        "と言う流れになります。"
      ]
    },
    {
      "cell_type": "code",
      "metadata": {
        "id": "e8psB7A9CvEz"
      },
      "source": [
        "import sys\n",
        "import os\n",
        "import urllib.request\n",
        "import pickle\n",
        "\n",
        "url_base = 'https://raw.githubusercontent.com/tomsercu/lstm/master/data/'\n",
        "key_file = {\n",
        "    'train':'ptb.train.txt'\n",
        "}\n",
        "save_file = {\n",
        "    'train':'ptb.train.npy'\n",
        "}\n",
        "vocab_file = 'ptb.vocab.pkl'\n",
        "\n",
        "def _download(file_name):\n",
        "    file_path = './' + file_name\n",
        "    if os.path.exists(file_path):\n",
        "        return\n",
        "\n",
        "    print('Downloading ' + file_name + ' ... ')\n",
        "\n",
        "    try:\n",
        "        urllib.request.urlretrieve(url_base + file_name, file_path)\n",
        "    except urllib.error.URLError:\n",
        "        import ssl\n",
        "        ssl._create_default_https_context = ssl._create_unverified_context\n",
        "        urllib.request.urlretrieve(url_base + file_name, file_path)\n",
        "\n",
        "    print('Done')\n",
        "\n",
        "def load_vocab():\n",
        "    vocab_path = './' + vocab_file\n",
        "\n",
        "    if os.path.exists(vocab_path):\n",
        "        with open(vocab_path, 'rb') as f:\n",
        "            word_to_id, id_to_word = pickle.load(f)\n",
        "        return word_to_id, id_to_word\n",
        "\n",
        "    word_to_id = {}\n",
        "    id_to_word = {}\n",
        "    data_type = 'train'\n",
        "    file_name = key_file[data_type]\n",
        "    file_path = './' + file_name\n",
        "\n",
        "    _download(file_name)\n",
        "\n",
        "    words = open(file_path).read().replace('\\n', '<eos>').strip().split()\n",
        "\n",
        "    for i, word in enumerate(words):\n",
        "        if word not in word_to_id:\n",
        "            tmp_id = len(word_to_id)\n",
        "            word_to_id[word] = tmp_id\n",
        "            id_to_word[tmp_id] = word\n",
        "\n",
        "    with open(vocab_path, 'wb') as f:\n",
        "        pickle.dump((word_to_id, id_to_word), f)\n",
        "\n",
        "    return word_to_id, id_to_word"
      ],
      "execution_count": 11,
      "outputs": []
    },
    {
      "cell_type": "code",
      "metadata": {
        "id": "p9nT8sbgCvE1"
      },
      "source": [
        "def load_ptb(data_type='train'):\n",
        "    save_path = './' + save_file[data_type]\n",
        "    word_to_id, id_to_word = load_vocab()\n",
        "\n",
        "    if os.path.exists(save_path):\n",
        "        corpus = np.load(save_path)\n",
        "        return corpus, word_to_id, id_to_word\n",
        "\n",
        "    file_name = key_file[data_type]\n",
        "    file_path = './' + file_name\n",
        "    _download(file_name)\n",
        "\n",
        "    words = open(file_path).read().replace('\\n', '<eos>').strip().split()\n",
        "    corpus = np.array([word_to_id[w] for w in words])\n",
        "\n",
        "    np.save(save_path, corpus)\n",
        "    return corpus, word_to_id, id_to_word"
      ],
      "execution_count": 12,
      "outputs": []
    },
    {
      "cell_type": "markdown",
      "metadata": {
        "id": "rbYK-qb0-AzF"
      },
      "source": [
        "読み込んだデータを学習用に分割します。\n",
        "そのままではデータ数が大きすぎるので、前から1000単語のみを使用します。\n",
        "\n",
        "xsには0番目から998番目までの単語IDが、tsには1番目から999番目までの単語IDが格納されています。解くべきタスクとしては、xsのi番目までの単語IDを入力として、i+1番目の単語、即ちtsのi番目の単語を予測するというものになります。"
      ]
    },
    {
      "cell_type": "code",
      "metadata": {
        "id": "mM4f-cue-AzG",
        "colab": {
          "base_uri": "https://localhost:8080/"
        },
        "outputId": "f05504b4-67c2-4223-d480-da8ebd69537f"
      },
      "source": [
        "# 学習データの読み込み（データセットを小さくする）\n",
        "corpus, word_to_id, id_to_word = load_ptb('train')\n",
        "corpus_size = 1000\n",
        "corpus = corpus[:corpus_size]\n",
        "vocab_size = int(max(corpus) + 1)\n",
        "\n",
        "xs = corpus[:-1]  # 入力\n",
        "ts = corpus[1:]  # 出力（教師ラベル）\n",
        "data_size = len(xs)\n",
        "print('corpus size: %d, vocabulary size: %d' % (corpus_size, vocab_size))"
      ],
      "execution_count": 13,
      "outputs": [
        {
          "output_type": "stream",
          "text": [
            "corpus size: 1000, vocabulary size: 418\n"
          ],
          "name": "stdout"
        }
      ]
    },
    {
      "cell_type": "markdown",
      "metadata": {
        "id": "Ii6uCudrCvE4"
      },
      "source": [
        "## ネットワーク定義\n",
        "### RNNクラス\n",
        "問1-1. <font color=\"Red\">RNNレイヤーを表すクラス RNNクラスを完成させてください。</font>\n",
        "\n",
        "  RNNクラスは以下に従って定義します。\n",
        "    \n",
        "  - `Wx`, `Wh`はそれぞれ順伝播時に入力、前時刻隠れ層にかかる重み行列\n",
        "  - 活性化関数は `tanh`"
      ]
    },
    {
      "cell_type": "code",
      "metadata": {
        "id": "UKhQecjFCvE4"
      },
      "source": [
        "class RNN:\n",
        "    def __init__(self, Wx, Wh, b):\n",
        "        self.params = [Wx, Wh, b]\n",
        "        self.grads = [np.zeros_like(Wx), np.zeros_like(Wh), np.zeros_like(b)]\n",
        "        self.cache = None\n",
        "\n",
        "    def forward(self, x, h_prev):\n",
        "        Wx, Wh, b = self.params \n",
        "        t = np.dot(h_prev, Wh) + np.dot(x, Wx) + b\n",
        "        h_next = np.tanh(t) \n",
        "\n",
        "        self.cache = (x, h_prev, h_next)\n",
        "        return h_next\n",
        "\n",
        "    def backward(self, dh_next):\n",
        "        Wx, Wh, b = self.params\n",
        "        x, h_prev, h_next = self.cache\n",
        "\n",
        "        dt = dh_next * (1 - h_next ** 2)\n",
        "        db = np.sum(dt, axis=0)\n",
        "        dWh = np.dot(h_prev.T, dt)\n",
        "        dh_prev = np.dot(dt, Wh.T)\n",
        "        dWx = np.dot(x.T, dt)\n",
        "        dx = np.dot(dt, Wx.T)\n",
        "\n",
        "        self.grads[0][...] = dWx\n",
        "        self.grads[1][...] = dWh\n",
        "        self.grads[2][...] = db\n",
        "\n",
        "        return dx, dh_prev"
      ],
      "execution_count": 14,
      "outputs": []
    },
    {
      "cell_type": "markdown",
      "metadata": {
        "id": "qV66lPCN-AzM"
      },
      "source": [
        "### TimeRNNクラス\n",
        "問1-2. <font color=\"Red\">TimeRNNクラスを完成させてください。</font>\n",
        "\n",
        "TimeRNNクラスの仕様は以下の通りです。\n",
        "  \n",
        "  1. 順伝播\n",
        "      \n",
        "      - 時刻`t`を時系列分だけfor文でループさせます\n",
        "      - 順伝播により計算した隠れ層をメンバ変数`h`として格納します\n",
        "      - 順伝播時には<font color=\"Red\">メンバ変数`h`と入力データのうち時刻`t`に対応するデータを使用して</font>出力を計算します\n",
        "      \n",
        "  1. 逆伝播\n",
        "      - 今回のタスクにおいては、全時刻において次単語を予測し、その予測について損失が計算される、即ち勾配が入力されてくるため、逆伝播の入力`dhs`の想定される形は（バッチサイズ）×（単語数=時刻数）×（RNNの出力次元数）となります\n",
        "      - 各時刻において、<font color=\"Red\">次の時刻から伝播してきた勾配と現時刻における出力から伝播してきた勾配との和</font>を入力としてRNN層の逆伝播を計算します\n",
        "  \n",
        "また、今回のタスクにおける少々特殊な処理に対応するためや、この後実装する別タスクにおいても汎用的に使用するためにいくつか細かい仕様を加えます。\n",
        "実装上の細かい仕様のため、問題にはしていませんが、参考にしてください。\n",
        "\n",
        "  1. stateful\n",
        "    - 今回のタスクにおける目的はRNNネットワークが正しく実装できていることです。簡単に学習が成功していることを確認するため、（実務的にも用いられることのある）Truncated BPTT という少々特殊な処理を行います。\n",
        "    - 今回のタスクでは、入力する単語数（時刻数）として1000程度を入力していますが、この単語全てを順伝播させて逆伝播を計算し、ようやくパラメータ更新を1度行うというのでは効率が悪いため、順伝播は1000単語で行うものの逆伝播を5単語程度で区切って行う Truncated BPTT という方式を取っています。\n",
        "      1. まず、連続する5単語（例えば1~5番）を入力として順伝播・逆伝播・パラメータ更新を行います。\n",
        "      1. その際、順伝播の最終時刻における隠れ層`h`の値をメンバ変数として保持しておきます。\n",
        "      1. 次に5単語（先の例では6~10番）を入力として順伝播・逆伝播・パラメータ更新を行いますが、その際に初期入力の`h`を0で初期化せず、前から保持しているメンバ変数`h`の値をそのまま使用します。\n",
        "      1. このことにより、逆伝播は5単語単位で行われますが、順伝播は最初の単語から順にずっと計算されてきた値を使用することができます。\n",
        "      1. `stateful`がTrueの際にこのメンバ変数`h`の保持を行います。Falseの場合には`forward`関数が呼ばれるたびに`h`がリセット、即ち0で初期化されます。\n",
        "    \n",
        "  1. set_state\n",
        "    - 内部状態`h`を外から設定するための関数です。\n",
        "  \n",
        "  1. reset_state\n",
        "    - 内部状態`h`を外から削除するための関数です。\n",
        "  \n",
        "  1. params や grads としてパラメータ・勾配をまとめる\n",
        "    - 後でネットワーククラスを定義した際に、パラメータ更新などを楽に実行するための処理です。\n",
        "  1. backward における入力dhsの次元数による場合分け\n",
        "    - 今回のタスクでは全時刻において勾配が逆伝播してくるため、`dhs`の想定される形は（バッチサイズN）×（単語数=時刻数T）×（RNNの出力次元数H）となりますが、この後別のタスクを解く際には、全時刻ではなく最終時刻の出力のみから勾配が伝播してきます。\n",
        "    - この場合、dhsの次元数が違うため三次元に拡張することが必要になります。\n",
        "    - 最終時刻の出力のみから伝播してきたdhs の形は`(N,T,D)`のうち、`(N,D)`となっています。\n",
        "    - 最終時刻以外の勾配については何も伝播してきていないことから、全て0とすることで問題なく計算がなされます。\n",
        "    - 以上のことから、まず`np.zeros((N,T,D))`によって勾配の形を整え、その勾配の`[:,-1,:]`に対して入力された最終時刻における勾配を代入することで変わらず逆伝播を行うことができます。"
      ]
    },
    {
      "cell_type": "code",
      "metadata": {
        "id": "zHobocVhCvE6"
      },
      "source": [
        "class TimeRNN:\n",
        "    def __init__(self,input_size, output_size, stateful=False):\n",
        "        D, H = input_size, output_size\n",
        "        rn = np.random.randn\n",
        "        np.random.seed(0)\n",
        "\n",
        "        # 重みの初期化\n",
        "        Wx = (rn(D, H) / np.sqrt(D)).astype('f')\n",
        "        Wh = (rn(H, H) / np.sqrt(H)).astype('f')\n",
        "        b = np.zeros(H).astype('f')\n",
        "\n",
        "        self.params = [Wx, Wh, b]\n",
        "        self.grads = [np.zeros_like(Wx), np.zeros_like(Wh), np.zeros_like(b)]\n",
        "        self.layers = None\n",
        "\n",
        "        self.h, self.dh = None, None\n",
        "        self.stateful = stateful\n",
        "        self.input_shapes = None\n",
        "\n",
        "    def forward(self, xs):\n",
        "        Wx, Wh, b = self.params\n",
        "        N, T, D = xs.shape\n",
        "        D, H = Wx.shape\n",
        "        self.input_shapes = [N,T,D]\n",
        "\n",
        "        self.layers = []\n",
        "        hs = np.empty((N, T, H), dtype='f')\n",
        "\n",
        "        if not self.stateful or self.h is None:\n",
        "            self.h = np.zeros((N, H), dtype='f')\n",
        "\n",
        "        for t in range(T):\n",
        "            layer = RNN(*self.params)\n",
        "            self.h = layer.forward(xs[:,t,:], self.h) ######問1.2.1######\n",
        "            hs[:, t, :] = self.h\n",
        "            self.layers.append(layer)\n",
        "\n",
        "        return hs\n",
        "\n",
        "    def backward(self, dhs):\n",
        "        Wx, Wh, b = self.params\n",
        "        N, T, D = self.input_shapes\n",
        "        D, H = Wx.shape\n",
        "        \n",
        "        if dhs.ndim == 2:\n",
        "            temp = np.zeros((N,T,H))\n",
        "            temp[:,-1,:] = dhs\n",
        "            dhs = temp\n",
        "        \n",
        "        N, T, H = dhs.shape\n",
        "\n",
        "        dxs = np.empty((N, T, D), dtype='f')\n",
        "        dh = 0\n",
        "        grads = [0, 0, 0]\n",
        "        for t in reversed(range(T)):\n",
        "            layer = self.layers[t]\n",
        "            dx, dh = layer.backward(dhs[:,t,:] + dh) ######問1.2.2######\n",
        "            dxs[:, t, :] = dx\n",
        "\n",
        "            for i, grad in enumerate(layer.grads):\n",
        "                grads[i] += grad\n",
        "\n",
        "        for i, grad in enumerate(grads):\n",
        "            self.grads[i][...] = grad\n",
        "        self.dh = dh\n",
        "\n",
        "        return dxs\n",
        "\n",
        "    def set_state(self, h):\n",
        "        self.h = h\n",
        "\n",
        "    def reset_state(self):\n",
        "        self.h = None"
      ],
      "execution_count": 15,
      "outputs": []
    },
    {
      "cell_type": "markdown",
      "metadata": {
        "id": "nDfIFVaw-AzQ"
      },
      "source": [
        "### SimpleRnnNetwork クラス\n",
        "バッチサイズN、単語数T、単語の種類数V、embedにより単語をベクトル化した際の次元数D、RNNによる出力次元数Hとします。\n",
        "\n",
        "入力されてくるデータのサイズは`(N,T)`であり\n",
        "\n",
        "TimeEmbedding層により`(N,T,D)`に変換\n",
        "\n",
        "TimeRNN層により`(N,T,H)`に変換\n",
        "\n",
        "TimeAffine層により`(N,T,V)`に変換した後、V次元の中で最大のものを予測単語IDとして出力します。\n",
        "損失については、Softmaxを使用してV種類の各単語について確率値を出力し、クロスエントロピーで計算します。"
      ]
    },
    {
      "cell_type": "code",
      "metadata": {
        "id": "XIN7sid8CvE8"
      },
      "source": [
        "class SimpleRnnNetwork:\n",
        "    def __init__(self, vocab_size, wordvec_size, hidden_size):\n",
        "        V, D, H = vocab_size, wordvec_size, hidden_size\n",
        "        rn = np.random.randn\n",
        "        np.random.seed(0)\n",
        "\n",
        "        # 重みの初期化\n",
        "        embed_W = (rn(V, D) / 100).astype('f')\n",
        "        affine_W = (rn(H, V) / np.sqrt(H)).astype('f')\n",
        "        affine_b = np.zeros(V).astype('f')\n",
        "\n",
        "        # レイヤの生成\n",
        "        self.layers = [\n",
        "            TimeEmbedding(embed_W),\n",
        "            TimeRNN(D, H, stateful=True),\n",
        "            TimeAffine(affine_W, affine_b)\n",
        "        ]\n",
        "        self.loss_layer = TimeSoftmaxWithLoss()\n",
        "        self.rnn_layer = self.layers[1]\n",
        "\n",
        "        # すべての重みと勾配をリストにまとめる\n",
        "        self.params, self.grads = [], []\n",
        "        for layer in self.layers:\n",
        "            self.params += layer.params\n",
        "            self.grads += layer.grads\n",
        "\n",
        "    def forward(self, xs, ts):\n",
        "        for layer in self.layers:\n",
        "            xs = layer.forward(xs)\n",
        "        loss = self.loss_layer.forward(xs, ts)\n",
        "        return loss\n",
        "\n",
        "    def backward(self, dout=1):\n",
        "        dout = self.loss_layer.backward(dout)\n",
        "        for layer in reversed(self.layers):\n",
        "            dout = layer.backward(dout)\n",
        "        return dout\n",
        "\n",
        "    def reset_state(self):\n",
        "        self.rnn_layer.reset_state()\n"
      ],
      "execution_count": 16,
      "outputs": []
    },
    {
      "cell_type": "markdown",
      "metadata": {
        "id": "ET7tV8h1-AzU"
      },
      "source": [
        "### ハイパーパラメータや学習用データセットの用意\n",
        "\n",
        "バッチサイズ10のミニバッチを作成するため、offsets や time_idx などを使用します。\n",
        "細かい挙動まで追う必要はありませんが、Truncated BPTT を行うため、バッチサイズ10, 単語数5のミニバッチを作成したあと、通常のようにまたランダムに連続した5単語を取るのではなく、先のミニバッチから連続した5単語をミニバッチとして選択する必要があります。\n",
        "\n",
        "例として簡単のために単語数100個、バッチサイズ2とした場合を考えます。\n",
        "\n",
        "1エポック目でのミニバッチ選択を追うと、\n",
        "\n",
        "```\n",
        "0番目の単語-1番目の単語-2番目の単語-3番目の単語-4番目の単語\n",
        "49番目の単語-50番目の単語-51番目の単語-52番目の単語-53番目の単語\n",
        "```\n",
        "    ↓\n",
        "```\n",
        "5番目の単語-6番目の単語-7番目の単語-8番目の単語-9番目の単語\n",
        "54番目の単語-55番目の単語-56番目の単語-57番目の単語-58番目の単語\n",
        "```\n",
        "    ↓\n",
        "    ……\n",
        "    \n",
        "と言うようにミニバッチ内の各データについて連続して単語を選択しています。\n"
      ]
    },
    {
      "cell_type": "code",
      "metadata": {
        "id": "_OX0jXUwCvE9"
      },
      "source": [
        "# ハイパーパラメータの設定\n",
        "batch_size = 20 #10\n",
        "wordvec_size = 100\n",
        "hidden_size = 100\n",
        "time_size = 5 \n",
        "lr = 10 #0.1\n",
        "max_epoch = 40\n",
        "max_grad = 0.25\n",
        "\n",
        "max_iters = data_size // (batch_size * time_size)\n",
        "\n",
        "optimizer = SGD(lr)\n",
        "\n",
        "jump = (corpus_size - 1) // batch_size\n",
        "offsets = [i * jump for i in range(batch_size)]"
      ],
      "execution_count": 17,
      "outputs": []
    },
    {
      "cell_type": "markdown",
      "metadata": {
        "id": "_Xt6DtJDCvFB"
      },
      "source": [
        "## 学習、評価\n",
        "perplexity で評価を行います。\n",
        "\n",
        "40エポックでperplexityが一桁程度まで低下していれば学習成功です。"
      ]
    },
    {
      "cell_type": "code",
      "metadata": {
        "id": "7cDXCBHZ-Azb",
        "colab": {
          "base_uri": "https://localhost:8080/"
        },
        "outputId": "635ec2c2-26ba-4e62-a38d-364091ac023e"
      },
      "source": [
        "model = SimpleRnnNetwork(vocab_size, wordvec_size, hidden_size)\n",
        "#model = LSTMNetwork(vocab_size, wordvec_size, hidden_size)\n",
        "\n",
        "time_idx = 0\n",
        "total_loss = 0\n",
        "loss_count = 0\n",
        "rnn_ppl_list = []\n",
        "\n",
        "for epoch in range(max_epoch):\n",
        "    for iter in range(max_iters):\n",
        "        # ミニバッチの取得\n",
        "        batch_x = np.empty((batch_size, time_size), dtype='i')\n",
        "        batch_t = np.empty((batch_size, time_size), dtype='i')\n",
        "        for t in range(time_size):\n",
        "            for i, offset in enumerate(offsets):\n",
        "                batch_x[i, t] = xs[(offset + time_idx) % data_size]\n",
        "                batch_t[i, t] = ts[(offset + time_idx) % data_size]\n",
        "            time_idx += 1\n",
        "\n",
        "        # 勾配を求め、パラメータを更新\n",
        "        loss = model.forward(batch_x, batch_t)\n",
        "        model.backward()\n",
        "        if max_grad is not None:\n",
        "            clip_grads(model.grads, max_grad)\n",
        "\n",
        "        optimizer.update(model.params, model.grads)\n",
        "        total_loss += loss\n",
        "        loss_count += 1\n",
        "\n",
        "    # エポックごとにパープレキシティの評価\n",
        "    ppl = np.exp(total_loss / loss_count)\n",
        "    print('| epoch %d | perplexity %.2f'\n",
        "          % (epoch+1, ppl))\n",
        "    rnn_ppl_list.append(float(ppl))\n",
        "    total_loss, loss_count = 0, 0\n"
      ],
      "execution_count": 18,
      "outputs": [
        {
          "output_type": "stream",
          "text": [
            "| epoch 1 | perplexity 383.29\n",
            "| epoch 2 | perplexity 404.38\n",
            "| epoch 3 | perplexity 495.11\n",
            "| epoch 4 | perplexity 407.29\n",
            "| epoch 5 | perplexity 441.03\n",
            "| epoch 6 | perplexity 419.79\n",
            "| epoch 7 | perplexity 435.35\n",
            "| epoch 8 | perplexity 483.19\n",
            "| epoch 9 | perplexity 374.28\n",
            "| epoch 10 | perplexity 400.35\n",
            "| epoch 11 | perplexity 349.33\n",
            "| epoch 12 | perplexity 301.65\n",
            "| epoch 13 | perplexity 369.73\n",
            "| epoch 14 | perplexity 318.20\n",
            "| epoch 15 | perplexity 290.71\n",
            "| epoch 16 | perplexity 298.60\n",
            "| epoch 17 | perplexity 226.32\n",
            "| epoch 18 | perplexity 203.31\n",
            "| epoch 19 | perplexity 179.21\n",
            "| epoch 20 | perplexity 132.51\n",
            "| epoch 21 | perplexity 109.15\n",
            "| epoch 22 | perplexity 88.14\n",
            "| epoch 23 | perplexity 66.94\n",
            "| epoch 24 | perplexity 45.26\n",
            "| epoch 25 | perplexity 34.67\n",
            "| epoch 26 | perplexity 28.89\n",
            "| epoch 27 | perplexity 23.14\n",
            "| epoch 28 | perplexity 16.70\n",
            "| epoch 29 | perplexity 13.69\n",
            "| epoch 30 | perplexity 11.73\n",
            "| epoch 31 | perplexity 9.45\n",
            "| epoch 32 | perplexity 8.48\n",
            "| epoch 33 | perplexity 6.59\n",
            "| epoch 34 | perplexity 6.01\n",
            "| epoch 35 | perplexity 5.15\n",
            "| epoch 36 | perplexity 4.56\n",
            "| epoch 37 | perplexity 4.43\n",
            "| epoch 38 | perplexity 3.77\n",
            "| epoch 39 | perplexity 3.30\n",
            "| epoch 40 | perplexity 3.04\n"
          ],
          "name": "stdout"
        }
      ]
    },
    {
      "cell_type": "markdown",
      "metadata": {
        "id": "DyzEKNaLCvFD"
      },
      "source": [
        "## LSTM\n",
        "### LSTMクラス\n",
        "\n",
        "問2-1. <font color=\"Red\">LSTMクラスを完成させてください。</font>\n",
        "\n",
        "LSTMクラスの仕様はRNNクラスとほとんど同じです。\n",
        "\n",
        "各ゲートの計算と通常の順伝播の計算に使用するパラメータを行列にまとめ、一行で計算できるように実装しています。\n",
        "\n",
        "f,g,i,o はそれぞれ、忘却ゲート・入力からの順伝播・入力ゲート・出力ゲートを表しています。\n",
        "\n",
        "<img src=\"lstm_image.png\">"
      ]
    },
    {
      "cell_type": "code",
      "metadata": {
        "id": "972frd2QCvFE"
      },
      "source": [
        "class LSTM:\n",
        "    def __init__(self, Wx, Wh, b):\n",
        "        '''\n",
        "        Parameters\n",
        "        ----------\n",
        "        Wx: 重みパラメタ for 入力 x（4つ分の重みをまとめる）\n",
        "        Wh: 重みパラメタ for 隠れ状態 h（4つ分の重みをまとめる）\n",
        "        b: バイアス（4つ分のバイアスをまとめる）\n",
        "        '''\n",
        "        self.params = [Wx, Wh, b]\n",
        "        self.grads = [np.zeros_like(Wx), np.zeros_like(Wh), np.zeros_like(b)]\n",
        "        self.cache = None\n",
        "\n",
        "    def forward(self, x, h_prev, c_prev):\n",
        "        Wx, Wh, b = self.params\n",
        "        N, H = h_prev.shape\n",
        "\n",
        "        A = np.dot(x, Wx) + np.dot(h_prev, Wh) + b ######問2.1.1######\n",
        "\n",
        "        f = A[:, :H]\n",
        "        g = A[:, H:2*H]\n",
        "        i = A[:, 2*H:3*H]\n",
        "        o = A[:, 3*H:]\n",
        "\n",
        "        f = sigmoid(f) # 忘却ゲート ######問2.1.2######\n",
        "        g = np.tanh(g) # 入力からの順伝播 ######問2.1.3######\n",
        "        i = sigmoid(i) # 入力ゲート ######問2.1.4######\n",
        "        o = sigmoid(o) # 出力ゲート ######問2.1.5######\n",
        "\n",
        "        # print(h_prev.shape, f.shape, g.shape, i.shape, o.shape, c_prev.shape)\n",
        "        # (20, 100) (20, 100) (20, 100) (20, 100) (20, 100) (20, 100)\n",
        "        c_next = f * c_prev + g * i ######問2.1.6######\n",
        "        h_next = o * np.tanh(c_next) ######問2.1.7######\n",
        "\n",
        "        self.cache = (x, h_prev, c_prev, i, f, g, o, c_next)\n",
        "        return h_next, c_next\n",
        "\n",
        "    def backward(self, dh_next, dc_next):\n",
        "        Wx, Wh, b = self.params\n",
        "        x, h_prev, c_prev, i, f, g, o, c_next = self.cache\n",
        "\n",
        "        tanh_c_next = np.tanh(c_next)\n",
        "        \n",
        "        #dsはdc_nextとc_nextに分岐する前の状態の逆伝播。上図参照。tanh(x)の微分は1-tanh^2(x)となる。\n",
        "        ds = dc_next + (dh_next * o) * (1 - tanh_c_next ** 2) ######問2.1.8######\n",
        "\n",
        "        dc_prev = ds * f  ######問2.1.9######\n",
        "\n",
        "        di = ds * g\n",
        "        df = ds * c_prev\n",
        "        do = dh_next * tanh_c_next\n",
        "        dg = ds * i\n",
        "\n",
        "        di *= i * (1 - i)\n",
        "        df *= f * (1 - f)\n",
        "        do *= o * (1 - o)\n",
        "        dg *= (1 - g ** 2)\n",
        "\n",
        "        dA = np.hstack((df, dg, di, do))\n",
        "\n",
        "        dWh = np.dot(h_prev.T, dA)\n",
        "        dWx = np.dot(x.T, dA)\n",
        "        db = dA.sum(axis=0)\n",
        "\n",
        "        self.grads[0][...] = dWx\n",
        "        self.grads[1][...] = dWh\n",
        "        self.grads[2][...] = db\n",
        "\n",
        "        dx = np.dot(dA, Wx.T)\n",
        "        dh_prev = np.dot(dA, Wh.T)\n",
        "\n",
        "        return dx, dh_prev, dc_prev\n"
      ],
      "execution_count": 19,
      "outputs": []
    },
    {
      "cell_type": "markdown",
      "metadata": {
        "id": "fSpv_YIw-Azh"
      },
      "source": [
        "### TimeLSTMクラス\n",
        "\n",
        "問2-2. <font color=\"Red\">TimeLSTMクラスを完成させてください。</font>\n",
        "\n",
        "TimeRNNと同じように実装します。\n",
        "\n",
        "SimpleRNN のときと違って、重みの初期化に注意を払う必要があります。\n",
        "LSTMでは最初に1ステップの処理をLSTMクラスとして実装し、Tステップ分まとめて処理するクラスをTimeLSTMとして実装します。ここで注目したいのがf, g, i, oの4つのアフィン変換です。LSTMでは4つの式により個別に計算を行っていますが、TimeLSTMではひとつの式でまとめて計算することで高速化するという工夫をしています。というのも、行列のライブラリは大きな行列としてまとめて計算した方が多くの場合速くなるからです。結論として個別に行っていたアフィン変換を1回の計算で済ませるため、4つの重みをひとつにまとめる必要があります。そこでWx, Whの式における重みHを事前に4倍しておきましょう。"
      ]
    },
    {
      "cell_type": "code",
      "metadata": {
        "id": "RXkWl14bCvFF"
      },
      "source": [
        "class TimeLSTM:\n",
        "    def __init__(self, input_size, output_size, stateful=False):\n",
        "        D,H = input_size, output_size\n",
        "        rn = np.random.randn\n",
        "        np.random.seed(0)\n",
        "        \n",
        "        Wx = (rn(D, 4*H) / np.sqrt(D)).astype('f') ######問2.2.1######\n",
        "        Wh = (rn(H, 4*H) / np.sqrt(H)).astype('f')  ######問2.2.2######\n",
        "        b = np.zeros(4*H).astype('f')  ######問2.2.3######\n",
        "\n",
        "        self.params = [Wx, Wh, b]\n",
        "        self.grads = [np.zeros_like(Wx), np.zeros_like(Wh), np.zeros_like(b)]\n",
        "        self.layers = None\n",
        "\n",
        "        self.h, self.c = None, None\n",
        "        self.dh = None\n",
        "        self.stateful = stateful\n",
        "        self.input_shapes = None\n",
        "\n",
        "    def forward(self, xs):\n",
        "        Wx, Wh, b = self.params\n",
        "        N, T, D = xs.shape\n",
        "        H = Wh.shape[0]\n",
        "        self.input_shapes = [N,T,D]\n",
        "\n",
        "        self.layers = []\n",
        "        hs = np.empty((N, T, H), dtype='f')\n",
        "\n",
        "        if not self.stateful or self.h is None:\n",
        "            self.h = np.zeros((N, H), dtype='f')\n",
        "        if not self.stateful or self.c is None:\n",
        "            self.c = np.zeros((N, H), dtype='f')\n",
        "\n",
        "        for t in range(T):\n",
        "            layer = LSTM(*self.params)\n",
        "            self.h, self.c = layer.forward(xs[:, t, :], self.h, self.c) ######問2.2.4######\n",
        "            hs[:, t, :] = self.h\n",
        "\n",
        "            self.layers.append(layer)\n",
        "\n",
        "        return hs\n",
        "\n",
        "    def backward(self, dhs):\n",
        "        Wx, Wh, b = self.params\n",
        "        H = Wh.shape[0]\n",
        "        N, T, D = self.input_shapes\n",
        "        \n",
        "        if dhs.ndim == 2:\n",
        "            temp = np.zeros((N,T,H))\n",
        "            temp[:,-1,:] = dhs\n",
        "            dhs = temp\n",
        "  \n",
        "        N, T, H = dhs.shape\n",
        " \n",
        "        dxs = np.empty((N, T, D), dtype='f')\n",
        "        dh, dc = 0, 0\n",
        "\n",
        "        grads = [0, 0, 0]\n",
        "        for t in reversed(range(T)):\n",
        "            layer = self.layers[t]\n",
        "            dx, dh, dc = layer.backward(dhs[:, t, :] + dh, dc) ######問2.2.5######\n",
        "            dxs[:, t, :] = dx\n",
        "            for i, grad in enumerate(layer.grads):\n",
        "                grads[i] += grad\n",
        "\n",
        "        for i, grad in enumerate(grads):\n",
        "            self.grads[i][...] = grad\n",
        "        self.dh = dh\n",
        "        return dxs\n",
        "\n",
        "    def set_state(self, h, c=None):\n",
        "        self.h, self.c = h, c\n",
        "\n",
        "    def reset_state(self):\n",
        "        self.h, self.c = None, None\n"
      ],
      "execution_count": 20,
      "outputs": []
    },
    {
      "cell_type": "markdown",
      "metadata": {
        "id": "STsi7N7c-Azk"
      },
      "source": [
        "### LSTMNetworkクラス\n",
        "\n"
      ]
    },
    {
      "cell_type": "code",
      "metadata": {
        "id": "9UIwu6fuCvFI"
      },
      "source": [
        "class LSTMNetwork:\n",
        "    def __init__(self, vocab_size=10000, wordvec_size=100, hidden_size=100):\n",
        "        V, D, H = vocab_size, wordvec_size, hidden_size\n",
        "        rn = np.random.randn\n",
        "        np.random.seed(0)\n",
        "\n",
        "        # 重みの初期化\n",
        "        embed_W = (rn(V, D) / 100).astype('f')\n",
        "        affine_W = (rn(H, V) / np.sqrt(H)).astype('f')\n",
        "        affine_b = np.zeros(V).astype('f')\n",
        "\n",
        "        # レイヤの生成\n",
        "        self.layers = [\n",
        "            TimeEmbedding(embed_W),\n",
        "            TimeLSTM(D, H, stateful=True),\n",
        "            TimeAffine(affine_W, affine_b)\n",
        "        ]\n",
        "        self.loss_layer = TimeSoftmaxWithLoss()\n",
        "        self.lstm_layer = self.layers[1]\n",
        "\n",
        "        # すべての重みと勾配をリストにまとめる\n",
        "        self.params, self.grads = [], []\n",
        "        for layer in self.layers:\n",
        "            self.params += layer.params\n",
        "            self.grads += layer.grads\n",
        "\n",
        "    def predict(self, xs):\n",
        "        for layer in self.layers:\n",
        "            xs = layer.forward(xs)\n",
        "        return xs\n",
        "\n",
        "    def forward(self, xs, ts):\n",
        "        score = self.predict(xs)\n",
        "        loss = self.loss_layer.forward(score, ts)\n",
        "        return loss\n",
        "\n",
        "    def backward(self, dout=1):\n",
        "        dout = self.loss_layer.backward(dout)\n",
        "        for layer in reversed(self.layers):\n",
        "            dout = layer.backward(dout)\n",
        "        return dout\n",
        "\n",
        "    def reset_state(self):\n",
        "        self.lstm_layer.reset_state()\n"
      ],
      "execution_count": 21,
      "outputs": []
    },
    {
      "cell_type": "markdown",
      "metadata": {
        "id": "ofZZ-gIpCvFO"
      },
      "source": [
        "## 学習、評価\n",
        "\n",
        "ハイパーパラメータなどは先ほどのRNNと全て共通で学習させます。\n",
        "\n",
        "40エポックでperplexity が5以下となっていれば学習成功です。"
      ]
    },
    {
      "cell_type": "code",
      "metadata": {
        "id": "hcgBW6tmCvFP",
        "scrolled": true,
        "colab": {
          "base_uri": "https://localhost:8080/"
        },
        "outputId": "d3f5ade0-9f3f-40e9-f2c9-28d309e1dfcf"
      },
      "source": [
        "model = LSTMNetwork(vocab_size, wordvec_size, hidden_size)\n",
        "\n",
        "time_idx = 0\n",
        "total_loss = 0\n",
        "loss_count = 0\n",
        "lstm_ppl_list = []\n",
        "\n",
        "for epoch in range(max_epoch):\n",
        "    for iter in range(max_iters):\n",
        "        # ミニバッチの取得\n",
        "        batch_x = np.empty((batch_size, time_size), dtype='i')\n",
        "        batch_t = np.empty((batch_size, time_size), dtype='i')\n",
        "        for t in range(time_size):\n",
        "            for i, offset in enumerate(offsets):\n",
        "                batch_x[i, t] = xs[(offset + time_idx) % data_size]\n",
        "                batch_t[i, t] = ts[(offset + time_idx) % data_size]\n",
        "            time_idx += 1\n",
        "\n",
        "        # 勾配を求め、パラメータを更新\n",
        "        loss = model.forward(batch_x, batch_t)\n",
        "        model.backward()\n",
        "        if max_grad is not None:\n",
        "            clip_grads(model.grads, max_grad)\n",
        "\n",
        "        optimizer.update(model.params, model.grads)\n",
        "        total_loss += loss\n",
        "        loss_count += 1\n",
        "\n",
        "    # エポックごとにパープレキシティの評価\n",
        "    ppl = np.exp(total_loss / loss_count)\n",
        "    print('| epoch %d | perplexity %.2f'\n",
        "          % (epoch+1, ppl))\n",
        "    lstm_ppl_list.append(float(ppl))\n",
        "    total_loss, loss_count = 0, 0"
      ],
      "execution_count": 22,
      "outputs": [
        {
          "output_type": "stream",
          "text": [
            "| epoch 1 | perplexity 278.48\n",
            "| epoch 2 | perplexity 224.88\n",
            "| epoch 3 | perplexity 205.25\n",
            "| epoch 4 | perplexity 188.97\n",
            "| epoch 5 | perplexity 175.05\n",
            "| epoch 6 | perplexity 155.77\n",
            "| epoch 7 | perplexity 133.43\n",
            "| epoch 8 | perplexity 106.73\n",
            "| epoch 9 | perplexity 81.01\n",
            "| epoch 10 | perplexity 58.26\n",
            "| epoch 11 | perplexity 40.60\n",
            "| epoch 12 | perplexity 27.62\n",
            "| epoch 13 | perplexity 20.00\n",
            "| epoch 14 | perplexity 14.09\n",
            "| epoch 15 | perplexity 10.32\n",
            "| epoch 16 | perplexity 7.90\n",
            "| epoch 17 | perplexity 5.75\n",
            "| epoch 18 | perplexity 4.58\n",
            "| epoch 19 | perplexity 3.62\n",
            "| epoch 20 | perplexity 3.06\n",
            "| epoch 21 | perplexity 2.63\n",
            "| epoch 22 | perplexity 2.23\n",
            "| epoch 23 | perplexity 1.97\n",
            "| epoch 24 | perplexity 1.73\n",
            "| epoch 25 | perplexity 1.67\n",
            "| epoch 26 | perplexity 1.54\n",
            "| epoch 27 | perplexity 1.46\n",
            "| epoch 28 | perplexity 1.37\n",
            "| epoch 29 | perplexity 1.31\n",
            "| epoch 30 | perplexity 1.28\n",
            "| epoch 31 | perplexity 1.24\n",
            "| epoch 32 | perplexity 1.20\n",
            "| epoch 33 | perplexity 1.19\n",
            "| epoch 34 | perplexity 1.20\n",
            "| epoch 35 | perplexity 1.13\n",
            "| epoch 36 | perplexity 1.12\n",
            "| epoch 37 | perplexity 1.11\n",
            "| epoch 38 | perplexity 1.09\n",
            "| epoch 39 | perplexity 1.07\n",
            "| epoch 40 | perplexity 1.07\n"
          ],
          "name": "stdout"
        }
      ]
    },
    {
      "cell_type": "markdown",
      "metadata": {
        "id": "fnkwvXuS-Azs"
      },
      "source": [
        "LSTMとRNNの学習結果を比較し、LSTMの方が安定して素早く学習が収束していることを確認してください。"
      ]
    },
    {
      "cell_type": "code",
      "metadata": {
        "id": "jBRkO629-Azt",
        "colab": {
          "base_uri": "https://localhost:8080/",
          "height": 279
        },
        "outputId": "1e9af1e4-f552-4ee7-9c1a-2906fc5c217c"
      },
      "source": [
        "import matplotlib.pyplot as plt\n",
        "plt.plot(range(max_epoch), rnn_ppl_list)\n",
        "plt.plot(range(max_epoch), lstm_ppl_list)\n",
        "plt.legend([\"RNN\", \"LSTM\"])\n",
        "plt.xlabel(\"#epoch\")\n",
        "plt.ylabel(\"perplexity\")\n",
        "plt.show()"
      ],
      "execution_count": 23,
      "outputs": [
        {
          "output_type": "display_data",
          "data": {
            "image/png": "[encoded data removed]",
            "text/plain": [
              "<Figure size 432x288 with 1 Axes>"
            ]
          },
          "metadata": {
            "tags": [],
            "needs_background": "light"
          }
        }
      ]
    },
    {
      "cell_type": "markdown",
      "metadata": {
        "id": "5a9St6Om-Azx"
      },
      "source": [
        "\n",
        "## 提出可否"
      ]
    },
    {
      "cell_type": "code",
      "metadata": {
        "id": "V4T4bucL-Azy",
        "colab": {
          "base_uri": "https://localhost:8080/"
        },
        "outputId": "b030305f-913c-4d0d-bfea-063e0d4a9539"
      },
      "source": [
        "if rnn_ppl_list[-1] > 10:\n",
        "    print(\"RNNの実装に間違いがあります。問1を見直してください。\")\n",
        "elif lstm_ppl_list[-1] > 5:\n",
        "    print(\"LSTMの実装に間違いがあります。問2を見直してください。\")\n",
        "else:\n",
        "    print(\"学習成功です。次のステップに進んでください。\")"
      ],
      "execution_count": 24,
      "outputs": [
        {
          "output_type": "stream",
          "text": [
            "学習成功です。次のステップに進んでください。\n"
          ],
          "name": "stdout"
        }
      ]
    },
    {
      "cell_type": "markdown",
      "metadata": {
        "id": "Q2FutIo3-Az0"
      },
      "source": [
        "## GRU\n",
        "### GRUクラス\n",
        "\n",
        "問3-1. <font color=\"Red\">GRUクラスを完成させてください。</font>\n",
        "\n",
        "GRUクラスの仕様はLSTMクラスとほとんど同じです。\n",
        "\n",
        "各ゲートの計算と通常の順伝播の計算に使用するパラメータを行列にまとめ、一行で計算できるように実装しています。\n",
        "\n",
        "r がリセットゲート、zが更新ゲートを表します。"
      ]
    },
    {
      "cell_type": "code",
      "metadata": {
        "id": "J3lrNddh-Az1"
      },
      "source": [
        "class GRU:\n",
        "    def __init__(self, Wx, Wh):\n",
        "        self.params = [Wx, Wh]\n",
        "        self.grads = [np.zeros_like(Wx), np.zeros_like(Wh)]\n",
        "        self.cache = None\n",
        "\n",
        "    def forward(self, x, h_prev):\n",
        "        Wx, Wh = self.params\n",
        "        H, H3 = Wh.shape\n",
        "        Wxz, Wxr, Wx = Wx[:, :H], Wx[:, H:2 * H], Wx[:, 2 * H:]\n",
        "        Whz, Whr, Wh = Wh[:, :H], Wh[:, H:2 * H], Wh[:, 2 * H:]\n",
        "\n",
        "        z = sigmoid(np.dot(x, Wxz) + np.dot(h_prev, Whz))\n",
        "        r = sigmoid(np.dot(x, Wxr) + np.dot(h_prev, Whr))\n",
        "        h_hat = np.tanh(np.dot(x, Wx) + np.dot(r*h_prev, Wh))\n",
        "        h_next = (1-z) * h_prev + z * h_hat ######問3.1.1######\n",
        "\n",
        "        self.cache = (x, h_prev, z, r, h_hat)\n",
        "\n",
        "        return h_next\n",
        "\n",
        "\n",
        "    def backward(self, dh_next):\n",
        "        Wx, Wh = self.params\n",
        "        H, H3 = Wh.shape\n",
        "        Wxz, Wxr, Wx = Wx[:, :H], Wx[:, H:2 * H], Wx[:, 2 * H:]\n",
        "        Whz, Whr, Wh = Wh[:, :H], Wh[:, H:2 * H], Wh[:, 2 * H:]\n",
        "        x, h_prev, z, r, h_hat = self.cache\n",
        "\n",
        "        dh_hat =dh_next * z\n",
        "        dh_prev = dh_next * (1-z)\n",
        "\n",
        "        dt = dh_hat * (1 - h_hat ** 2)\n",
        "        dWh = np.dot((r * h_prev).T, dt)\n",
        "        dhr = np.dot(dt, Wh.T)\n",
        "        dWx = np.dot(x.T, dt)\n",
        "        dx = np.dot(dt, Wx.T)\n",
        "        dh_prev += r * dhr\n",
        "\n",
        "        dz = dh_next * h_hat - dh_next * h_prev\n",
        "        dt = dz * z * (1-z)\n",
        "        dWhz = np.dot(h_prev.T, dt)\n",
        "        dh_prev += np.dot(dt, Whz.T)\n",
        "        dWxz = np.dot(x.T, dt)\n",
        "        dx += np.dot(dt, Wxz.T)\n",
        "\n",
        "        dr = dhr * h_prev\n",
        "        dt = dr * r * (1-r)\n",
        "        dWhr = np.dot(h_prev.T, dt)\n",
        "        dh_prev += np.dot(dt, Whr.T)\n",
        "        dWxr = np.dot(x.T, dt)\n",
        "        dx += np.dot(dt, Wxr.T)\n",
        "\n",
        "        dWx = np.hstack((dWxz, dWxr, dWx))\n",
        "        dWh = np.hstack((dWhz, dWhr, dWh))\n",
        "        \n",
        "        self.grads[0][...] = dWx\n",
        "        self.grads[1][...] = dWh\n",
        "\n",
        "\n",
        "        return dx, dh_prev\n"
      ],
      "execution_count": 25,
      "outputs": []
    },
    {
      "cell_type": "markdown",
      "metadata": {
        "id": "t7TYSfoi-Az2"
      },
      "source": [
        "### TimeGRUクラス\n",
        "\n",
        "問3-2. <font color=\"Red\">TimeGRUクラスを完成させてください。</font>\n",
        "\n",
        "TimeGRUクラスの仕様はTimeLSTMクラスとほとんど同じです。\n"
      ]
    },
    {
      "cell_type": "code",
      "metadata": {
        "id": "-jclSpgq-Az3"
      },
      "source": [
        "class TimeGRU:\n",
        "    def __init__(self, input_size, output_size, stateful=False):\n",
        "        D, H = input_size, output_size\n",
        "        rn = np.random.randn\n",
        "        np.random.seed(0)\n",
        "        \n",
        "        Wx = (rn(D, 3*H) / np.sqrt(D)).astype('f') ######問3.2.1######\n",
        "        Wh = (rn(D, 3*H) / np.sqrt(H)).astype('f') ######問3.2.2######\n",
        "\n",
        "        self.params = [Wx, Wh]\n",
        "        self.grads = [np.zeros_like(Wx), np.zeros_like(Wh)]\n",
        "        self.layers = None\n",
        "        self.h = None\n",
        "        self.stateful = stateful\n",
        "\n",
        "    def forward(self, xs):\n",
        "        Wx, Wh = self.params\n",
        "        N, T, D = xs.shape\n",
        "        H, H3 = Wh.shape\n",
        "\n",
        "        self.layers = []\n",
        "        hs = np.empty((N, T, H), dtype='f')\n",
        "\n",
        "        if not self.stateful or self.h is None:\n",
        "            self.h = np.zeros((N, H), dtype='f')\n",
        "\n",
        "        for t in range(T):\n",
        "            layer = GRU(*self.params)\n",
        "            self.h = layer.forward(xs[:, t, :], self.h) ######問3.2.3######\n",
        "            hs[:, t, :] = self.h\n",
        "            self.layers.append(layer)\n",
        "\n",
        "        return hs\n",
        "\n",
        "    def backward(self, dhs):\n",
        "        Wx, Wh = self.params\n",
        "        N, T, H = dhs.shape\n",
        "        D = Wx.shape[0]\n",
        "\n",
        "        dxs = np.empty((N, T, D), dtype='f')\n",
        "        grads = [0,0]\n",
        "        dh = 0\n",
        "        for t in reversed(range(T)):\n",
        "            layer = self.layers[t]\n",
        "            dx, dh = layer.backward(dhs[:, t, :] + dh) ######問3.2.4######\n",
        "\n",
        "            dxs[:, t, :] = dx\n",
        "            for i, grad in enumerate(layer.grads):\n",
        "                grads[i] += grad\n",
        "            \n",
        "        for i, grad in enumerate(grads):\n",
        "            self.grads[i][...] = grad\n",
        "\n",
        "        return dxs\n",
        "\n",
        "    def set_state(self, h):\n",
        "        self.h = h\n",
        "\n",
        "    def reset_state(self):\n",
        "        self.h = None\n"
      ],
      "execution_count": 26,
      "outputs": []
    },
    {
      "cell_type": "markdown",
      "metadata": {
        "id": "UxL7g9mu-Az5"
      },
      "source": [
        "### GRUNetworkクラス\n",
        "\n"
      ]
    },
    {
      "cell_type": "code",
      "metadata": {
        "id": "_vrYrBg--Az6"
      },
      "source": [
        "class GRUNetwork:\n",
        "    def __init__(self, vocab_size=10000, wordvec_size=100, hidden_size=100):\n",
        "        V, D, H = vocab_size, wordvec_size, hidden_size\n",
        "        rn = np.random.randn\n",
        "        np.random.seed(0)\n",
        "\n",
        "        # 重みの初期化\n",
        "        embed_W = (rn(V, D) / 100).astype('f')\n",
        "        affine_W = (rn(H, V) / np.sqrt(H)).astype('f')\n",
        "        affine_b = np.zeros(V).astype('f')\n",
        "\n",
        "        # レイヤの生成\n",
        "        self.layers = [\n",
        "            TimeEmbedding(embed_W),\n",
        "            TimeGRU(D, H, stateful=True),\n",
        "            TimeAffine(affine_W, affine_b)\n",
        "        ]\n",
        "        self.loss_layer = TimeSoftmaxWithLoss()\n",
        "        self.lstm_layer = self.layers[1]\n",
        "\n",
        "        # すべての重みと勾配をリストにまとめる\n",
        "        self.params, self.grads = [], []\n",
        "        for layer in self.layers:\n",
        "            self.params += layer.params\n",
        "            self.grads += layer.grads\n",
        "\n",
        "    def predict(self, xs):\n",
        "        for layer in self.layers:\n",
        "            xs = layer.forward(xs)\n",
        "        return xs\n",
        "\n",
        "    def forward(self, xs, ts):\n",
        "        score = self.predict(xs)\n",
        "        loss = self.loss_layer.forward(score, ts)\n",
        "        return loss\n",
        "\n",
        "    def backward(self, dout=1):\n",
        "        dout = self.loss_layer.backward(dout)\n",
        "        for layer in reversed(self.layers):\n",
        "            dout = layer.backward(dout)\n",
        "        return dout\n",
        "\n",
        "    def reset_state(self):\n",
        "        self.lstm_layer.reset_state()\n"
      ],
      "execution_count": 27,
      "outputs": []
    },
    {
      "cell_type": "markdown",
      "metadata": {
        "id": "yxbAcqGa-Az8"
      },
      "source": [
        "## 学習、評価\n",
        "\n",
        "ハイパーパラメータなどは先ほどのRNN・LSTMと全て共通で学習させます。\n",
        "\n",
        "40エポックでperplexity が5以下となっていれば学習成功です。"
      ]
    },
    {
      "cell_type": "code",
      "metadata": {
        "id": "QL1EbV7v-Az9",
        "scrolled": true,
        "colab": {
          "base_uri": "https://localhost:8080/"
        },
        "outputId": "dd15cf46-4af7-4d8a-89e5-f099c54f7c52"
      },
      "source": [
        "model = GRUNetwork(vocab_size, wordvec_size, hidden_size)\n",
        "\n",
        "time_idx = 0\n",
        "total_loss = 0\n",
        "loss_count = 0\n",
        "gru_ppl_list = []\n",
        "\n",
        "for epoch in range(max_epoch):\n",
        "    for iter in range(max_iters):\n",
        "        # ミニバッチの取得\n",
        "        batch_x = np.empty((batch_size, time_size), dtype='i')\n",
        "        batch_t = np.empty((batch_size, time_size), dtype='i')\n",
        "        for t in range(time_size):\n",
        "            for i, offset in enumerate(offsets):\n",
        "                batch_x[i, t] = xs[(offset + time_idx) % data_size]\n",
        "                batch_t[i, t] = ts[(offset + time_idx) % data_size]\n",
        "            time_idx += 1\n",
        "\n",
        "        # 勾配を求め、パラメータを更新\n",
        "        loss = model.forward(batch_x, batch_t)\n",
        "        model.backward()\n",
        "        if max_grad is not None:\n",
        "            clip_grads(model.grads, max_grad)\n",
        "\n",
        "        optimizer.update(model.params, model.grads)\n",
        "        total_loss += loss\n",
        "        loss_count += 1\n",
        "\n",
        "    # エポックごとにパープレキシティの評価\n",
        "    ppl = np.exp(total_loss / loss_count)\n",
        "    print('| epoch %d | perplexity %.2f'\n",
        "          % (epoch+1, ppl))\n",
        "    gru_ppl_list.append(float(ppl))\n",
        "    total_loss, loss_count = 0, 0\n"
      ],
      "execution_count": 28,
      "outputs": [
        {
          "output_type": "stream",
          "text": [
            "| epoch 1 | perplexity 288.44\n",
            "| epoch 2 | perplexity 204.04\n",
            "| epoch 3 | perplexity 170.58\n",
            "| epoch 4 | perplexity 121.40\n",
            "| epoch 5 | perplexity 77.48\n",
            "| epoch 6 | perplexity 47.27\n",
            "| epoch 7 | perplexity 31.21\n",
            "| epoch 8 | perplexity 20.84\n",
            "| epoch 9 | perplexity 13.75\n",
            "| epoch 10 | perplexity 9.34\n",
            "| epoch 11 | perplexity 6.24\n",
            "| epoch 12 | perplexity 4.44\n",
            "| epoch 13 | perplexity 3.38\n",
            "| epoch 14 | perplexity 2.62\n",
            "| epoch 15 | perplexity 2.13\n",
            "| epoch 16 | perplexity 1.75\n",
            "| epoch 17 | perplexity 1.58\n",
            "| epoch 18 | perplexity 1.44\n",
            "| epoch 19 | perplexity 1.35\n",
            "| epoch 20 | perplexity 1.31\n",
            "| epoch 21 | perplexity 1.25\n",
            "| epoch 22 | perplexity 1.20\n",
            "| epoch 23 | perplexity 1.19\n",
            "| epoch 24 | perplexity 1.14\n",
            "| epoch 25 | perplexity 1.13\n",
            "| epoch 26 | perplexity 1.11\n",
            "| epoch 27 | perplexity 1.11\n",
            "| epoch 28 | perplexity 1.06\n",
            "| epoch 29 | perplexity 1.07\n",
            "| epoch 30 | perplexity 1.04\n",
            "| epoch 31 | perplexity 1.04\n",
            "| epoch 32 | perplexity 1.03\n",
            "| epoch 33 | perplexity 1.02\n",
            "| epoch 34 | perplexity 1.01\n",
            "| epoch 35 | perplexity 1.01\n",
            "| epoch 36 | perplexity 1.01\n",
            "| epoch 37 | perplexity 1.01\n",
            "| epoch 38 | perplexity 1.01\n",
            "| epoch 39 | perplexity 1.01\n",
            "| epoch 40 | perplexity 1.01\n"
          ],
          "name": "stdout"
        }
      ]
    },
    {
      "cell_type": "markdown",
      "metadata": {
        "id": "G80Gpmza-A0A"
      },
      "source": [
        "GRUとLSTM、RNNの学習結果を比較し、GRUがLSTMと同様（若しくはそれ以上）の性能を持っていることを確認してください。"
      ]
    },
    {
      "cell_type": "code",
      "metadata": {
        "id": "nyRMCYbX-A0B",
        "scrolled": true,
        "colab": {
          "base_uri": "https://localhost:8080/",
          "height": 279
        },
        "outputId": "5dabb42c-5bc6-4524-e3fd-34c0702acf28"
      },
      "source": [
        "import matplotlib.pyplot as plt\n",
        "plt.plot(range(max_epoch), rnn_ppl_list)\n",
        "plt.plot(range(max_epoch), lstm_ppl_list)\n",
        "plt.plot(range(max_epoch), gru_ppl_list)\n",
        "plt.legend([\"RNN\", \"LSTM\", \"GRU\"])\n",
        "plt.xlabel(\"#epoch\")\n",
        "plt.ylabel(\"perplexity\")\n",
        "plt.show()"
      ],
      "execution_count": 29,
      "outputs": [
        {
          "output_type": "display_data",
          "data": {
            "image/png": "[encoded data removed]",
            "text/plain": [
              "<Figure size 432x288 with 1 Axes>"
            ]
          },
          "metadata": {
            "tags": [],
            "needs_background": "light"
          }
        }
      ]
    },
    {
      "cell_type": "markdown",
      "metadata": {
        "id": "8-QQl5QZ-A0D"
      },
      "source": [
        "\n",
        "## 提出可否"
      ]
    },
    {
      "cell_type": "code",
      "metadata": {
        "id": "lpWhGBYN-A0D",
        "colab": {
          "base_uri": "https://localhost:8080/"
        },
        "outputId": "79b3e170-4aa3-4dc9-9bf0-af45ff1b57f9"
      },
      "source": [
        "if gru_ppl_list[-1] > 5:\n",
        "    print(\"GRUの実装に間違いがあります。問3を見直してください。\")\n",
        "else:\n",
        "    print(\"学習成功です。次のステップに進んでください。\")"
      ],
      "execution_count": 30,
      "outputs": [
        {
          "output_type": "stream",
          "text": [
            "学習成功です。次のステップに進んでください。\n"
          ],
          "name": "stdout"
        }
      ]
    },
    {
      "cell_type": "markdown",
      "metadata": {
        "id": "g9ZeqQfS-A0F"
      },
      "source": [
        "## Classification\n",
        "では実際にRNNやLSTMを用いて実践的な問題を解いていきましょう。\n",
        "\n",
        "今回解いていくタスクは二値分類なので、まずは出力層の活性化と損失関数をつなげたSigmoidWithLossクラスを定義します。"
      ]
    },
    {
      "cell_type": "code",
      "metadata": {
        "id": "3vrQMLkm-A0F"
      },
      "source": [
        "class SigmoidWithLoss:\n",
        "    def __init__(self):\n",
        "        self.params, self.grads = [], []\n",
        "        self.loss = None\n",
        "        self.y = None\n",
        "        self.t = None\n",
        "        \n",
        "    def forward(self, x, t):\n",
        "        self.t = t\n",
        "        x = x.flatten()\n",
        "        self.y = sigmoid(x)\n",
        "        self.loss = -np.mean(np.log(self.y + 1e-7) * t + np.log(1 - self.y + 1e-7) * (1 - t))\n",
        "        return self.loss\n",
        "    \n",
        "    def backward(self, dout=1):\n",
        "        batch_size = self.t.shape[0]\n",
        "        dx = (self.y - self.t)/batch_size\n",
        "        dx = dx.reshape(-1,1)\n",
        "        return dx"
      ],
      "execution_count": 31,
      "outputs": []
    },
    {
      "cell_type": "markdown",
      "metadata": {
        "id": "p0r8DMHJ-A0H"
      },
      "source": [
        "## データセットの用意\n",
        "\n",
        "今回使用するデータは \"movie review\" と呼ばれる映画の評論記事の分類問題です。\n",
        "評論記事に対して「1(positive)」「0(negative)」の二値がラベルとして付与されています。"
      ]
    },
    {
      "cell_type": "code",
      "metadata": {
        "id": "hBxRZA55-A0H"
      },
      "source": [
        "from gensim.models import word2vec\n",
        "import gensim.downloader as api\n",
        "from sklearn.model_selection import train_test_split"
      ],
      "execution_count": 32,
      "outputs": []
    },
    {
      "cell_type": "code",
      "metadata": {
        "id": "FYaC0Zar0VIG"
      },
      "source": [
        "def load_movie_reviews():\n",
        "    from nltk.corpus import movie_reviews\n",
        "    try:\n",
        "        movie_reviews.categories()\n",
        "    except:\n",
        "        import nltk\n",
        "        nltk.download('movie_reviews')\n",
        "        from nltk.corpus import movie_reviews\n",
        "    raw_data = []\n",
        "\n",
        "    # NLTK's corpus is structured in an interesting way\n",
        "    # first iterate through the two categories (pos and neg)\n",
        "    for category in movie_reviews.categories():\n",
        "\n",
        "        if category == 'pos':\n",
        "            label = '1'\n",
        "        elif category == 'neg':\n",
        "            label = '0'\n",
        "\n",
        "        # each of these categories is just fileids, so grab those\n",
        "        for fileid in movie_reviews.fileids(category):\n",
        "            # then each review is a NLTK class where each item in that class instance is a word\n",
        "            review_words = list(movie_reviews.words(fileid))\n",
        "            if len(review_words) >= 400:\n",
        "                review_words = review_words[:400]\n",
        "            else:\n",
        "                review_words.extend([\" \" for i in range(400 - len(review_words))])\n",
        "            review_dictionary = {\n",
        "                'text': review_words,\n",
        "                'label': label\n",
        "            }\n",
        "\n",
        "            raw_data.append(review_dictionary)\n",
        "\n",
        "    return raw_data "
      ],
      "execution_count": 33,
      "outputs": []
    },
    {
      "cell_type": "code",
      "metadata": {
        "id": "z3Q0F0VK-A0M"
      },
      "source": [
        "if os.path.exists(\"data.pkl\"):\n",
        "    f = open(\"data.pkl\", \"rb\")\n",
        "    data = pickle.load(f)\n",
        "    f.close()\n",
        "else:\n",
        "    data = load_movie_reviews()\n",
        "    f = open(\"data.pkl\", \"wb\")\n",
        "    pickle.dump(data,f)\n",
        "    f.close()"
      ],
      "execution_count": 34,
      "outputs": []
    },
    {
      "cell_type": "markdown",
      "metadata": {
        "id": "WUPxiQj4-A0O"
      },
      "source": [
        "## Embedder の用意\n",
        "\n",
        "先ほどの例ではEmbed層をネットワーク内に含めていましたが、Embed 層も含めて学習をすると時間がかかってしまうため、今回はあらかじめ用意された embedder を使用してネットワークに入れる前に単語列をベクトル化しておきます。\n",
        "\n",
        "embedderモデルのダウンロードには時間がかかりますのでご注意ください。"
      ]
    },
    {
      "cell_type": "code",
      "metadata": {
        "id": "Z6IvEiQ5-A0R"
      },
      "source": [
        "if os.path.exists(\"embedder.model\"):\n",
        "    model = word2vec.Word2VecKeyedVectors.load_word2vec_format(\"embedder.model\")\n",
        "else:\n",
        "    model = api.load(\"glove-twitter-25\")\n",
        "    model.save_word2vec_format(\"embedder.model\")"
      ],
      "execution_count": 35,
      "outputs": []
    },
    {
      "cell_type": "code",
      "metadata": {
        "id": "oocxBSPH-A0T"
      },
      "source": [
        "def embed_one_word_via_model(word, model):\n",
        "    try:\n",
        "        return model[word]\n",
        "    except:\n",
        "        return np.zeros(model.vector_size)"
      ],
      "execution_count": 36,
      "outputs": []
    },
    {
      "cell_type": "code",
      "metadata": {
        "id": "vy8BecrW-A0V",
        "scrolled": true
      },
      "source": [
        "embedding = []\n",
        "labels = []\n",
        "for d in data:\n",
        "    embedding.append(np.array([embed_one_word_via_model(word,model) for word in d[\"text\"]]))\n",
        "    labels.append(int(d[\"label\"]))\n",
        "embedding = np.array(embedding)\n",
        "labels = np.array(labels)\n",
        "\n",
        "X_train, X_test, T_train, T_test = train_test_split(embedding, labels, random_state=0)"
      ],
      "execution_count": 37,
      "outputs": []
    },
    {
      "cell_type": "code",
      "metadata": {
        "colab": {
          "base_uri": "https://localhost:8080/"
        },
        "id": "inZ4R8ppBxZN",
        "outputId": "d5c6ef5e-8552-4301-8264-130cdedede43"
      },
      "source": [
        "X_train.shape"
      ],
      "execution_count": 38,
      "outputs": [
        {
          "output_type": "execute_result",
          "data": {
            "text/plain": [
              "(1500, 400, 25)"
            ]
          },
          "metadata": {
            "tags": []
          },
          "execution_count": 38
        }
      ]
    },
    {
      "cell_type": "code",
      "metadata": {
        "colab": {
          "base_uri": "https://localhost:8080/"
        },
        "id": "3CKUY35mCC_n",
        "outputId": "45ba35dc-5a1c-44a9-ec4f-045c4e5b3b4c"
      },
      "source": [
        "X_test.shape"
      ],
      "execution_count": 39,
      "outputs": [
        {
          "output_type": "execute_result",
          "data": {
            "text/plain": [
              "(500, 400, 25)"
            ]
          },
          "metadata": {
            "tags": []
          },
          "execution_count": 39
        }
      ]
    },
    {
      "cell_type": "code",
      "metadata": {
        "colab": {
          "base_uri": "https://localhost:8080/"
        },
        "id": "gOQMYmZECGTO",
        "outputId": "8fa38c20-ec94-461b-9e69-302a3e5c01d2"
      },
      "source": [
        "X_train[0]"
      ],
      "execution_count": 40,
      "outputs": [
        {
          "output_type": "execute_result",
          "data": {
            "text/plain": [
              "array([[ 0.41813999,  0.24762   , -0.70973998, ...,  0.054649  ,\n",
              "         1.39170003,  1.36479998],\n",
              "       [ 0.49653   ,  1.14349997, -0.28608999, ..., -0.40377   ,\n",
              "         0.61923999,  0.53939998],\n",
              "       [-0.034565  ,  0.49428999,  0.17151   , ...,  1.24419999,\n",
              "        -0.15908   ,  0.46118999],\n",
              "       ...,\n",
              "       [ 0.34127   , -0.43347999, -0.35918   , ...,  0.13423   ,\n",
              "         0.57839   ,  1.074     ],\n",
              "       [ 0.84705001, -1.03489995, -0.050419  , ..., -1.17320001,\n",
              "         0.58196002,  0.33846   ],\n",
              "       [-0.35518   ,  0.48030001,  0.49680999, ...,  0.29954001,\n",
              "         0.43855   , -0.40954   ]])"
            ]
          },
          "metadata": {
            "tags": []
          },
          "execution_count": 40
        }
      ]
    },
    {
      "cell_type": "markdown",
      "metadata": {
        "id": "XtARJu9j-A0X"
      },
      "source": [
        "## ネットワーク の用意\n",
        "問4-1. <font color=\"Red\">以下の SimpleRNNClassifier, LSTMClassifier クラスを完成させてください。</font>\n",
        "\n",
        "先ほどの問題では各時刻の入力に対して一つずつ出力が計算されましたが、今回のタスクにおいては、全時刻の入力データに対して一つの出力を計算します。\n",
        "\n",
        "そのため、順伝播においてRNN層やLSTM層の出力に対して、時系列のうち最終出力のみを取り出し、Affine層に入力します。"
      ]
    },
    {
      "cell_type": "code",
      "metadata": {
        "id": "WXX5-R79-A0Y"
      },
      "source": [
        "class SimpleRNNClassifier:\n",
        "    def __init__(self, wordvec_size, hidden_size):\n",
        "        D, H = wordvec_size, hidden_size\n",
        "        rn = np.random.randn\n",
        "        np.random.seed(0)\n",
        "\n",
        "        # 重みの初期化\n",
        "        rnn_Wx = (rn(D, H) / np.sqrt(D)).astype('f')\n",
        "        rnn_Wh = (rn(H, H) / np.sqrt(H)).astype('f')\n",
        "        rnn_b = np.zeros(H).astype('f')\n",
        "        affine_W = (rn(H, 1) / np.sqrt(H)).astype('f')\n",
        "        affine_b = np.zeros(1).astype('f')\n",
        "\n",
        "        # レイヤの生成\n",
        "        self.affine_layer = Affine(affine_W, affine_b)\n",
        "        self.loss_layer = SigmoidWithLoss()\n",
        "        self.rnn_layer = TimeRNN(D, H, stateful=False)\n",
        "\n",
        "        # すべての重みと勾配をリストにまとめる\n",
        "        self.params, self.grads = [], []\n",
        "        self.params += self.rnn_layer.params\n",
        "        self.grads += self.rnn_layer.grads\n",
        "        self.params += self.affine_layer.params\n",
        "        self.grads += self.affine_layer.grads\n",
        "\n",
        "    def forward(self, xs, ts):\n",
        "        xs = self.predict(xs)\n",
        "        loss = self.loss_layer.forward(xs, ts)\n",
        "        return loss\n",
        "    \n",
        "    def predict(self, xs):\n",
        "        xs = self.rnn_layer.forward(xs)[:,-1,:] #[######問4.1.1######] \n",
        "        xs = self.affine_layer.forward(xs)\n",
        "        return xs\n",
        "\n",
        "    def backward(self, dout=1):\n",
        "        dout = self.loss_layer.backward(dout)\n",
        "        dout = self.affine_layer.backward(dout)\n",
        "        dout = self.rnn_layer.backward(dout)\n",
        "        return dout\n",
        "\n",
        "    def reset_state(self):\n",
        "        self.rnn_layer.reset_state()\n"
      ],
      "execution_count": 41,
      "outputs": []
    },
    {
      "cell_type": "code",
      "metadata": {
        "id": "kYFDYsE7-A0b"
      },
      "source": [
        "class LSTMClassifier:\n",
        "    def __init__(self, wordvec_size, hidden_size):\n",
        "        D, H = wordvec_size, hidden_size\n",
        "        rn = np.random.randn\n",
        "        np.random.seed(0)\n",
        "\n",
        "        # 重みの初期化\n",
        "        rnn_Wx = (rn(D, 4*H) / np.sqrt(D)).astype('f')\n",
        "        rnn_Wh = (rn(H, 4*H) / np.sqrt(H)).astype('f')\n",
        "        rnn_b = np.zeros(4*H).astype('f')\n",
        "        affine_W = (rn(H, 1) / np.sqrt(H)).astype('f')\n",
        "        affine_b = np.zeros(1).astype('f')\n",
        "\n",
        "        # レイヤの生成\n",
        "        self.affine_layer = Affine(affine_W, affine_b)\n",
        "        self.loss_layer = SigmoidWithLoss()\n",
        "        self.rnn_layer = TimeLSTM(D, H, stateful=False)\n",
        "\n",
        "        # すべての重みと勾配をリストにまとめる\n",
        "        self.params, self.grads = [], []\n",
        "        self.params += self.rnn_layer.params\n",
        "        self.grads += self.rnn_layer.grads\n",
        "        self.params += self.affine_layer.params\n",
        "        self.grads += self.affine_layer.grads\n",
        "\n",
        "    def forward(self, xs, ts):\n",
        "        xs = self.predict(xs)\n",
        "        loss = self.loss_layer.forward(xs, ts)\n",
        "        return loss\n",
        "    \n",
        "    def predict(self, xs):\n",
        "        xs = self.rnn_layer.forward(xs)[:,-1,:] #[######問4.1.2######] \n",
        "        xs = self.affine_layer.forward(xs)\n",
        "        return xs\n",
        "\n",
        "    def backward(self, dout=1):\n",
        "        dout = self.loss_layer.backward(dout)\n",
        "        dout = self.affine_layer.backward(dout)\n",
        "        dout = self.rnn_layer.backward(dout)\n",
        "        return dout\n",
        "\n",
        "    def reset_state(self):\n",
        "        self.rnn_layer.reset_state()\n"
      ],
      "execution_count": 42,
      "outputs": []
    },
    {
      "cell_type": "markdown",
      "metadata": {
        "id": "OXDRZyAX-A0e"
      },
      "source": [
        "## 学習の実行\n",
        "今回のタスクにおいては、RNNではうまく学習が行われず損失があまり減少してくれません。\n",
        "\n",
        "対してLSTMでは、環境によって結果に差は出ますが、RNNに比べると順調に損失が減少します。\n",
        "\n",
        "学習の実行には少々時間がかかるため、注意してください。\n",
        "\n",
        "※実行した際に「ValueError: operands could not be broadcast together with shapes (100,325) (100,25)」というエラーが発生した場合、<br>\n",
        "　問2.2.1、問2.2.2のWx, Whの指定を見直して下さい。"
      ]
    },
    {
      "cell_type": "code",
      "metadata": {
        "id": "m7GontpJ-A0f"
      },
      "source": [
        "lr = 0.01\n",
        "n_epoch = 10\n",
        "eval_interval = 5"
      ],
      "execution_count": 43,
      "outputs": []
    },
    {
      "cell_type": "code",
      "metadata": {
        "id": "jl4z5nq7-A0h",
        "scrolled": false,
        "colab": {
          "base_uri": "https://localhost:8080/"
        },
        "outputId": "96e19ecc-0739-4166-d774-e87f62ee52f3"
      },
      "source": [
        "rnn_model = SimpleRNNClassifier(25, 100)\n",
        "lstm_model = LSTMClassifier(25, 100)\n",
        "optimizer1 = Adam(lr)\n",
        "optimizer2 = Adam(lr)\n",
        "batch_size = 100\n",
        "rnn_loss_list = []\n",
        "lstm_loss_list = []\n",
        "\n",
        "np.random.seed(0)\n",
        "for epoch in range(n_epoch):\n",
        "    total_rnn_loss = 0\n",
        "    total_lstm_loss = 0\n",
        "    perm = np.random.permutation(len(X_train))\n",
        "    for i, idx in enumerate(range(0, len(X_train), batch_size)):\n",
        "        X_batch = X_train[perm[idx:idx+batch_size]]\n",
        "        T_batch = T_train[perm[idx:idx+batch_size]]\n",
        "        \n",
        "        rnn_loss = rnn_model.forward(X_batch, T_batch)\n",
        "        rnn_model.backward()\n",
        "        optimizer1.update(rnn_model.params, rnn_model.grads)\n",
        "        total_rnn_loss += rnn_loss*len(X_batch)\n",
        "        \n",
        "        lstm_loss = lstm_model.forward(X_batch, T_batch)\n",
        "        lstm_model.backward()\n",
        "        optimizer2.update(lstm_model.params, lstm_model.grads)\n",
        "        total_lstm_loss += lstm_loss*len(X_batch)\n",
        "        if i % eval_interval == 0:\n",
        "            print('| idx %d / %d | RNN loss %.2f | LSTM loss %.2f |'\n",
        "                 %(idx, len(X_train), total_rnn_loss/(idx+batch_size), total_lstm_loss/(idx+batch_size)))\n",
        "    average_rnn_loss = total_rnn_loss / len(X_train)\n",
        "    rnn_loss_list.append(average_rnn_loss)\n",
        "    average_lstm_loss = total_lstm_loss / len(X_train)\n",
        "    lstm_loss_list.append(average_lstm_loss)\n",
        "    rnn_pred = rnn_model.predict(X_test).flatten()\n",
        "    lstm_pred = lstm_model.predict(X_test).flatten()\n",
        "    rnn_accuracy = ((rnn_pred > 0) == T_test).mean() * 100\n",
        "    lstm_accuracy = ((lstm_pred > 0) == T_test).mean() * 100\n",
        "    print('| epoch %d | RNN loss %.2f | LSTM loss %.2f | RNN accuracy %.2f | LSTM accuracy %.2f'\n",
        "          % (epoch+1, average_rnn_loss, average_lstm_loss, rnn_accuracy, lstm_accuracy))"
      ],
      "execution_count": 44,
      "outputs": [
        {
          "output_type": "stream",
          "text": [
            "| idx 0 / 1500 | RNN loss 0.71 | LSTM loss 0.71 |\n",
            "| idx 500 / 1500 | RNN loss 0.82 | LSTM loss 0.72 |\n",
            "| idx 1000 / 1500 | RNN loss 0.78 | LSTM loss 0.71 |\n",
            "| epoch 1 | RNN loss 0.77 | LSTM loss 0.71 | RNN accuracy 50.60 | LSTM accuracy 50.80\n",
            "| idx 0 / 1500 | RNN loss 0.71 | LSTM loss 0.70 |\n",
            "| idx 500 / 1500 | RNN loss 0.68 | LSTM loss 0.68 |\n",
            "| idx 1000 / 1500 | RNN loss 0.69 | LSTM loss 0.68 |\n",
            "| epoch 2 | RNN loss 0.69 | LSTM loss 0.68 | RNN accuracy 49.60 | LSTM accuracy 52.00\n",
            "| idx 0 / 1500 | RNN loss 0.63 | LSTM loss 0.66 |\n",
            "| idx 500 / 1500 | RNN loss 0.66 | LSTM loss 0.68 |\n",
            "| idx 1000 / 1500 | RNN loss 0.66 | LSTM loss 0.67 |\n",
            "| epoch 3 | RNN loss 0.66 | LSTM loss 0.66 | RNN accuracy 51.20 | LSTM accuracy 52.20\n",
            "| idx 0 / 1500 | RNN loss 0.67 | LSTM loss 0.66 |\n",
            "| idx 500 / 1500 | RNN loss 0.62 | LSTM loss 0.63 |\n",
            "| idx 1000 / 1500 | RNN loss 0.63 | LSTM loss 0.63 |\n",
            "| epoch 4 | RNN loss 0.63 | LSTM loss 0.63 | RNN accuracy 53.80 | LSTM accuracy 53.40\n",
            "| idx 0 / 1500 | RNN loss 0.60 | LSTM loss 0.63 |\n",
            "| idx 500 / 1500 | RNN loss 0.61 | LSTM loss 0.58 |\n",
            "| idx 1000 / 1500 | RNN loss 0.60 | LSTM loss 0.58 |\n",
            "| epoch 5 | RNN loss 0.60 | LSTM loss 0.57 | RNN accuracy 53.00 | LSTM accuracy 50.60\n",
            "| idx 0 / 1500 | RNN loss 0.51 | LSTM loss 0.47 |\n",
            "| idx 500 / 1500 | RNN loss 0.54 | LSTM loss 0.53 |\n",
            "| idx 1000 / 1500 | RNN loss 0.55 | LSTM loss 0.51 |\n",
            "| epoch 6 | RNN loss 0.58 | LSTM loss 0.51 | RNN accuracy 52.20 | LSTM accuracy 50.80\n",
            "| idx 0 / 1500 | RNN loss 0.73 | LSTM loss 0.52 |\n",
            "| idx 500 / 1500 | RNN loss 0.71 | LSTM loss 0.44 |\n",
            "| idx 1000 / 1500 | RNN loss 0.70 | LSTM loss 0.45 |\n",
            "| epoch 7 | RNN loss 0.70 | LSTM loss 0.45 | RNN accuracy 50.40 | LSTM accuracy 50.20\n",
            "| idx 0 / 1500 | RNN loss 0.69 | LSTM loss 0.42 |\n",
            "| idx 500 / 1500 | RNN loss 0.69 | LSTM loss 0.36 |\n",
            "| idx 1000 / 1500 | RNN loss 0.69 | LSTM loss 0.35 |\n",
            "| epoch 8 | RNN loss 0.69 | LSTM loss 0.34 | RNN accuracy 49.20 | LSTM accuracy 52.40\n",
            "| idx 0 / 1500 | RNN loss 0.68 | LSTM loss 0.22 |\n",
            "| idx 500 / 1500 | RNN loss 0.68 | LSTM loss 0.25 |\n",
            "| idx 1000 / 1500 | RNN loss 0.68 | LSTM loss 0.24 |\n",
            "| epoch 9 | RNN loss 0.68 | LSTM loss 0.25 | RNN accuracy 50.40 | LSTM accuracy 49.00\n",
            "| idx 0 / 1500 | RNN loss 0.66 | LSTM loss 0.24 |\n",
            "| idx 500 / 1500 | RNN loss 0.66 | LSTM loss 0.21 |\n",
            "| idx 1000 / 1500 | RNN loss 0.66 | LSTM loss 0.20 |\n",
            "| epoch 10 | RNN loss 0.66 | LSTM loss 0.20 | RNN accuracy 51.20 | LSTM accuracy 51.00\n"
          ],
          "name": "stdout"
        }
      ]
    },
    {
      "cell_type": "code",
      "metadata": {
        "id": "3HhOzPJ0-A0k",
        "colab": {
          "base_uri": "https://localhost:8080/",
          "height": 279
        },
        "outputId": "e5b89f74-538c-4fe3-b5c9-0419a7d6e06f"
      },
      "source": [
        "import matplotlib.pyplot as plt\n",
        "plt.plot(range(n_epoch), rnn_loss_list)\n",
        "plt.plot(range(n_epoch), lstm_loss_list)\n",
        "plt.legend([\"RNN\", \"LSTM\"])\n",
        "plt.xlabel(\"#epoch\")\n",
        "plt.ylabel(\"Cross Entropy Loss\")\n",
        "plt.show()"
      ],
      "execution_count": 45,
      "outputs": [
        {
          "output_type": "display_data",
          "data": {
            "image/png": "[encoded data removed]",
            "text/plain": [
              "<Figure size 432x288 with 1 Axes>"
            ]
          },
          "metadata": {
            "tags": [],
            "needs_background": "light"
          }
        }
      ]
    },
    {
      "cell_type": "markdown",
      "metadata": {
        "id": "4m_igEHD-A0l"
      },
      "source": [
        "## bi-directional LSTM\n",
        "問4-2. <font color=\"Red\">以下の BidirectionalLSTMClassifier クラスを完成させてください。</font>\n",
        "\n",
        "入力系列データに対して、順方向のデータを処理するforward LSTM層と逆方向のデータを処理するbackward LSTM層を用意します。\n",
        "\n",
        "通常のLSTM層とパラメータ数が大きく変わらないように各LSTM層は hidden_size の半分の次元数を出力します。\n",
        "\n",
        "forward LSTM と backward LSTM の出力を横につなげ、affine層に入力し分類タスクを解きます。"
      ]
    },
    {
      "cell_type": "code",
      "metadata": {
        "id": "IgpTdphW-A0m"
      },
      "source": [
        "class BidirectionalLSTMClassifier:\n",
        "    def __init__(self, wordvec_size, hidden_size):\n",
        "        D, H = wordvec_size, hidden_size //2\n",
        "        rn = np.random.randn\n",
        "        np.random.seed(0)\n",
        "\n",
        "        # 重みの初期化\n",
        "        affine_W = (rn(H * 2, 1) / np.sqrt(H)).astype('f')\n",
        "        affine_b = np.zeros(1).astype('f')\n",
        "\n",
        "        # レイヤの生成\n",
        "        self.affine_layer = Affine(affine_W, affine_b)\n",
        "        self.loss_layer = SigmoidWithLoss()\n",
        "        self.forward_rnn_layer = TimeLSTM(D, H, stateful=False)\n",
        "        self.backward_rnn_layer = TimeLSTM(D, H, stateful=False)\n",
        "\n",
        "        # すべての重みと勾配をリストにまとめる\n",
        "        self.params, self.grads = [], []\n",
        "        self.params += self.forward_rnn_layer.params\n",
        "        self.grads += self.forward_rnn_layer.grads\n",
        "        self.params += self.backward_rnn_layer.params\n",
        "        self.grads += self.backward_rnn_layer.grads\n",
        "        self.params += self.affine_layer.params\n",
        "        self.grads += self.affine_layer.grads\n",
        "\n",
        "    def forward(self, xs, ts):\n",
        "        xs = self.predict(xs)\n",
        "        loss = self.loss_layer.forward(xs, ts)\n",
        "        return loss\n",
        "    \n",
        "    def predict(self, xs):\n",
        "        forward_xs = self.forward_rnn_layer.forward(xs)[:,-1,:]\n",
        "        backward_xs = self.backward_rnn_layer.forward(xs[:,::-1,:])[:,-1,:]\n",
        "        xs = np.hstack((forward_xs, backward_xs))\n",
        "        xs = self.affine_layer.forward(xs)\n",
        "        return xs\n",
        "\n",
        "    def backward(self, dout=1):\n",
        "        dout = self.loss_layer.backward(dout)\n",
        "        dout = self.affine_layer.backward(dout)\n",
        "        dout1, dout2 = np.hsplit(dout, 2)\n",
        "        dout1 = self.forward_rnn_layer.backward(dout1)\n",
        "        dout2 = self.backward_rnn_layer.backward(dout2)\n",
        "        return (dout1, dout2)\n",
        "\n",
        "    def reset_state(self):\n",
        "        self.forward_rnn_layer.reset_state()\n",
        "        self.backward_rnn_layer.reset_state()\n",
        "\n"
      ],
      "execution_count": 46,
      "outputs": []
    },
    {
      "cell_type": "markdown",
      "metadata": {
        "id": "74sZCjOy-A0n"
      },
      "source": [
        "## 学習の実行\n",
        "Bidirectional LSTM がLSTMより良い性能を出していることを確認してください。\n",
        "\n",
        "10エポックで損失が0.2を下回っていれば学習成功です。"
      ]
    },
    {
      "cell_type": "code",
      "metadata": {
        "id": "r1OwKNvA-A0o"
      },
      "source": [
        "lr = 0.01\n",
        "n_epoch = 10\n",
        "eval_interval = 5"
      ],
      "execution_count": 47,
      "outputs": []
    },
    {
      "cell_type": "code",
      "metadata": {
        "colab": {
          "base_uri": "https://localhost:8080/"
        },
        "id": "4tsOlga_BXM6",
        "outputId": "2d996bc8-f6fa-4874-9325-b02632f65861"
      },
      "source": [
        "X_test.shape"
      ],
      "execution_count": 48,
      "outputs": [
        {
          "output_type": "execute_result",
          "data": {
            "text/plain": [
              "(500, 400, 25)"
            ]
          },
          "metadata": {
            "tags": []
          },
          "execution_count": 48
        }
      ]
    },
    {
      "cell_type": "code",
      "metadata": {
        "id": "JNRv0_2K-A0p",
        "scrolled": false,
        "colab": {
          "base_uri": "https://localhost:8080/"
        },
        "outputId": "4e2c7b9a-0112-43ff-bc18-5a3873c0be7d"
      },
      "source": [
        "bilstm_model = BidirectionalLSTMClassifier(25, 100)\n",
        "optimizer = Adam(lr)\n",
        "batch_size = 100\n",
        "bilstm_loss_list = []\n",
        "np.random.seed(0)\n",
        "for epoch in range(n_epoch):\n",
        "    total_bilstm_loss = 0\n",
        "    perm = np.random.permutation(len(X_train))\n",
        "    for i, idx in enumerate(range(0, len(X_train), batch_size)):\n",
        "        X_batch = X_train[perm[idx:idx+batch_size]]\n",
        "        T_batch = T_train[perm[idx:idx+batch_size]]\n",
        "        \n",
        "        bilstm_loss = bilstm_model.forward(X_batch, T_batch)\n",
        "        bilstm_model.backward()\n",
        "        optimizer.update(bilstm_model.params, bilstm_model.grads)\n",
        "        total_bilstm_loss += bilstm_loss*len(X_batch)\n",
        "        if i % eval_interval == 0:\n",
        "            print('| idx %d / %d | BiLSTM loss %.2f |'\n",
        "                 %(idx, len(X_train), total_bilstm_loss/(idx+batch_size)))\n",
        "\n",
        "    average_bilstm_loss = total_bilstm_loss / len(X_train)\n",
        "    bilstm_loss_list.append(average_bilstm_loss)\n",
        "    bilstm_pred = bilstm_model.predict(X_test).flatten()\n",
        "    bilstm_accuracy = ((bilstm_pred > 0) == T_test).mean() * 100\n",
        "    print('| epoch %d | BiLSTM loss %.2f | BiLSTM accuracy %.2f'\n",
        "          % (epoch+1, average_bilstm_loss, bilstm_accuracy))"
      ],
      "execution_count": 49,
      "outputs": [
        {
          "output_type": "stream",
          "text": [
            "| idx 0 / 1500 | BiLSTM loss 0.72 |\n",
            "| idx 500 / 1500 | BiLSTM loss 0.71 |\n",
            "| idx 1000 / 1500 | BiLSTM loss 0.71 |\n",
            "| epoch 1 | BiLSTM loss 0.70 | BiLSTM accuracy 50.40\n",
            "| idx 0 / 1500 | BiLSTM loss 0.69 |\n",
            "| idx 500 / 1500 | BiLSTM loss 0.67 |\n",
            "| idx 1000 / 1500 | BiLSTM loss 0.67 |\n",
            "| epoch 2 | BiLSTM loss 0.67 | BiLSTM accuracy 53.00\n",
            "| idx 0 / 1500 | BiLSTM loss 0.63 |\n",
            "| idx 500 / 1500 | BiLSTM loss 0.65 |\n",
            "| idx 1000 / 1500 | BiLSTM loss 0.65 |\n",
            "| epoch 3 | BiLSTM loss 0.64 | BiLSTM accuracy 53.40\n",
            "| idx 0 / 1500 | BiLSTM loss 0.60 |\n",
            "| idx 500 / 1500 | BiLSTM loss 0.60 |\n",
            "| idx 1000 / 1500 | BiLSTM loss 0.59 |\n",
            "| epoch 4 | BiLSTM loss 0.59 | BiLSTM accuracy 49.20\n",
            "| idx 0 / 1500 | BiLSTM loss 0.57 |\n",
            "| idx 500 / 1500 | BiLSTM loss 0.52 |\n",
            "| idx 1000 / 1500 | BiLSTM loss 0.52 |\n",
            "| epoch 5 | BiLSTM loss 0.52 | BiLSTM accuracy 51.40\n",
            "| idx 0 / 1500 | BiLSTM loss 0.47 |\n",
            "| idx 500 / 1500 | BiLSTM loss 0.44 |\n",
            "| idx 1000 / 1500 | BiLSTM loss 0.41 |\n",
            "| epoch 6 | BiLSTM loss 0.42 | BiLSTM accuracy 53.60\n",
            "| idx 0 / 1500 | BiLSTM loss 0.32 |\n",
            "| idx 500 / 1500 | BiLSTM loss 0.29 |\n",
            "| idx 1000 / 1500 | BiLSTM loss 0.30 |\n",
            "| epoch 7 | BiLSTM loss 0.30 | BiLSTM accuracy 54.40\n",
            "| idx 0 / 1500 | BiLSTM loss 0.21 |\n",
            "| idx 500 / 1500 | BiLSTM loss 0.20 |\n",
            "| idx 1000 / 1500 | BiLSTM loss 0.19 |\n",
            "| epoch 8 | BiLSTM loss 0.19 | BiLSTM accuracy 51.00\n",
            "| idx 0 / 1500 | BiLSTM loss 0.10 |\n",
            "| idx 500 / 1500 | BiLSTM loss 0.13 |\n",
            "| idx 1000 / 1500 | BiLSTM loss 0.12 |\n",
            "| epoch 9 | BiLSTM loss 0.12 | BiLSTM accuracy 52.40\n",
            "| idx 0 / 1500 | BiLSTM loss 0.12 |\n",
            "| idx 500 / 1500 | BiLSTM loss 0.10 |\n",
            "| idx 1000 / 1500 | BiLSTM loss 0.12 |\n",
            "| epoch 10 | BiLSTM loss 0.12 | BiLSTM accuracy 50.80\n"
          ],
          "name": "stdout"
        }
      ]
    },
    {
      "cell_type": "code",
      "metadata": {
        "id": "TNat1zIf-A0r",
        "scrolled": true,
        "colab": {
          "base_uri": "https://localhost:8080/",
          "height": 279
        },
        "outputId": "309c8973-e7d4-4ea0-e384-5737d9c48e24"
      },
      "source": [
        "import matplotlib.pyplot as plt\n",
        "plt.plot(range(n_epoch), rnn_loss_list)\n",
        "plt.plot(range(n_epoch), lstm_loss_list)\n",
        "plt.plot(range(n_epoch), bilstm_loss_list)\n",
        "plt.legend([\"RNN\", \"LSTM\", \"BiLSTM\"])\n",
        "plt.xlabel(\"#epoch\")\n",
        "plt.ylabel(\"Cross Entropy Loss\")\n",
        "plt.show()"
      ],
      "execution_count": 50,
      "outputs": [
        {
          "output_type": "display_data",
          "data": {
            "image/png": "[encoded data removed]",
            "text/plain": [
              "<Figure size 432x288 with 1 Axes>"
            ]
          },
          "metadata": {
            "tags": [],
            "needs_background": "light"
          }
        }
      ]
    },
    {
      "cell_type": "markdown",
      "metadata": {
        "id": "NO6x3b-t-A0s"
      },
      "source": [
        "\n",
        "## 提出可否"
      ]
    },
    {
      "cell_type": "code",
      "metadata": {
        "id": "Ie0QOeJt-A0s",
        "colab": {
          "base_uri": "https://localhost:8080/"
        },
        "outputId": "ee050e44-1bda-42d8-eb2f-a2165e0e9f55"
      },
      "source": [
        "if average_bilstm_loss > 0.2:\n",
        "    print(\"RNNの実装に間違いがあります。問4を見直してください。\")\n",
        "else:\n",
        "    print(\"学習成功です。次のステップに進んでください。\")"
      ],
      "execution_count": 51,
      "outputs": [
        {
          "output_type": "stream",
          "text": [
            "学習成功です。次のステップに進んでください。\n"
          ],
          "name": "stdout"
        }
      ]
    },
    {
      "cell_type": "markdown",
      "metadata": {
        "id": "IlswOIfWCvFR"
      },
      "source": [
        "## Seq2Seq\n",
        "## データセット用意"
      ]
    },
    {
      "cell_type": "markdown",
      "metadata": {
        "id": "HOzLPGCk-A0u"
      },
      "source": [
        "Seq2seq を用いてタスクを解いていきます。\n",
        "\n",
        "今回用いるデータセットは、足し算の数式を並べたものになります。数式とその答を全て文字列として考え、足し算の式をLSTMによって一文字ずつ読み込み、その答えを一文字ずつ出力していきます。"
      ]
    },
    {
      "cell_type": "code",
      "metadata": {
        "id": "000wqFK6CvFS"
      },
      "source": [
        "id_to_char = {}\n",
        "char_to_id = {}\n",
        "\n",
        "\n",
        "def _update_vocab(txt):\n",
        "    chars = list(txt)\n",
        "\n",
        "    for i, char in enumerate(chars):\n",
        "        if char not in char_to_id:\n",
        "            tmp_id = len(char_to_id)\n",
        "            char_to_id[char] = tmp_id\n",
        "            id_to_char[tmp_id] = char\n",
        "\n",
        "def load_sequence(file_name='addition.txt'):\n",
        "    file_path = './' + file_name\n",
        "\n",
        "    if not os.path.exists(file_path):\n",
        "        print('No file: %s' % file_name)\n",
        "        return None\n",
        "\n",
        "    questions, answers = [], []\n",
        "\n",
        "    for line in open(file_path, 'r'):\n",
        "        idx = line.find('_')\n",
        "        questions.append(line[:idx])\n",
        "        answers.append(line[idx:-1])\n",
        "\n",
        "    # create vocab dict\n",
        "    for i in range(len(questions)):\n",
        "        q, a = questions[i], answers[i]\n",
        "        _update_vocab(q)\n",
        "        _update_vocab(a)\n",
        "\n",
        "    # create np array\n",
        "    x = np.zeros((len(questions), len(questions[0])), dtype=np.int)\n",
        "    t = np.zeros((len(questions), len(answers[0])), dtype=np.int)\n",
        "\n",
        "    for i, sentence in enumerate(questions):\n",
        "        x[i] = [char_to_id[c] for c in list(sentence)]\n",
        "    for i, sentence in enumerate(answers):\n",
        "        t[i] = [char_to_id[c] for c in list(sentence)]\n",
        "\n",
        "    # shuffle\n",
        "    indices = np.arange(len(x))\n",
        "    np.random.shuffle(indices)\n",
        "    x = x[indices]\n",
        "    t = t[indices]\n",
        "\n",
        "    # 10% for validation set\n",
        "    split_at = len(x) - len(x) // 10\n",
        "    (x_train, x_test) = x[:split_at], x[split_at:]\n",
        "    (t_train, t_test) = t[:split_at], t[split_at:]\n",
        "\n",
        "    return (x_train, t_train), (x_test, t_test)\n",
        "\n",
        "\n",
        "def get_vocab():\n",
        "    return char_to_id, id_to_char\n"
      ],
      "execution_count": 52,
      "outputs": []
    },
    {
      "cell_type": "code",
      "metadata": {
        "colab": {
          "base_uri": "https://localhost:8080/"
        },
        "id": "5d-MJtWN8803",
        "outputId": "8c80329a-b953-4243-9e94-41610155c719"
      },
      "source": [
        "# Drive Mount in Google Colab\r\n",
        "from google.colab import drive\r\n",
        "drive.mount('/content/drive')"
      ],
      "execution_count": 53,
      "outputs": [
        {
          "output_type": "stream",
          "text": [
            "Drive already mounted at /content/drive; to attempt to forcibly remount, call drive.mount(\"/content/drive\", force_remount=True).\n"
          ],
          "name": "stdout"
        }
      ]
    },
    {
      "cell_type": "code",
      "metadata": {
        "id": "c8R5nGP89HKz"
      },
      "source": [
        "folder = './drive/My Drive/Colab Notebooks/E-certificate/day5/'"
      ],
      "execution_count": 54,
      "outputs": []
    },
    {
      "cell_type": "code",
      "metadata": {
        "id": "3uFQosKWCvFT",
        "scrolled": true
      },
      "source": [
        "(x_train, t_train), (x_test, t_test) = load_sequence(folder+'addition.txt')\n",
        "char_to_id, id_to_char = get_vocab()"
      ],
      "execution_count": 55,
      "outputs": []
    },
    {
      "cell_type": "markdown",
      "metadata": {
        "id": "djem-PB6CvFV"
      },
      "source": [
        "## ネットワーク定義\n",
        "問5. <font color=\"Red\">以下の Seq2seq クラスを完成させてください。</font>\n",
        "\n",
        "  - Encoderクラスは、各時刻での入力を順伝播させた後、最後の時刻に対応する出力をDecoder クラスに渡します。\n",
        "  - Decoderクラスの順伝播では、まずEncoderクラスの出力を内部状態としてセットし、入力系列データを順伝播させていきます。"
      ]
    },
    {
      "cell_type": "code",
      "metadata": {
        "id": "9TZQsu3QCvFV"
      },
      "source": [
        "class Encoder:\n",
        "    def __init__(self, vocab_size, wordvec_size, hidden_size):\n",
        "        V, D, H = vocab_size, wordvec_size, hidden_size\n",
        "        rn = np.random.randn\n",
        "\n",
        "        embed_W = (rn(V, D) / 100).astype('f')\n",
        " \n",
        "        self.embed = TimeEmbedding(embed_W)\n",
        "        self.lstm = TimeLSTM(D, H, stateful=False)\n",
        "\n",
        "        self.params = self.embed.params + self.lstm.params\n",
        "        self.grads = self.embed.grads + self.lstm.grads\n",
        "        self.hs = None\n",
        "\n",
        "    def forward(self, xs):\n",
        "        xs = self.embed.forward(xs)\n",
        "        hs = self.lstm.forward(xs)\n",
        "        self.hs = hs\n",
        "        return hs[:,-1] # [######問4.1######]\n",
        "\n",
        "    def backward(self, dhs):\n",
        "        dout = self.lstm.backward(dhs)\n",
        "        dout = self.embed.backward(dout)\n",
        "        return dout\n",
        "\n",
        "\n",
        "class Decoder:\n",
        "    def __init__(self, vocab_size, wordvec_size, hidden_size):\n",
        "        V, D, H = vocab_size, wordvec_size, hidden_size\n",
        "        rn = np.random.randn\n",
        "\n",
        "        embed_W = (rn(V, D) / 100).astype('f')\n",
        "        affine_W = (rn(H, V) / np.sqrt(H)).astype('f')\n",
        "        affine_b = np.zeros(V).astype('f')\n",
        "\n",
        "        self.embed = TimeEmbedding(embed_W)\n",
        "        self.lstm = TimeLSTM(D, H, stateful=True)\n",
        "        self.affine = TimeAffine(affine_W, affine_b)\n",
        "\n",
        "        self.params, self.grads = [], []\n",
        "        for layer in (self.embed, self.lstm, self.affine):\n",
        "            self.params += layer.params\n",
        "            self.grads += layer.grads\n",
        "\n",
        "    def forward(self, xs, h):\n",
        "        self.lstm.set_state(h) ######問4.2######\n",
        "\n",
        "        out = self.embed.forward(xs)\n",
        "        out = self.lstm.forward(out)\n",
        "        score = self.affine.forward(out)\n",
        "        return score\n",
        "\n",
        "    def backward(self, dscore):\n",
        "        dout = self.affine.backward(dscore)\n",
        "        dout = self.lstm.backward(dout)\n",
        "        dout = self.embed.backward(dout)\n",
        "        dh = self.lstm.dh\n",
        "        return dh\n",
        "\n",
        "class Seq2seq():\n",
        "    def __init__(self, vocab_size, wordvec_size, hidden_size):\n",
        "        V, D, H = vocab_size, wordvec_size, hidden_size\n",
        "        self.encoder = Encoder(V, D, H)\n",
        "        self.decoder = Decoder(V, D, H)\n",
        "        self.softmax = TimeSoftmaxWithLoss()\n",
        "\n",
        "        self.params = self.encoder.params + self.decoder.params\n",
        "        self.grads = self.encoder.grads + self.decoder.grads\n",
        "\n",
        "    def forward(self, xs, ts):\n",
        "        decoder_xs, decoder_ts = ts[:, :-1], ts[:, 1:]\n",
        "\n",
        "        h = self.encoder.forward(xs) \n",
        "        score = self.decoder.forward(decoder_xs, h) \n",
        "        loss = self.softmax.forward(score, decoder_ts) \n",
        "        return loss\n",
        "\n",
        "    def backward(self, dout=1):\n",
        "        dout = self.softmax.backward(dout)\n",
        "        dh = self.decoder.backward(dout)\n",
        "        dout = self.encoder.backward(dh)\n",
        "        return dout\n"
      ],
      "execution_count": 56,
      "outputs": []
    },
    {
      "cell_type": "code",
      "metadata": {
        "id": "xnZqVX0ECvFW"
      },
      "source": [
        "vocab_size = len(char_to_id)\n",
        "wordvec_size = 16\n",
        "hideen_size = 128\n",
        "batch_size = 128\n",
        "max_epoch = 8\n",
        "max_grad = 5.0\n",
        "\n",
        "model = Seq2seq(vocab_size, wordvec_size, hideen_size)\n",
        "optimizer = Adam()\n",
        "\n",
        "data_size = len(x_train)\n",
        "max_iters = data_size // batch_size\n",
        "loss_list = []\n",
        "eval_interval = 50\n",
        "current_epoch = 0"
      ],
      "execution_count": 57,
      "outputs": []
    },
    {
      "cell_type": "markdown",
      "metadata": {
        "id": "gkmNOSrrCvFY"
      },
      "source": [
        "### 学習、評価"
      ]
    },
    {
      "cell_type": "code",
      "metadata": {
        "id": "Shwm9X8OCvFZ",
        "scrolled": true,
        "colab": {
          "base_uri": "https://localhost:8080/"
        },
        "outputId": "2ffe9002-c4b7-4ad6-92a5-55dd9d363dcd"
      },
      "source": [
        "for epoch in range(max_epoch):\n",
        "    # シャッフル\n",
        "    idx = np.random.permutation(np.arange(data_size))\n",
        "    x = x_train[idx]\n",
        "    t = t_train[idx]\n",
        "    for iters in range(max_iters):\n",
        "        batch_x = x[iters*batch_size:(iters+1)*batch_size]\n",
        "        batch_t = t[iters*batch_size:(iters+1)*batch_size]\n",
        "        # 勾配を求め、パラメータを更新\n",
        "        loss = model.forward(batch_x, batch_t)\n",
        "        model.backward()\n",
        "#         params, grads = remove_duplicate(model.params, model.grads)  # 共有された重みを1つに集約\n",
        "        if max_grad is not None:\n",
        "            clip_grads(model.grads, max_grad)\n",
        "        optimizer.update(model.params,model.grads)\n",
        "        total_loss += loss\n",
        "        loss_count += 1\n",
        "        # 評価\n",
        "        if (eval_interval is not None) and (iters % eval_interval) == 0:\n",
        "            avg_loss = total_loss / loss_count\n",
        "            print('| epoch %d |  iter %d / %d | loss %.2f'\n",
        "                  % (current_epoch + 1, iters + 1, max_iters, avg_loss))\n",
        "            loss_list.append(float(avg_loss))\n",
        "            total_loss, loss_count = 0, 0\n",
        "    current_epoch += 1"
      ],
      "execution_count": 58,
      "outputs": [
        {
          "output_type": "stream",
          "text": [
            "| epoch 1 |  iter 1 / 351 | loss 2.57\n",
            "| epoch 1 |  iter 51 / 351 | loss 2.29\n",
            "| epoch 1 |  iter 101 / 351 | loss 1.89\n",
            "| epoch 1 |  iter 151 / 351 | loss 1.81\n",
            "| epoch 1 |  iter 201 / 351 | loss 1.78\n",
            "| epoch 1 |  iter 251 / 351 | loss 1.76\n",
            "| epoch 1 |  iter 301 / 351 | loss 1.75\n",
            "| epoch 1 |  iter 351 / 351 | loss 1.74\n",
            "| epoch 2 |  iter 1 / 351 | loss 1.74\n",
            "| epoch 2 |  iter 51 / 351 | loss 1.73\n",
            "| epoch 2 |  iter 101 / 351 | loss 1.72\n",
            "| epoch 2 |  iter 151 / 351 | loss 1.71\n",
            "| epoch 2 |  iter 201 / 351 | loss 1.70\n",
            "| epoch 2 |  iter 251 / 351 | loss 1.68\n",
            "| epoch 2 |  iter 301 / 351 | loss 1.66\n",
            "| epoch 2 |  iter 351 / 351 | loss 1.65\n",
            "| epoch 3 |  iter 1 / 351 | loss 1.62\n",
            "| epoch 3 |  iter 51 / 351 | loss 1.63\n",
            "| epoch 3 |  iter 101 / 351 | loss 1.60\n",
            "| epoch 3 |  iter 151 / 351 | loss 1.57\n",
            "| epoch 3 |  iter 201 / 351 | loss 1.54\n",
            "| epoch 3 |  iter 251 / 351 | loss 1.50\n",
            "| epoch 3 |  iter 301 / 351 | loss 1.47\n",
            "| epoch 3 |  iter 351 / 351 | loss 1.44\n",
            "| epoch 4 |  iter 1 / 351 | loss 1.45\n",
            "| epoch 4 |  iter 51 / 351 | loss 1.42\n",
            "| epoch 4 |  iter 101 / 351 | loss 1.39\n",
            "| epoch 4 |  iter 151 / 351 | loss 1.37\n",
            "| epoch 4 |  iter 201 / 351 | loss 1.35\n",
            "| epoch 4 |  iter 251 / 351 | loss 1.32\n",
            "| epoch 4 |  iter 301 / 351 | loss 1.31\n",
            "| epoch 4 |  iter 351 / 351 | loss 1.29\n",
            "| epoch 5 |  iter 1 / 351 | loss 1.26\n",
            "| epoch 5 |  iter 51 / 351 | loss 1.28\n",
            "| epoch 5 |  iter 101 / 351 | loss 1.26\n",
            "| epoch 5 |  iter 151 / 351 | loss 1.24\n",
            "| epoch 5 |  iter 201 / 351 | loss 1.22\n",
            "| epoch 5 |  iter 251 / 351 | loss 1.21\n",
            "| epoch 5 |  iter 301 / 351 | loss 1.19\n",
            "| epoch 5 |  iter 351 / 351 | loss 1.18\n",
            "| epoch 6 |  iter 1 / 351 | loss 1.17\n",
            "| epoch 6 |  iter 51 / 351 | loss 1.16\n",
            "| epoch 6 |  iter 101 / 351 | loss 1.16\n",
            "| epoch 6 |  iter 151 / 351 | loss 1.14\n",
            "| epoch 6 |  iter 201 / 351 | loss 1.14\n",
            "| epoch 6 |  iter 251 / 351 | loss 1.12\n",
            "| epoch 6 |  iter 301 / 351 | loss 1.12\n",
            "| epoch 6 |  iter 351 / 351 | loss 1.12\n",
            "| epoch 7 |  iter 1 / 351 | loss 1.10\n",
            "| epoch 7 |  iter 51 / 351 | loss 1.10\n",
            "| epoch 7 |  iter 101 / 351 | loss 1.09\n",
            "| epoch 7 |  iter 151 / 351 | loss 1.08\n",
            "| epoch 7 |  iter 201 / 351 | loss 1.08\n",
            "| epoch 7 |  iter 251 / 351 | loss 1.06\n",
            "| epoch 7 |  iter 301 / 351 | loss 1.05\n",
            "| epoch 7 |  iter 351 / 351 | loss 1.05\n",
            "| epoch 8 |  iter 1 / 351 | loss 1.04\n",
            "| epoch 8 |  iter 51 / 351 | loss 1.08\n",
            "| epoch 8 |  iter 101 / 351 | loss 1.04\n",
            "| epoch 8 |  iter 151 / 351 | loss 1.03\n",
            "| epoch 8 |  iter 201 / 351 | loss 1.03\n",
            "| epoch 8 |  iter 251 / 351 | loss 1.01\n",
            "| epoch 8 |  iter 301 / 351 | loss 1.02\n",
            "| epoch 8 |  iter 351 / 351 | loss 1.03\n"
          ],
          "name": "stdout"
        }
      ]
    },
    {
      "cell_type": "code",
      "metadata": {
        "id": "P5TtdA2_-A05",
        "scrolled": false,
        "colab": {
          "base_uri": "https://localhost:8080/",
          "height": 279
        },
        "outputId": "82cbe880-4e38-45e3-bcb1-c17dcdb7b576"
      },
      "source": [
        "import matplotlib.pyplot as plt\n",
        "plt.plot(range(len(loss_list)), loss_list)\n",
        "plt.xlabel(\"#iter\")\n",
        "plt.ylabel(\"Cross Entropy Loss\")\n",
        "plt.show()"
      ],
      "execution_count": 59,
      "outputs": [
        {
          "output_type": "display_data",
          "data": {
            "image/png": "[encoded data removed]",
            "text/plain": [
              "<Figure size 432x288 with 1 Axes>"
            ]
          },
          "metadata": {
            "tags": [],
            "needs_background": "light"
          }
        }
      ]
    },
    {
      "cell_type": "markdown",
      "metadata": {
        "id": "5m6Hk71s-A1D"
      },
      "source": [
        "\n",
        "## 提出可否"
      ]
    },
    {
      "cell_type": "code",
      "metadata": {
        "id": "dI9k0bSr-A1D",
        "colab": {
          "base_uri": "https://localhost:8080/"
        },
        "outputId": "f283e072-9f83-4720-814c-318369107634"
      },
      "source": [
        "if loss_list[-1] > 1.1:\n",
        "    print(\"Seq2seqの実装に間違いがあります。問4を見直してください。\")\n",
        "else:\n",
        "    print(\"学習成功です。提出してください\")"
      ],
      "execution_count": 60,
      "outputs": [
        {
          "output_type": "stream",
          "text": [
            "学習成功です。提出してください\n"
          ],
          "name": "stdout"
        }
      ]
    }
  ]
}